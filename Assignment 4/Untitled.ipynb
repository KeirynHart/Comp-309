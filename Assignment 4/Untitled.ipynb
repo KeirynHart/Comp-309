{
 "cells": [
  {
   "cell_type": "code",
   "execution_count": 2,
   "metadata": {},
   "outputs": [],
   "source": [
    "%matplotlib inline\n",
    "\n",
    "import pandas as pd\n",
    "import numpy as np\n",
    "import matplotlib.pyplot as plt\n",
    "import seaborn as sns\n",
    "\n",
    "\n",
    "import datetime\n",
    "import random\n",
    "\n",
    "from sklearn.model_selection import train_test_split, cross_val_score, KFold\n",
    "from sklearn.linear_model import LinearRegression\n",
    "from sklearn.metrics import r2_score, mean_squared_error, mean_absolute_error\n",
    "\n",
    "\n",
    "seed = 309\n",
    "random.seed(seed)\n",
    "np.random.seed(seed)"
   ]
  },
  {
   "cell_type": "code",
   "execution_count": 203,
   "metadata": {
    "scrolled": true
   },
   "outputs": [],
   "source": [
    "df = pd.read_csv(\"/Users/keirynhart/Documents/Uni/Comp 309/Assignment 4/data/Part 1 - regression/diamonds.csv\")"
   ]
  },
  {
   "cell_type": "code",
   "execution_count": 204,
   "metadata": {},
   "outputs": [
    {
     "data": {
      "text/html": [
       "<div>\n",
       "<style scoped>\n",
       "    .dataframe tbody tr th:only-of-type {\n",
       "        vertical-align: middle;\n",
       "    }\n",
       "\n",
       "    .dataframe tbody tr th {\n",
       "        vertical-align: top;\n",
       "    }\n",
       "\n",
       "    .dataframe thead th {\n",
       "        text-align: right;\n",
       "    }\n",
       "</style>\n",
       "<table border=\"1\" class=\"dataframe\">\n",
       "  <thead>\n",
       "    <tr style=\"text-align: right;\">\n",
       "      <th></th>\n",
       "      <th>Unnamed: 0</th>\n",
       "      <th>carat</th>\n",
       "      <th>depth</th>\n",
       "      <th>table</th>\n",
       "      <th>x</th>\n",
       "      <th>y</th>\n",
       "      <th>z</th>\n",
       "      <th>price</th>\n",
       "    </tr>\n",
       "  </thead>\n",
       "  <tbody>\n",
       "    <tr>\n",
       "      <th>count</th>\n",
       "      <td>53940.000000</td>\n",
       "      <td>53940.000000</td>\n",
       "      <td>53940.000000</td>\n",
       "      <td>53940.000000</td>\n",
       "      <td>53940.000000</td>\n",
       "      <td>53940.000000</td>\n",
       "      <td>53940.000000</td>\n",
       "      <td>53940.000000</td>\n",
       "    </tr>\n",
       "    <tr>\n",
       "      <th>mean</th>\n",
       "      <td>26970.500000</td>\n",
       "      <td>0.797940</td>\n",
       "      <td>61.749405</td>\n",
       "      <td>57.457184</td>\n",
       "      <td>5.731157</td>\n",
       "      <td>5.734526</td>\n",
       "      <td>3.538734</td>\n",
       "      <td>3932.799722</td>\n",
       "    </tr>\n",
       "    <tr>\n",
       "      <th>std</th>\n",
       "      <td>15571.281097</td>\n",
       "      <td>0.474011</td>\n",
       "      <td>1.432621</td>\n",
       "      <td>2.234491</td>\n",
       "      <td>1.121761</td>\n",
       "      <td>1.142135</td>\n",
       "      <td>0.705699</td>\n",
       "      <td>3989.439738</td>\n",
       "    </tr>\n",
       "    <tr>\n",
       "      <th>min</th>\n",
       "      <td>1.000000</td>\n",
       "      <td>0.200000</td>\n",
       "      <td>43.000000</td>\n",
       "      <td>43.000000</td>\n",
       "      <td>0.000000</td>\n",
       "      <td>0.000000</td>\n",
       "      <td>0.000000</td>\n",
       "      <td>326.000000</td>\n",
       "    </tr>\n",
       "    <tr>\n",
       "      <th>25%</th>\n",
       "      <td>13485.750000</td>\n",
       "      <td>0.400000</td>\n",
       "      <td>61.000000</td>\n",
       "      <td>56.000000</td>\n",
       "      <td>4.710000</td>\n",
       "      <td>4.720000</td>\n",
       "      <td>2.910000</td>\n",
       "      <td>950.000000</td>\n",
       "    </tr>\n",
       "    <tr>\n",
       "      <th>50%</th>\n",
       "      <td>26970.500000</td>\n",
       "      <td>0.700000</td>\n",
       "      <td>61.800000</td>\n",
       "      <td>57.000000</td>\n",
       "      <td>5.700000</td>\n",
       "      <td>5.710000</td>\n",
       "      <td>3.530000</td>\n",
       "      <td>2401.000000</td>\n",
       "    </tr>\n",
       "    <tr>\n",
       "      <th>75%</th>\n",
       "      <td>40455.250000</td>\n",
       "      <td>1.040000</td>\n",
       "      <td>62.500000</td>\n",
       "      <td>59.000000</td>\n",
       "      <td>6.540000</td>\n",
       "      <td>6.540000</td>\n",
       "      <td>4.040000</td>\n",
       "      <td>5324.250000</td>\n",
       "    </tr>\n",
       "    <tr>\n",
       "      <th>max</th>\n",
       "      <td>53940.000000</td>\n",
       "      <td>5.010000</td>\n",
       "      <td>79.000000</td>\n",
       "      <td>95.000000</td>\n",
       "      <td>10.740000</td>\n",
       "      <td>58.900000</td>\n",
       "      <td>31.800000</td>\n",
       "      <td>18823.000000</td>\n",
       "    </tr>\n",
       "  </tbody>\n",
       "</table>\n",
       "</div>"
      ],
      "text/plain": [
       "         Unnamed: 0         carat         depth         table             x  \\\n",
       "count  53940.000000  53940.000000  53940.000000  53940.000000  53940.000000   \n",
       "mean   26970.500000      0.797940     61.749405     57.457184      5.731157   \n",
       "std    15571.281097      0.474011      1.432621      2.234491      1.121761   \n",
       "min        1.000000      0.200000     43.000000     43.000000      0.000000   \n",
       "25%    13485.750000      0.400000     61.000000     56.000000      4.710000   \n",
       "50%    26970.500000      0.700000     61.800000     57.000000      5.700000   \n",
       "75%    40455.250000      1.040000     62.500000     59.000000      6.540000   \n",
       "max    53940.000000      5.010000     79.000000     95.000000     10.740000   \n",
       "\n",
       "                  y             z         price  \n",
       "count  53940.000000  53940.000000  53940.000000  \n",
       "mean       5.734526      3.538734   3932.799722  \n",
       "std        1.142135      0.705699   3989.439738  \n",
       "min        0.000000      0.000000    326.000000  \n",
       "25%        4.720000      2.910000    950.000000  \n",
       "50%        5.710000      3.530000   2401.000000  \n",
       "75%        6.540000      4.040000   5324.250000  \n",
       "max       58.900000     31.800000  18823.000000  "
      ]
     },
     "execution_count": 204,
     "metadata": {},
     "output_type": "execute_result"
    }
   ],
   "source": [
    "df.head()\n",
    "df.describe()"
   ]
  },
  {
   "cell_type": "code",
   "execution_count": 205,
   "metadata": {},
   "outputs": [
    {
     "data": {
      "text/plain": [
       "<matplotlib.axes._subplots.AxesSubplot at 0x7fe19979ded0>"
      ]
     },
     "execution_count": 205,
     "metadata": {},
     "output_type": "execute_result"
    },
    {
     "data": {
      "image/png": "[encoded data removed]",
      "text/plain": [
       "<Figure size 432x288 with 1 Axes>"
      ]
     },
     "metadata": {
      "needs_background": "light"
     },
     "output_type": "display_data"
    }
   ],
   "source": [
    "\n",
    "#sns.barplot(x = \"cut\", y = \"price\", data = df)\n",
    "#sns.barplot(x = \"color\", y = \"price\", data = df)\n",
    "sns.barplot(x = \"clarity\", y = \"price\", data = df)"
   ]
  },
  {
   "cell_type": "code",
   "execution_count": 206,
   "metadata": {},
   "outputs": [
    {
     "name": "stdout",
     "output_type": "stream",
     "text": [
      "<class 'pandas.core.frame.DataFrame'>\n",
      "RangeIndex: 53940 entries, 0 to 53939\n",
      "Data columns (total 11 columns):\n",
      " #   Column      Non-Null Count  Dtype  \n",
      "---  ------      --------------  -----  \n",
      " 0   Unnamed: 0  53940 non-null  int64  \n",
      " 1   carat       53940 non-null  float64\n",
      " 2   cut         53940 non-null  object \n",
      " 3   color       53940 non-null  object \n",
      " 4   clarity     53940 non-null  object \n",
      " 5   depth       53940 non-null  float64\n",
      " 6   table       53940 non-null  float64\n",
      " 7   x           53940 non-null  float64\n",
      " 8   y           53940 non-null  float64\n",
      " 9   z           53940 non-null  float64\n",
      " 10  price       53940 non-null  int64  \n",
      "dtypes: float64(6), int64(2), object(3)\n",
      "memory usage: 4.5+ MB\n"
     ]
    }
   ],
   "source": [
    "df.info()"
   ]
  },
  {
   "cell_type": "code",
   "execution_count": 207,
   "metadata": {},
   "outputs": [],
   "source": [
    "df['cut'] = df['cut'].apply(lambda x: 1 if x=='Fair' else(2 if x=='Good' \n",
    "                                           else(3 if x=='Very Good' \n",
    "                                           else(4 if x=='Premium' else 5))))\n",
    "\n",
    "df['color'] = df['color'].apply(lambda x: 1 if x=='J' else(2 if x=='I'\n",
    "                                          else(3 if x=='H'\n",
    "                                          else(4 if x=='G'\n",
    "                                          else(5 if x=='F'\n",
    "                                          else(6 if x=='E' else 7))))))\n",
    "\n",
    "df['clarity'] = df['clarity'].apply(lambda x: 1 if x=='I1' else(2 if x=='SI2'\n",
    "                                          else(3 if x=='SI1'\n",
    "                                          else(4 if x=='VS2'\n",
    "                                          else(5 if x=='VS1'\n",
    "                                          else(6 if x=='WS2'\n",
    "                                          else 7 if x=='WS1' else 8))))))"
   ]
  },
  {
   "cell_type": "code",
   "execution_count": 208,
   "metadata": {},
   "outputs": [
    {
     "data": {
      "text/plain": [
       "False"
      ]
     },
     "execution_count": 208,
     "metadata": {},
     "output_type": "execute_result"
    }
   ],
   "source": [
    "df.isnull().values.any()"
   ]
  },
  {
   "cell_type": "markdown",
   "metadata": {},
   "source": [
    "There are no missing values in the data"
   ]
  },
  {
   "cell_type": "code",
   "execution_count": 209,
   "metadata": {},
   "outputs": [
    {
     "data": {
      "text/plain": [
       "array([5, 4, 2, 3, 1])"
      ]
     },
     "execution_count": 209,
     "metadata": {},
     "output_type": "execute_result"
    }
   ],
   "source": [
    "df['cut'].unique()"
   ]
  },
  {
   "cell_type": "code",
   "execution_count": 210,
   "metadata": {},
   "outputs": [
    {
     "data": {
      "text/plain": [
       "<matplotlib.axes._subplots.AxesSubplot at 0x7fe19978d410>"
      ]
     },
     "execution_count": 210,
     "metadata": {},
     "output_type": "execute_result"
    },
    {
     "data": {
      "image/png": "[encoded data removed]",
      "text/plain": [
       "<Figure size 432x288 with 2 Axes>"
      ]
     },
     "metadata": {
      "needs_background": "light"
     },
     "output_type": "display_data"
    }
   ],
   "source": [
    "sns.heatmap(df.corr())"
   ]
  },
  {
   "cell_type": "markdown",
   "metadata": {},
   "source": [
    "## Training and Testing split"
   ]
  },
  {
   "cell_type": "code",
   "execution_count": 211,
   "metadata": {},
   "outputs": [],
   "source": [
    "train_data, test_data = train_test_split(df, test_size = 0.3, random_state = seed)"
   ]
  },
  {
   "cell_type": "code",
   "execution_count": 212,
   "metadata": {},
   "outputs": [
    {
     "data": {
      "text/html": [
       "<div>\n",
       "<style scoped>\n",
       "    .dataframe tbody tr th:only-of-type {\n",
       "        vertical-align: middle;\n",
       "    }\n",
       "\n",
       "    .dataframe tbody tr th {\n",
       "        vertical-align: top;\n",
       "    }\n",
       "\n",
       "    .dataframe thead th {\n",
       "        text-align: right;\n",
       "    }\n",
       "</style>\n",
       "<table border=\"1\" class=\"dataframe\">\n",
       "  <thead>\n",
       "    <tr style=\"text-align: right;\">\n",
       "      <th></th>\n",
       "      <th>Unnamed: 0</th>\n",
       "      <th>carat</th>\n",
       "      <th>cut</th>\n",
       "      <th>color</th>\n",
       "      <th>clarity</th>\n",
       "      <th>depth</th>\n",
       "      <th>table</th>\n",
       "      <th>x</th>\n",
       "      <th>y</th>\n",
       "      <th>z</th>\n",
       "      <th>price</th>\n",
       "    </tr>\n",
       "  </thead>\n",
       "  <tbody>\n",
       "    <tr>\n",
       "      <th>count</th>\n",
       "      <td>37758.000000</td>\n",
       "      <td>37758.000000</td>\n",
       "      <td>37758.000000</td>\n",
       "      <td>37758.000000</td>\n",
       "      <td>37758.000000</td>\n",
       "      <td>37758.000000</td>\n",
       "      <td>37758.000000</td>\n",
       "      <td>37758.000000</td>\n",
       "      <td>37758.000000</td>\n",
       "      <td>37758.000000</td>\n",
       "      <td>37758.000000</td>\n",
       "    </tr>\n",
       "    <tr>\n",
       "      <th>mean</th>\n",
       "      <td>26932.728137</td>\n",
       "      <td>0.798166</td>\n",
       "      <td>3.903438</td>\n",
       "      <td>4.412045</td>\n",
       "      <td>4.302717</td>\n",
       "      <td>61.741557</td>\n",
       "      <td>57.458660</td>\n",
       "      <td>5.733020</td>\n",
       "      <td>5.737242</td>\n",
       "      <td>3.539638</td>\n",
       "      <td>3930.603130</td>\n",
       "    </tr>\n",
       "    <tr>\n",
       "      <th>std</th>\n",
       "      <td>15561.556646</td>\n",
       "      <td>0.472857</td>\n",
       "      <td>1.113829</td>\n",
       "      <td>1.700652</td>\n",
       "      <td>2.052403</td>\n",
       "      <td>1.426374</td>\n",
       "      <td>2.240281</td>\n",
       "      <td>1.120184</td>\n",
       "      <td>1.152877</td>\n",
       "      <td>0.708507</td>\n",
       "      <td>3973.019456</td>\n",
       "    </tr>\n",
       "    <tr>\n",
       "      <th>min</th>\n",
       "      <td>3.000000</td>\n",
       "      <td>0.200000</td>\n",
       "      <td>1.000000</td>\n",
       "      <td>1.000000</td>\n",
       "      <td>1.000000</td>\n",
       "      <td>43.000000</td>\n",
       "      <td>43.000000</td>\n",
       "      <td>0.000000</td>\n",
       "      <td>0.000000</td>\n",
       "      <td>0.000000</td>\n",
       "      <td>327.000000</td>\n",
       "    </tr>\n",
       "    <tr>\n",
       "      <th>25%</th>\n",
       "      <td>13448.250000</td>\n",
       "      <td>0.400000</td>\n",
       "      <td>3.000000</td>\n",
       "      <td>3.000000</td>\n",
       "      <td>3.000000</td>\n",
       "      <td>61.000000</td>\n",
       "      <td>56.000000</td>\n",
       "      <td>4.720000</td>\n",
       "      <td>4.720000</td>\n",
       "      <td>2.910000</td>\n",
       "      <td>953.000000</td>\n",
       "    </tr>\n",
       "    <tr>\n",
       "      <th>50%</th>\n",
       "      <td>26890.500000</td>\n",
       "      <td>0.700000</td>\n",
       "      <td>4.000000</td>\n",
       "      <td>4.000000</td>\n",
       "      <td>4.000000</td>\n",
       "      <td>61.800000</td>\n",
       "      <td>57.000000</td>\n",
       "      <td>5.700000</td>\n",
       "      <td>5.710000</td>\n",
       "      <td>3.530000</td>\n",
       "      <td>2409.000000</td>\n",
       "    </tr>\n",
       "    <tr>\n",
       "      <th>75%</th>\n",
       "      <td>40425.750000</td>\n",
       "      <td>1.040000</td>\n",
       "      <td>5.000000</td>\n",
       "      <td>6.000000</td>\n",
       "      <td>5.000000</td>\n",
       "      <td>62.500000</td>\n",
       "      <td>59.000000</td>\n",
       "      <td>6.540000</td>\n",
       "      <td>6.540000</td>\n",
       "      <td>4.040000</td>\n",
       "      <td>5330.000000</td>\n",
       "    </tr>\n",
       "    <tr>\n",
       "      <th>max</th>\n",
       "      <td>53940.000000</td>\n",
       "      <td>5.010000</td>\n",
       "      <td>5.000000</td>\n",
       "      <td>7.000000</td>\n",
       "      <td>8.000000</td>\n",
       "      <td>79.000000</td>\n",
       "      <td>95.000000</td>\n",
       "      <td>10.740000</td>\n",
       "      <td>58.900000</td>\n",
       "      <td>31.800000</td>\n",
       "      <td>18823.000000</td>\n",
       "    </tr>\n",
       "  </tbody>\n",
       "</table>\n",
       "</div>"
      ],
      "text/plain": [
       "         Unnamed: 0         carat           cut         color       clarity  \\\n",
       "count  37758.000000  37758.000000  37758.000000  37758.000000  37758.000000   \n",
       "mean   26932.728137      0.798166      3.903438      4.412045      4.302717   \n",
       "std    15561.556646      0.472857      1.113829      1.700652      2.052403   \n",
       "min        3.000000      0.200000      1.000000      1.000000      1.000000   \n",
       "25%    13448.250000      0.400000      3.000000      3.000000      3.000000   \n",
       "50%    26890.500000      0.700000      4.000000      4.000000      4.000000   \n",
       "75%    40425.750000      1.040000      5.000000      6.000000      5.000000   \n",
       "max    53940.000000      5.010000      5.000000      7.000000      8.000000   \n",
       "\n",
       "              depth         table             x             y             z  \\\n",
       "count  37758.000000  37758.000000  37758.000000  37758.000000  37758.000000   \n",
       "mean      61.741557     57.458660      5.733020      5.737242      3.539638   \n",
       "std        1.426374      2.240281      1.120184      1.152877      0.708507   \n",
       "min       43.000000     43.000000      0.000000      0.000000      0.000000   \n",
       "25%       61.000000     56.000000      4.720000      4.720000      2.910000   \n",
       "50%       61.800000     57.000000      5.700000      5.710000      3.530000   \n",
       "75%       62.500000     59.000000      6.540000      6.540000      4.040000   \n",
       "max       79.000000     95.000000     10.740000     58.900000     31.800000   \n",
       "\n",
       "              price  \n",
       "count  37758.000000  \n",
       "mean    3930.603130  \n",
       "std     3973.019456  \n",
       "min      327.000000  \n",
       "25%      953.000000  \n",
       "50%     2409.000000  \n",
       "75%     5330.000000  \n",
       "max    18823.000000  "
      ]
     },
     "execution_count": 212,
     "metadata": {},
     "output_type": "execute_result"
    }
   ],
   "source": [
    "train_data.describe()"
   ]
  },
  {
   "cell_type": "code",
   "execution_count": 213,
   "metadata": {},
   "outputs": [
    {
     "data": {
      "text/html": [
       "<div>\n",
       "<style scoped>\n",
       "    .dataframe tbody tr th:only-of-type {\n",
       "        vertical-align: middle;\n",
       "    }\n",
       "\n",
       "    .dataframe tbody tr th {\n",
       "        vertical-align: top;\n",
       "    }\n",
       "\n",
       "    .dataframe thead th {\n",
       "        text-align: right;\n",
       "    }\n",
       "</style>\n",
       "<table border=\"1\" class=\"dataframe\">\n",
       "  <thead>\n",
       "    <tr style=\"text-align: right;\">\n",
       "      <th></th>\n",
       "      <th>Unnamed: 0</th>\n",
       "      <th>carat</th>\n",
       "      <th>cut</th>\n",
       "      <th>color</th>\n",
       "      <th>clarity</th>\n",
       "      <th>depth</th>\n",
       "      <th>table</th>\n",
       "      <th>x</th>\n",
       "      <th>y</th>\n",
       "      <th>z</th>\n",
       "      <th>price</th>\n",
       "    </tr>\n",
       "  </thead>\n",
       "  <tbody>\n",
       "    <tr>\n",
       "      <th>count</th>\n",
       "      <td>16182.000000</td>\n",
       "      <td>16182.000000</td>\n",
       "      <td>16182.000000</td>\n",
       "      <td>16182.000000</td>\n",
       "      <td>16182.000000</td>\n",
       "      <td>16182.000000</td>\n",
       "      <td>16182.000000</td>\n",
       "      <td>16182.000000</td>\n",
       "      <td>16182.000000</td>\n",
       "      <td>16182.000000</td>\n",
       "      <td>16182.000000</td>\n",
       "    </tr>\n",
       "    <tr>\n",
       "      <th>mean</th>\n",
       "      <td>27058.634347</td>\n",
       "      <td>0.797413</td>\n",
       "      <td>3.905636</td>\n",
       "      <td>4.391237</td>\n",
       "      <td>4.315721</td>\n",
       "      <td>61.767717</td>\n",
       "      <td>57.453739</td>\n",
       "      <td>5.726811</td>\n",
       "      <td>5.728189</td>\n",
       "      <td>3.536623</td>\n",
       "      <td>3937.925102</td>\n",
       "    </tr>\n",
       "    <tr>\n",
       "      <th>std</th>\n",
       "      <td>15594.073336</td>\n",
       "      <td>0.476709</td>\n",
       "      <td>1.123071</td>\n",
       "      <td>1.702125</td>\n",
       "      <td>2.061084</td>\n",
       "      <td>1.446973</td>\n",
       "      <td>2.220987</td>\n",
       "      <td>1.125455</td>\n",
       "      <td>1.116677</td>\n",
       "      <td>0.699120</td>\n",
       "      <td>4027.612178</td>\n",
       "    </tr>\n",
       "    <tr>\n",
       "      <th>min</th>\n",
       "      <td>1.000000</td>\n",
       "      <td>0.200000</td>\n",
       "      <td>1.000000</td>\n",
       "      <td>1.000000</td>\n",
       "      <td>1.000000</td>\n",
       "      <td>50.800000</td>\n",
       "      <td>50.100000</td>\n",
       "      <td>0.000000</td>\n",
       "      <td>0.000000</td>\n",
       "      <td>0.000000</td>\n",
       "      <td>326.000000</td>\n",
       "    </tr>\n",
       "    <tr>\n",
       "      <th>25%</th>\n",
       "      <td>13626.750000</td>\n",
       "      <td>0.400000</td>\n",
       "      <td>3.000000</td>\n",
       "      <td>3.000000</td>\n",
       "      <td>3.000000</td>\n",
       "      <td>61.100000</td>\n",
       "      <td>56.000000</td>\n",
       "      <td>4.702500</td>\n",
       "      <td>4.720000</td>\n",
       "      <td>2.910000</td>\n",
       "      <td>947.000000</td>\n",
       "    </tr>\n",
       "    <tr>\n",
       "      <th>50%</th>\n",
       "      <td>27138.000000</td>\n",
       "      <td>0.700000</td>\n",
       "      <td>4.000000</td>\n",
       "      <td>4.000000</td>\n",
       "      <td>4.000000</td>\n",
       "      <td>61.800000</td>\n",
       "      <td>57.000000</td>\n",
       "      <td>5.690000</td>\n",
       "      <td>5.700000</td>\n",
       "      <td>3.520000</td>\n",
       "      <td>2394.000000</td>\n",
       "    </tr>\n",
       "    <tr>\n",
       "      <th>75%</th>\n",
       "      <td>40520.250000</td>\n",
       "      <td>1.040000</td>\n",
       "      <td>5.000000</td>\n",
       "      <td>6.000000</td>\n",
       "      <td>5.000000</td>\n",
       "      <td>62.500000</td>\n",
       "      <td>59.000000</td>\n",
       "      <td>6.540000</td>\n",
       "      <td>6.540000</td>\n",
       "      <td>4.040000</td>\n",
       "      <td>5314.750000</td>\n",
       "    </tr>\n",
       "    <tr>\n",
       "      <th>max</th>\n",
       "      <td>53939.000000</td>\n",
       "      <td>4.000000</td>\n",
       "      <td>5.000000</td>\n",
       "      <td>7.000000</td>\n",
       "      <td>8.000000</td>\n",
       "      <td>79.000000</td>\n",
       "      <td>73.000000</td>\n",
       "      <td>10.010000</td>\n",
       "      <td>9.940000</td>\n",
       "      <td>6.310000</td>\n",
       "      <td>18804.000000</td>\n",
       "    </tr>\n",
       "  </tbody>\n",
       "</table>\n",
       "</div>"
      ],
      "text/plain": [
       "         Unnamed: 0         carat           cut         color       clarity  \\\n",
       "count  16182.000000  16182.000000  16182.000000  16182.000000  16182.000000   \n",
       "mean   27058.634347      0.797413      3.905636      4.391237      4.315721   \n",
       "std    15594.073336      0.476709      1.123071      1.702125      2.061084   \n",
       "min        1.000000      0.200000      1.000000      1.000000      1.000000   \n",
       "25%    13626.750000      0.400000      3.000000      3.000000      3.000000   \n",
       "50%    27138.000000      0.700000      4.000000      4.000000      4.000000   \n",
       "75%    40520.250000      1.040000      5.000000      6.000000      5.000000   \n",
       "max    53939.000000      4.000000      5.000000      7.000000      8.000000   \n",
       "\n",
       "              depth         table             x             y             z  \\\n",
       "count  16182.000000  16182.000000  16182.000000  16182.000000  16182.000000   \n",
       "mean      61.767717     57.453739      5.726811      5.728189      3.536623   \n",
       "std        1.446973      2.220987      1.125455      1.116677      0.699120   \n",
       "min       50.800000     50.100000      0.000000      0.000000      0.000000   \n",
       "25%       61.100000     56.000000      4.702500      4.720000      2.910000   \n",
       "50%       61.800000     57.000000      5.690000      5.700000      3.520000   \n",
       "75%       62.500000     59.000000      6.540000      6.540000      4.040000   \n",
       "max       79.000000     73.000000     10.010000      9.940000      6.310000   \n",
       "\n",
       "              price  \n",
       "count  16182.000000  \n",
       "mean    3937.925102  \n",
       "std     4027.612178  \n",
       "min      326.000000  \n",
       "25%      947.000000  \n",
       "50%     2394.000000  \n",
       "75%     5314.750000  \n",
       "max    18804.000000  "
      ]
     },
     "execution_count": 213,
     "metadata": {},
     "output_type": "execute_result"
    }
   ],
   "source": [
    "test_data.describe()"
   ]
  },
  {
   "cell_type": "code",
   "execution_count": 214,
   "metadata": {},
   "outputs": [],
   "source": [
    "train_labels = train_data['price']"
   ]
  },
  {
   "cell_type": "code",
   "execution_count": 215,
   "metadata": {},
   "outputs": [
    {
     "data": {
      "text/plain": [
       "36878      958\n",
       "18820     7708\n",
       "53406     2668\n",
       "25954    15134\n",
       "13825     5633\n",
       "Name: price, dtype: int64"
      ]
     },
     "execution_count": 215,
     "metadata": {},
     "output_type": "execute_result"
    }
   ],
   "source": [
    "train_labels.head()"
   ]
  },
  {
   "cell_type": "code",
   "execution_count": 216,
   "metadata": {},
   "outputs": [],
   "source": [
    "#copy\n",
    "train_data_full = train_data.copy()\n",
    "\n",
    "train_data = train_data.drop(['price'], axis = 1)"
   ]
  },
  {
   "cell_type": "code",
   "execution_count": 217,
   "metadata": {},
   "outputs": [
    {
     "data": {
      "text/html": [
       "<div>\n",
       "<style scoped>\n",
       "    .dataframe tbody tr th:only-of-type {\n",
       "        vertical-align: middle;\n",
       "    }\n",
       "\n",
       "    .dataframe tbody tr th {\n",
       "        vertical-align: top;\n",
       "    }\n",
       "\n",
       "    .dataframe thead th {\n",
       "        text-align: right;\n",
       "    }\n",
       "</style>\n",
       "<table border=\"1\" class=\"dataframe\">\n",
       "  <thead>\n",
       "    <tr style=\"text-align: right;\">\n",
       "      <th></th>\n",
       "      <th>Unnamed: 0</th>\n",
       "      <th>carat</th>\n",
       "      <th>cut</th>\n",
       "      <th>color</th>\n",
       "      <th>clarity</th>\n",
       "      <th>depth</th>\n",
       "      <th>table</th>\n",
       "      <th>x</th>\n",
       "      <th>y</th>\n",
       "      <th>z</th>\n",
       "    </tr>\n",
       "  </thead>\n",
       "  <tbody>\n",
       "    <tr>\n",
       "      <th>36878</th>\n",
       "      <td>36879</td>\n",
       "      <td>0.42</td>\n",
       "      <td>5</td>\n",
       "      <td>6</td>\n",
       "      <td>4</td>\n",
       "      <td>61.7</td>\n",
       "      <td>56.0</td>\n",
       "      <td>4.80</td>\n",
       "      <td>4.82</td>\n",
       "      <td>2.97</td>\n",
       "    </tr>\n",
       "    <tr>\n",
       "      <th>18820</th>\n",
       "      <td>18821</td>\n",
       "      <td>1.03</td>\n",
       "      <td>5</td>\n",
       "      <td>4</td>\n",
       "      <td>8</td>\n",
       "      <td>61.7</td>\n",
       "      <td>56.0</td>\n",
       "      <td>6.45</td>\n",
       "      <td>6.56</td>\n",
       "      <td>4.00</td>\n",
       "    </tr>\n",
       "    <tr>\n",
       "      <th>53406</th>\n",
       "      <td>53407</td>\n",
       "      <td>0.82</td>\n",
       "      <td>5</td>\n",
       "      <td>6</td>\n",
       "      <td>2</td>\n",
       "      <td>62.1</td>\n",
       "      <td>55.0</td>\n",
       "      <td>6.04</td>\n",
       "      <td>6.01</td>\n",
       "      <td>3.74</td>\n",
       "    </tr>\n",
       "    <tr>\n",
       "      <th>25954</th>\n",
       "      <td>25955</td>\n",
       "      <td>1.40</td>\n",
       "      <td>5</td>\n",
       "      <td>4</td>\n",
       "      <td>8</td>\n",
       "      <td>60.8</td>\n",
       "      <td>57.0</td>\n",
       "      <td>7.21</td>\n",
       "      <td>7.23</td>\n",
       "      <td>4.39</td>\n",
       "    </tr>\n",
       "    <tr>\n",
       "      <th>13825</th>\n",
       "      <td>13826</td>\n",
       "      <td>1.00</td>\n",
       "      <td>3</td>\n",
       "      <td>6</td>\n",
       "      <td>4</td>\n",
       "      <td>63.5</td>\n",
       "      <td>56.0</td>\n",
       "      <td>6.37</td>\n",
       "      <td>6.32</td>\n",
       "      <td>4.03</td>\n",
       "    </tr>\n",
       "  </tbody>\n",
       "</table>\n",
       "</div>"
      ],
      "text/plain": [
       "       Unnamed: 0  carat  cut  color  clarity  depth  table     x     y     z\n",
       "36878       36879   0.42    5      6        4   61.7   56.0  4.80  4.82  2.97\n",
       "18820       18821   1.03    5      4        8   61.7   56.0  6.45  6.56  4.00\n",
       "53406       53407   0.82    5      6        2   62.1   55.0  6.04  6.01  3.74\n",
       "25954       25955   1.40    5      4        8   60.8   57.0  7.21  7.23  4.39\n",
       "13825       13826   1.00    3      6        4   63.5   56.0  6.37  6.32  4.03"
      ]
     },
     "execution_count": 217,
     "metadata": {},
     "output_type": "execute_result"
    }
   ],
   "source": [
    "#drop price\n",
    "train_data.head()"
   ]
  },
  {
   "cell_type": "code",
   "execution_count": 218,
   "metadata": {},
   "outputs": [],
   "source": [
    "#copy\n",
    "test_data_full = test_data.copy()\n",
    "\n",
    "\n",
    "#drop price\n",
    "test_data = test_data.drop(['price'], axis = 1)"
   ]
  },
  {
   "cell_type": "code",
   "execution_count": 219,
   "metadata": {},
   "outputs": [],
   "source": [
    "test_labels = test_data_full[\"price\"]"
   ]
  },
  {
   "cell_type": "code",
   "execution_count": 220,
   "metadata": {},
   "outputs": [
    {
     "data": {
      "text/html": [
       "<div>\n",
       "<style scoped>\n",
       "    .dataframe tbody tr th:only-of-type {\n",
       "        vertical-align: middle;\n",
       "    }\n",
       "\n",
       "    .dataframe tbody tr th {\n",
       "        vertical-align: top;\n",
       "    }\n",
       "\n",
       "    .dataframe thead th {\n",
       "        text-align: right;\n",
       "    }\n",
       "</style>\n",
       "<table border=\"1\" class=\"dataframe\">\n",
       "  <thead>\n",
       "    <tr style=\"text-align: right;\">\n",
       "      <th></th>\n",
       "      <th>Unnamed: 0</th>\n",
       "      <th>carat</th>\n",
       "      <th>cut</th>\n",
       "      <th>color</th>\n",
       "      <th>clarity</th>\n",
       "      <th>depth</th>\n",
       "      <th>table</th>\n",
       "      <th>x</th>\n",
       "      <th>y</th>\n",
       "      <th>z</th>\n",
       "    </tr>\n",
       "  </thead>\n",
       "  <tbody>\n",
       "    <tr>\n",
       "      <th>48107</th>\n",
       "      <td>48108</td>\n",
       "      <td>0.50</td>\n",
       "      <td>5</td>\n",
       "      <td>4</td>\n",
       "      <td>8</td>\n",
       "      <td>60.5</td>\n",
       "      <td>55.0</td>\n",
       "      <td>5.15</td>\n",
       "      <td>5.13</td>\n",
       "      <td>3.11</td>\n",
       "    </tr>\n",
       "    <tr>\n",
       "      <th>38948</th>\n",
       "      <td>38949</td>\n",
       "      <td>0.31</td>\n",
       "      <td>2</td>\n",
       "      <td>2</td>\n",
       "      <td>5</td>\n",
       "      <td>63.8</td>\n",
       "      <td>56.0</td>\n",
       "      <td>4.27</td>\n",
       "      <td>4.32</td>\n",
       "      <td>2.74</td>\n",
       "    </tr>\n",
       "    <tr>\n",
       "      <th>9301</th>\n",
       "      <td>9302</td>\n",
       "      <td>1.00</td>\n",
       "      <td>2</td>\n",
       "      <td>6</td>\n",
       "      <td>3</td>\n",
       "      <td>63.9</td>\n",
       "      <td>57.0</td>\n",
       "      <td>6.31</td>\n",
       "      <td>6.34</td>\n",
       "      <td>4.04</td>\n",
       "    </tr>\n",
       "    <tr>\n",
       "      <th>9206</th>\n",
       "      <td>9207</td>\n",
       "      <td>1.26</td>\n",
       "      <td>1</td>\n",
       "      <td>2</td>\n",
       "      <td>2</td>\n",
       "      <td>64.8</td>\n",
       "      <td>57.0</td>\n",
       "      <td>6.73</td>\n",
       "      <td>6.69</td>\n",
       "      <td>4.35</td>\n",
       "    </tr>\n",
       "    <tr>\n",
       "      <th>53638</th>\n",
       "      <td>53639</td>\n",
       "      <td>0.30</td>\n",
       "      <td>5</td>\n",
       "      <td>7</td>\n",
       "      <td>3</td>\n",
       "      <td>61.0</td>\n",
       "      <td>57.0</td>\n",
       "      <td>4.29</td>\n",
       "      <td>4.33</td>\n",
       "      <td>2.63</td>\n",
       "    </tr>\n",
       "  </tbody>\n",
       "</table>\n",
       "</div>"
      ],
      "text/plain": [
       "       Unnamed: 0  carat  cut  color  clarity  depth  table     x     y     z\n",
       "48107       48108   0.50    5      4        8   60.5   55.0  5.15  5.13  3.11\n",
       "38948       38949   0.31    2      2        5   63.8   56.0  4.27  4.32  2.74\n",
       "9301         9302   1.00    2      6        3   63.9   57.0  6.31  6.34  4.04\n",
       "9206         9207   1.26    1      2        2   64.8   57.0  6.73  6.69  4.35\n",
       "53638       53639   0.30    5      7        3   61.0   57.0  4.29  4.33  2.63"
      ]
     },
     "execution_count": 220,
     "metadata": {},
     "output_type": "execute_result"
    }
   ],
   "source": [
    "test_data.head()"
   ]
  },
  {
   "cell_type": "code",
   "execution_count": 221,
   "metadata": {},
   "outputs": [],
   "source": [
    "#standardizing the data:\n",
    "\n",
    "#train_mean = train_data.mean()\n",
    "#train_std = train_data.std()\n",
    "#train_data[] = (train_data - train_mean)/train_std\n",
    "#test_data = (test_data - train_mean)/train_std\n",
    "\n"
   ]
  },
  {
   "cell_type": "markdown",
   "metadata": {},
   "source": [
    "# Linear regression:"
   ]
  },
  {
   "cell_type": "code",
   "execution_count": 222,
   "metadata": {},
   "outputs": [
    {
     "data": {
      "text/plain": [
       "LinearRegression(copy_X=True, fit_intercept=True, n_jobs=None, normalize=False)"
      ]
     },
     "execution_count": 222,
     "metadata": {},
     "output_type": "execute_result"
    }
   ],
   "source": [
    "lr = LinearRegression()\n",
    "lr.fit(train_data, train_labels)"
   ]
  },
  {
   "cell_type": "code",
   "execution_count": 223,
   "metadata": {},
   "outputs": [],
   "source": [
    "y_pred = lr.predict(test_data)"
   ]
  },
  {
   "cell_type": "code",
   "execution_count": 224,
   "metadata": {},
   "outputs": [
    {
     "name": "stdout",
     "output_type": "stream",
     "text": [
      "coefficients:  [ 5.11432796e-03  1.06524125e+04  1.27265673e+02  3.06160702e+02\n",
      "  3.72835470e+02 -8.06752989e+01 -2.81078165e+01 -8.33539554e+02\n",
      "  2.48995494e+01 -1.91907434e+01]\n",
      "intercept:  3138.5246568301427\n"
     ]
    }
   ],
   "source": [
    "coef = lr.coef_\n",
    "intercept = lr.intercept_\n",
    "\n",
    "print(\"coefficients: \", coef)\n",
    "print(\"intercept: \", intercept)"
   ]
  },
  {
   "cell_type": "code",
   "execution_count": 225,
   "metadata": {},
   "outputs": [
    {
     "data": {
      "text/plain": [
       "0.9011389203689332"
      ]
     },
     "execution_count": 225,
     "metadata": {},
     "output_type": "execute_result"
    }
   ],
   "source": [
    "lr.score(test_data, test_labels)"
   ]
  },
  {
   "cell_type": "code",
   "execution_count": 226,
   "metadata": {},
   "outputs": [
    {
     "name": "stdout",
     "output_type": "stream",
     "text": [
      "MSE:  1603591.70\n",
      "RMSE: 1266.33\n",
      "r2:  0.90\n",
      "MAE:  824.08\n"
     ]
    }
   ],
   "source": [
    "lr_mse = mean_squared_error(test_labels, y_pred)\n",
    "lr_r2 = lr.score(test_data, test_labels)\n",
    "lr_mae = mean_absolute_error(test_labels, y_pred)\n",
    "\n",
    "print(\"MSE: \", \"%.2f\" % lr_mse)\n",
    "print(\"RMSE: {error}\".format(error = \"%.2f\" % np.sqrt(lr_mse)))\n",
    "print(\"r2: \", \"%.2f\" % lr_r2)\n",
    "print(\"MAE: \", \"%.2f\" % lr_mae)"
   ]
  },
  {
   "cell_type": "code",
   "execution_count": null,
   "metadata": {},
   "outputs": [],
   "source": []
  },
  {
   "cell_type": "markdown",
   "metadata": {},
   "source": [
    "# K-neighbours regression:"
   ]
  },
  {
   "cell_type": "code",
   "execution_count": 227,
   "metadata": {},
   "outputs": [],
   "source": [
    "from sklearn.neighbors import KNeighborsRegressor"
   ]
  },
  {
   "cell_type": "code",
   "execution_count": 228,
   "metadata": {},
   "outputs": [],
   "source": [
    "kn = KNeighborsRegressor(n_neighbors = 2)"
   ]
  },
  {
   "cell_type": "code",
   "execution_count": 229,
   "metadata": {},
   "outputs": [
    {
     "data": {
      "text/plain": [
       "KNeighborsRegressor(algorithm='auto', leaf_size=30, metric='minkowski',\n",
       "                    metric_params=None, n_jobs=None, n_neighbors=2, p=2,\n",
       "                    weights='uniform')"
      ]
     },
     "execution_count": 229,
     "metadata": {},
     "output_type": "execute_result"
    }
   ],
   "source": [
    "kn.fit(train_data, train_labels)"
   ]
  },
  {
   "cell_type": "code",
   "execution_count": 230,
   "metadata": {},
   "outputs": [],
   "source": [
    "y_pred1 = kn.predict(test_data)"
   ]
  },
  {
   "cell_type": "code",
   "execution_count": null,
   "metadata": {},
   "outputs": [],
   "source": []
  },
  {
   "cell_type": "code",
   "execution_count": 231,
   "metadata": {},
   "outputs": [
    {
     "data": {
      "text/plain": [
       "0.9965265167124359"
      ]
     },
     "execution_count": 231,
     "metadata": {},
     "output_type": "execute_result"
    }
   ],
   "source": [
    "kn.score(test_data, test_labels)"
   ]
  },
  {
   "cell_type": "code",
   "execution_count": 232,
   "metadata": {},
   "outputs": [
    {
     "name": "stdout",
     "output_type": "stream",
     "text": [
      "MSE:  56342.18\n",
      "RMSE: 237.37\n",
      "r2:  0.997\n",
      "MAE:  17.64\n"
     ]
    }
   ],
   "source": [
    "kn_mse = mean_squared_error(test_labels, y_pred1)\n",
    "kn_r2 = kn.score(test_data, test_labels)\n",
    "kn_mae = mean_absolute_error(test_labels, y_pred1)\n",
    "\n",
    "print(\"MSE: \", \"%.2f\" % kn_mse)\n",
    "print(\"RMSE: {error}\".format(error = \"%.2f\" % np.sqrt(kn_mse)))\n",
    "print(\"r2: \", \"%.3f\" % kn_r2)\n",
    "print(\"MAE: \", \"%.2f\" % kn_mae)"
   ]
  },
  {
   "cell_type": "markdown",
   "metadata": {},
   "source": [
    "# Ridge Regression:\n"
   ]
  },
  {
   "cell_type": "code",
   "execution_count": 233,
   "metadata": {},
   "outputs": [],
   "source": [
    "from sklearn.linear_model import Ridge"
   ]
  },
  {
   "cell_type": "code",
   "execution_count": 234,
   "metadata": {},
   "outputs": [],
   "source": [
    "ridge = Ridge()"
   ]
  },
  {
   "cell_type": "code",
   "execution_count": 235,
   "metadata": {},
   "outputs": [
    {
     "data": {
      "text/plain": [
       "Ridge(alpha=1.0, copy_X=True, fit_intercept=True, max_iter=None,\n",
       "      normalize=False, random_state=None, solver='auto', tol=0.001)"
      ]
     },
     "execution_count": 235,
     "metadata": {},
     "output_type": "execute_result"
    }
   ],
   "source": [
    "ridge.fit(train_data, train_labels)"
   ]
  },
  {
   "cell_type": "code",
   "execution_count": 236,
   "metadata": {},
   "outputs": [],
   "source": [
    "y_pred2 = ridge.predict(test_data)"
   ]
  },
  {
   "cell_type": "code",
   "execution_count": 237,
   "metadata": {},
   "outputs": [
    {
     "data": {
      "text/plain": [
       "0.9011394321341812"
      ]
     },
     "execution_count": 237,
     "metadata": {},
     "output_type": "execute_result"
    }
   ],
   "source": [
    "ridge.score(test_data, test_labels)"
   ]
  },
  {
   "cell_type": "code",
   "execution_count": 238,
   "metadata": {},
   "outputs": [
    {
     "name": "stdout",
     "output_type": "stream",
     "text": [
      "MSE:  1603583.40\n",
      "RMSE: 1266.33\n",
      "r2:  0.90\n",
      "MAE:  824.54\n"
     ]
    }
   ],
   "source": [
    "ridge_mse = mean_squared_error(test_labels, y_pred2) \n",
    "ridge_r2 = ridge.score(test_data, test_labels)\n",
    "ridge_mae = mean_absolute_error(test_labels, y_pred2)\n",
    "\n",
    "print(\"MSE: \", \"%.2f\" % ridge_mse)\n",
    "print(\"RMSE: {error}\".format(error = \"%.2f\" % np.sqrt(ridge_mse)))\n",
    "print(\"r2: \", \"%.2f\" % ridge_r2)\n",
    "print(\"MAE: \", \"%.2f\" % ridge_mae)"
   ]
  },
  {
   "cell_type": "markdown",
   "metadata": {},
   "source": [
    "# decision Tree Regression:\n"
   ]
  },
  {
   "cell_type": "code",
   "execution_count": 239,
   "metadata": {},
   "outputs": [],
   "source": [
    "from sklearn.tree import DecisionTreeRegressor"
   ]
  },
  {
   "cell_type": "code",
   "execution_count": 240,
   "metadata": {},
   "outputs": [],
   "source": [
    "tree = DecisionTreeRegressor(max_depth=2)"
   ]
  },
  {
   "cell_type": "code",
   "execution_count": 241,
   "metadata": {},
   "outputs": [
    {
     "data": {
      "text/plain": [
       "DecisionTreeRegressor(ccp_alpha=0.0, criterion='mse', max_depth=2,\n",
       "                      max_features=None, max_leaf_nodes=None,\n",
       "                      min_impurity_decrease=0.0, min_impurity_split=None,\n",
       "                      min_samples_leaf=1, min_samples_split=2,\n",
       "                      min_weight_fraction_leaf=0.0, presort='deprecated',\n",
       "                      random_state=None, splitter='best')"
      ]
     },
     "execution_count": 241,
     "metadata": {},
     "output_type": "execute_result"
    }
   ],
   "source": [
    "tree.fit(train_data, train_labels)"
   ]
  },
  {
   "cell_type": "code",
   "execution_count": 242,
   "metadata": {},
   "outputs": [],
   "source": [
    "y_pred3 = tree.predict(test_data)"
   ]
  },
  {
   "cell_type": "code",
   "execution_count": 243,
   "metadata": {},
   "outputs": [
    {
     "data": {
      "text/plain": [
       "0.8840113374537295"
      ]
     },
     "execution_count": 243,
     "metadata": {},
     "output_type": "execute_result"
    }
   ],
   "source": [
    "tree.score(test_data, test_labels)"
   ]
  },
  {
   "cell_type": "code",
   "execution_count": 244,
   "metadata": {},
   "outputs": [
    {
     "name": "stdout",
     "output_type": "stream",
     "text": [
      "MSE:  1881412.36\n",
      "RMSE: 1371.65\n",
      "r2:  0.88\n",
      "MAE:  915.17\n"
     ]
    }
   ],
   "source": [
    "tree_mse = mean_squared_error(test_labels, y_pred3)  \n",
    "tree_r2 = tree.score(test_data, test_labels)\n",
    "tree_mae = mean_absolute_error(test_labels, y_pred3)\n",
    "\n",
    "print(\"MSE: \", \"%.2f\" % tree_mse)\n",
    "print(\"RMSE: {error}\".format(error = \"%.2f\" % np.sqrt(tree_mse)))\n",
    "print(\"r2: \", \"%.2f\" % tree_r2)\n",
    "print(\"MAE: \", \"%.2f\" % tree_mae)"
   ]
  },
  {
   "cell_type": "markdown",
   "metadata": {},
   "source": [
    "# Random Forest Regression:\n"
   ]
  },
  {
   "cell_type": "code",
   "execution_count": 245,
   "metadata": {},
   "outputs": [],
   "source": [
    "from sklearn.ensemble import RandomForestRegressor"
   ]
  },
  {
   "cell_type": "code",
   "execution_count": 246,
   "metadata": {},
   "outputs": [],
   "source": [
    "rf = RandomForestRegressor(max_depth=2, random_state=0)"
   ]
  },
  {
   "cell_type": "code",
   "execution_count": 247,
   "metadata": {},
   "outputs": [
    {
     "data": {
      "text/plain": [
       "RandomForestRegressor(bootstrap=True, ccp_alpha=0.0, criterion='mse',\n",
       "                      max_depth=2, max_features='auto', max_leaf_nodes=None,\n",
       "                      max_samples=None, min_impurity_decrease=0.0,\n",
       "                      min_impurity_split=None, min_samples_leaf=1,\n",
       "                      min_samples_split=2, min_weight_fraction_leaf=0.0,\n",
       "                      n_estimators=100, n_jobs=None, oob_score=False,\n",
       "                      random_state=0, verbose=0, warm_start=False)"
      ]
     },
     "execution_count": 247,
     "metadata": {},
     "output_type": "execute_result"
    }
   ],
   "source": [
    "rf.fit(train_data, train_labels)"
   ]
  },
  {
   "cell_type": "code",
   "execution_count": 248,
   "metadata": {},
   "outputs": [],
   "source": [
    "y_pred4 = rf.predict(test_data)"
   ]
  },
  {
   "cell_type": "code",
   "execution_count": 249,
   "metadata": {},
   "outputs": [
    {
     "data": {
      "text/plain": [
       "0.8875460140393663"
      ]
     },
     "execution_count": 249,
     "metadata": {},
     "output_type": "execute_result"
    }
   ],
   "source": [
    "rf.score(test_data, test_labels)"
   ]
  },
  {
   "cell_type": "code",
   "execution_count": 251,
   "metadata": {},
   "outputs": [
    {
     "name": "stdout",
     "output_type": "stream",
     "text": [
      "MSE:  1824077.58\n",
      "RMSE: 1350.58\n",
      "r2:  0.89\n",
      "MAE:  901.43\n"
     ]
    }
   ],
   "source": [
    "rf_mse = mean_squared_error(test_labels, y_pred4)  \n",
    "rf_r2 = rf.score(test_data, test_labels)\n",
    "rf_mae = mean_absolute_error(test_labels, y_pred4)\n",
    "\n",
    "print(\"MSE: \", \"%.2f\" % rf_mse)\n",
    "print(\"RMSE: {error}\".format(error = \"%.2f\" % np.sqrt(rf_mse)))\n",
    "print(\"r2: \", \"%.2f\" % rf_r2)\n",
    "print(\"MAE: \", \"%.2f\" % rf_mae)"
   ]
  },
  {
   "cell_type": "markdown",
   "metadata": {},
   "source": [
    "# Gradient Boost Regression:"
   ]
  },
  {
   "cell_type": "code",
   "execution_count": 252,
   "metadata": {},
   "outputs": [],
   "source": [
    "from sklearn.ensemble import GradientBoostingRegressor"
   ]
  },
  {
   "cell_type": "code",
   "execution_count": 253,
   "metadata": {},
   "outputs": [],
   "source": [
    "gradient = GradientBoostingRegressor()"
   ]
  },
  {
   "cell_type": "code",
   "execution_count": 254,
   "metadata": {},
   "outputs": [
    {
     "data": {
      "text/plain": [
       "GradientBoostingRegressor(alpha=0.9, ccp_alpha=0.0, criterion='friedman_mse',\n",
       "                          init=None, learning_rate=0.1, loss='ls', max_depth=3,\n",
       "                          max_features=None, max_leaf_nodes=None,\n",
       "                          min_impurity_decrease=0.0, min_impurity_split=None,\n",
       "                          min_samples_leaf=1, min_samples_split=2,\n",
       "                          min_weight_fraction_leaf=0.0, n_estimators=100,\n",
       "                          n_iter_no_change=None, presort='deprecated',\n",
       "                          random_state=None, subsample=1.0, tol=0.0001,\n",
       "                          validation_fraction=0.1, verbose=0, warm_start=False)"
      ]
     },
     "execution_count": 254,
     "metadata": {},
     "output_type": "execute_result"
    }
   ],
   "source": [
    "gradient.fit(train_data, train_labels)"
   ]
  },
  {
   "cell_type": "code",
   "execution_count": 255,
   "metadata": {},
   "outputs": [],
   "source": [
    "y_pred5 = gradient.predict(test_data)"
   ]
  },
  {
   "cell_type": "code",
   "execution_count": 256,
   "metadata": {},
   "outputs": [
    {
     "data": {
      "text/plain": [
       "0.9968377570537142"
      ]
     },
     "execution_count": 256,
     "metadata": {},
     "output_type": "execute_result"
    }
   ],
   "source": [
    "gradient.score(test_data, test_labels)"
   ]
  },
  {
   "cell_type": "code",
   "execution_count": 257,
   "metadata": {},
   "outputs": [
    {
     "name": "stdout",
     "output_type": "stream",
     "text": [
      "MSE:  51293.66\n",
      "RMSE: 226.48\n",
      "r2:  0.997\n",
      "MAE:  125.06\n"
     ]
    }
   ],
   "source": [
    "gradient_mse = mean_squared_error(test_labels, y_pred5)  \n",
    "gradient_r2 = gradient.score(test_data, test_labels) \n",
    "gradient_mae = mean_absolute_error(test_labels, y_pred5)\n",
    "\n",
    "print(\"MSE: \", \"%.2f\" % gradient_mse)\n",
    "print(\"RMSE: {error}\".format(error = \"%.2f\" % np.sqrt(gradient_mse)))\n",
    "print(\"r2: \", \"%.3f\" % gradient_r2)\n",
    "print(\"MAE: \", \"%.2f\" % gradient_mae)"
   ]
  },
  {
   "cell_type": "markdown",
   "metadata": {},
   "source": [
    "# SGD Regression:\n"
   ]
  },
  {
   "cell_type": "code",
   "execution_count": 258,
   "metadata": {},
   "outputs": [],
   "source": [
    "from sklearn.linear_model import SGDRegressor\n",
    "from sklearn.pipeline import make_pipeline\n",
    "from sklearn.preprocessing import StandardScaler"
   ]
  },
  {
   "cell_type": "code",
   "execution_count": 259,
   "metadata": {},
   "outputs": [],
   "source": [
    "SGD = make_pipeline(StandardScaler(), SGDRegressor(max_iter=1000))"
   ]
  },
  {
   "cell_type": "code",
   "execution_count": 260,
   "metadata": {},
   "outputs": [
    {
     "data": {
      "text/plain": [
       "Pipeline(memory=None,\n",
       "         steps=[('standardscaler',\n",
       "                 StandardScaler(copy=True, with_mean=True, with_std=True)),\n",
       "                ('sgdregressor',\n",
       "                 SGDRegressor(alpha=0.0001, average=False, early_stopping=False,\n",
       "                              epsilon=0.1, eta0=0.01, fit_intercept=True,\n",
       "                              l1_ratio=0.15, learning_rate='invscaling',\n",
       "                              loss='squared_loss', max_iter=1000,\n",
       "                              n_iter_no_change=5, penalty='l2', power_t=0.25,\n",
       "                              random_state=None, shuffle=True, tol=0.001,\n",
       "                              validation_fraction=0.1, verbose=0,\n",
       "                              warm_start=False))],\n",
       "         verbose=False)"
      ]
     },
     "execution_count": 260,
     "metadata": {},
     "output_type": "execute_result"
    }
   ],
   "source": [
    "SGD.fit(train_data, train_labels)"
   ]
  },
  {
   "cell_type": "code",
   "execution_count": 261,
   "metadata": {},
   "outputs": [],
   "source": [
    "y_pred6 = SGD.predict(test_data)"
   ]
  },
  {
   "cell_type": "code",
   "execution_count": 262,
   "metadata": {},
   "outputs": [
    {
     "data": {
      "text/plain": [
       "0.9005955551242697"
      ]
     },
     "execution_count": 262,
     "metadata": {},
     "output_type": "execute_result"
    }
   ],
   "source": [
    "SGD.score(test_data, test_labels)"
   ]
  },
  {
   "cell_type": "code",
   "execution_count": 263,
   "metadata": {},
   "outputs": [
    {
     "name": "stdout",
     "output_type": "stream",
     "text": [
      "MSE:  1612405.44\n",
      "RMSE: 1269.81\n",
      "r2:  0.90\n",
      "MAE:  829.02\n"
     ]
    }
   ],
   "source": [
    "SGD_mse = mean_squared_error(test_labels, y_pred6) \n",
    "SGD_r2 = SGD.score(test_data, test_labels)\n",
    "SGD_mae = mean_absolute_error(test_labels, y_pred6)\n",
    "\n",
    "print(\"MSE: \", \"%.2f\" % SGD_mse)\n",
    "print(\"RMSE: {error}\".format(error = \"%.2f\" % np.sqrt(SGD_mse)))\n",
    "print(\"r2: \", \"%.2f\" % SGD_r2)\n",
    "print(\"MAE: \", \"%.2f\" % SGD_mae)"
   ]
  },
  {
   "cell_type": "markdown",
   "metadata": {},
   "source": [
    "# SVR Regression:"
   ]
  },
  {
   "cell_type": "code",
   "execution_count": 264,
   "metadata": {},
   "outputs": [],
   "source": [
    "from sklearn.svm import SVR"
   ]
  },
  {
   "cell_type": "code",
   "execution_count": 265,
   "metadata": {},
   "outputs": [],
   "source": [
    "svr = make_pipeline(StandardScaler(), SVR(C=1.0, epsilon=0.2))"
   ]
  },
  {
   "cell_type": "code",
   "execution_count": 266,
   "metadata": {},
   "outputs": [
    {
     "data": {
      "text/plain": [
       "Pipeline(memory=None,\n",
       "         steps=[('standardscaler',\n",
       "                 StandardScaler(copy=True, with_mean=True, with_std=True)),\n",
       "                ('svr',\n",
       "                 SVR(C=1.0, cache_size=200, coef0=0.0, degree=3, epsilon=0.2,\n",
       "                     gamma='scale', kernel='rbf', max_iter=-1, shrinking=True,\n",
       "                     tol=0.001, verbose=False))],\n",
       "         verbose=False)"
      ]
     },
     "execution_count": 266,
     "metadata": {},
     "output_type": "execute_result"
    }
   ],
   "source": [
    "svr.fit(train_data, train_labels)"
   ]
  },
  {
   "cell_type": "code",
   "execution_count": 267,
   "metadata": {},
   "outputs": [],
   "source": [
    "y_pred7 = svr.predict(test_data)"
   ]
  },
  {
   "cell_type": "code",
   "execution_count": 268,
   "metadata": {},
   "outputs": [
    {
     "data": {
      "text/plain": [
       "0.49899040163042296"
      ]
     },
     "execution_count": 268,
     "metadata": {},
     "output_type": "execute_result"
    }
   ],
   "source": [
    "svr.score(test_data, test_labels)"
   ]
  },
  {
   "cell_type": "code",
   "execution_count": 269,
   "metadata": {},
   "outputs": [
    {
     "name": "stdout",
     "output_type": "stream",
     "text": [
      "MSE:  8126705.05\n",
      "RMSE: 2850.74\n",
      "r2:  0.50\n",
      "MAE:  1338.80\n"
     ]
    }
   ],
   "source": [
    "svr_mse = mean_squared_error(test_labels, y_pred7)   \n",
    "svr_r2 = svr.score(test_data, test_labels)\n",
    "svr_mae = mean_absolute_error(test_labels, y_pred7)\n",
    "\n",
    "print(\"MSE: \", \"%.2f\" % svr_mse)\n",
    "print(\"RMSE: {error}\".format(error = \"%.2f\" % np.sqrt(svr_mse)))\n",
    "print(\"r2: \", \"%.2f\" % svr_r2)\n",
    "print(\"MAE: \", \"%.2f\" % svr_mae)"
   ]
  },
  {
   "cell_type": "markdown",
   "metadata": {},
   "source": [
    "# Linear SVR Regression:"
   ]
  },
  {
   "cell_type": "code",
   "execution_count": 270,
   "metadata": {},
   "outputs": [],
   "source": [
    "#svr_lin = SVR(kernel='linear', C=100, gamma='auto')\n",
    "svr_lin = make_pipeline(StandardScaler(), SVR(kernel = 'linear', C=1.0, epsilon=0.2, gamma = 'auto'))"
   ]
  },
  {
   "cell_type": "code",
   "execution_count": 271,
   "metadata": {},
   "outputs": [
    {
     "data": {
      "text/plain": [
       "Pipeline(memory=None,\n",
       "         steps=[('standardscaler',\n",
       "                 StandardScaler(copy=True, with_mean=True, with_std=True)),\n",
       "                ('svr',\n",
       "                 SVR(C=1.0, cache_size=200, coef0=0.0, degree=3, epsilon=0.2,\n",
       "                     gamma='auto', kernel='linear', max_iter=-1, shrinking=True,\n",
       "                     tol=0.001, verbose=False))],\n",
       "         verbose=False)"
      ]
     },
     "execution_count": 271,
     "metadata": {},
     "output_type": "execute_result"
    }
   ],
   "source": [
    "svr_lin.fit(train_data, train_labels)"
   ]
  },
  {
   "cell_type": "code",
   "execution_count": 272,
   "metadata": {},
   "outputs": [],
   "source": [
    "y_pred8 = svr_lin.predict(test_data)"
   ]
  },
  {
   "cell_type": "code",
   "execution_count": 273,
   "metadata": {},
   "outputs": [
    {
     "data": {
      "text/plain": [
       "0.8448463874163328"
      ]
     },
     "execution_count": 273,
     "metadata": {},
     "output_type": "execute_result"
    }
   ],
   "source": [
    "svr_lin.score(test_data, test_labels)"
   ]
  },
  {
   "cell_type": "code",
   "execution_count": 274,
   "metadata": {},
   "outputs": [
    {
     "name": "stdout",
     "output_type": "stream",
     "text": [
      "MSE:  2516693.59\n",
      "RMSE: 1586.41\n",
      "r2:  0.84\n",
      "MAE:  854.06\n"
     ]
    }
   ],
   "source": [
    "svr_lin_mse = mean_squared_error(test_labels, y_pred8) \n",
    "svr_lin_r2 = svr_lin.score(test_data, test_labels)\n",
    "svr_lin_mae = mean_absolute_error(test_labels, y_pred8)\n",
    "\n",
    "print(\"MSE: \", \"%.2f\" % svr_lin_mse)\n",
    "print(\"RMSE: {error}\".format(error = \"%.2f\" % np.sqrt(svr_lin_mse)))\n",
    "print(\"r2: \", \"%.2f\" % svr_lin_r2)\n",
    "print(\"MAE: \", \"%.2f\" % svr_lin_mae)"
   ]
  },
  {
   "cell_type": "markdown",
   "metadata": {},
   "source": [
    "# Multilayer Perceptron Regression:"
   ]
  },
  {
   "cell_type": "code",
   "execution_count": 275,
   "metadata": {},
   "outputs": [],
   "source": [
    "from sklearn.neural_network import MLPRegressor"
   ]
  },
  {
   "cell_type": "code",
   "execution_count": 276,
   "metadata": {},
   "outputs": [],
   "source": [
    "MLP = MLPRegressor(random_state=1, max_iter=500)"
   ]
  },
  {
   "cell_type": "code",
   "execution_count": 277,
   "metadata": {},
   "outputs": [
    {
     "data": {
      "text/plain": [
       "MLPRegressor(activation='relu', alpha=0.0001, batch_size='auto', beta_1=0.9,\n",
       "             beta_2=0.999, early_stopping=False, epsilon=1e-08,\n",
       "             hidden_layer_sizes=(100,), learning_rate='constant',\n",
       "             learning_rate_init=0.001, max_fun=15000, max_iter=500,\n",
       "             momentum=0.9, n_iter_no_change=10, nesterovs_momentum=True,\n",
       "             power_t=0.5, random_state=1, shuffle=True, solver='adam',\n",
       "             tol=0.0001, validation_fraction=0.1, verbose=False,\n",
       "             warm_start=False)"
      ]
     },
     "execution_count": 277,
     "metadata": {},
     "output_type": "execute_result"
    }
   ],
   "source": [
    "MLP.fit(train_data, train_labels)"
   ]
  },
  {
   "cell_type": "code",
   "execution_count": 278,
   "metadata": {},
   "outputs": [],
   "source": [
    "y_pred9 = MLP.predict(test_data)"
   ]
  },
  {
   "cell_type": "code",
   "execution_count": 279,
   "metadata": {},
   "outputs": [
    {
     "data": {
      "text/plain": [
       "0.9692916766437386"
      ]
     },
     "execution_count": 279,
     "metadata": {},
     "output_type": "execute_result"
    }
   ],
   "source": [
    "MLP.score(test_data, test_labels)"
   ]
  },
  {
   "cell_type": "code",
   "execution_count": 280,
   "metadata": {},
   "outputs": [
    {
     "name": "stdout",
     "output_type": "stream",
     "text": [
      "MSE:  498109.19\n",
      "RMSE: 705.77\n",
      "r2:  0.97\n",
      "MAE:  460.94\n"
     ]
    }
   ],
   "source": [
    "MLP_mse = mean_squared_error(test_labels, y_pred9)\n",
    "MLP_r2 = MLP.score(test_data, test_labels)\n",
    "MLP_mae = mean_absolute_error(test_labels, y_pred9)\n",
    "\n",
    "print(\"MSE: \", \"%.2f\" % MLP_mse)\n",
    "print(\"RMSE: {error}\".format(error = \"%.2f\" % np.sqrt(MLP_mse)))\n",
    "print(\"r2: \", \"%.2f\" % MLP_r2)\n",
    "print(\"MAE: \", \"%.2f\" % MLP_mae)"
   ]
  },
  {
   "cell_type": "code",
   "execution_count": 313,
   "metadata": {},
   "outputs": [
    {
     "data": {
      "text/html": [
       "<div>\n",
       "<style scoped>\n",
       "    .dataframe tbody tr th:only-of-type {\n",
       "        vertical-align: middle;\n",
       "    }\n",
       "\n",
       "    .dataframe tbody tr th {\n",
       "        vertical-align: top;\n",
       "    }\n",
       "\n",
       "    .dataframe thead th {\n",
       "        text-align: right;\n",
       "    }\n",
       "</style>\n",
       "<table border=\"1\" class=\"dataframe\">\n",
       "  <thead>\n",
       "    <tr style=\"text-align: right;\">\n",
       "      <th></th>\n",
       "      <th>Name</th>\n",
       "      <th>MSE</th>\n",
       "      <th>RMSE</th>\n",
       "      <th>r2</th>\n",
       "      <th>MAE</th>\n",
       "    </tr>\n",
       "  </thead>\n",
       "  <tbody>\n",
       "    <tr>\n",
       "      <th>0</th>\n",
       "      <td>linear regression</td>\n",
       "      <td>1603591.70</td>\n",
       "      <td>1266.33</td>\n",
       "      <td>0.901</td>\n",
       "      <td>824.08</td>\n",
       "    </tr>\n",
       "    <tr>\n",
       "      <th>1</th>\n",
       "      <td>k-neighbors regression</td>\n",
       "      <td>56342.18</td>\n",
       "      <td>237.37</td>\n",
       "      <td>0.997</td>\n",
       "      <td>17.64</td>\n",
       "    </tr>\n",
       "    <tr>\n",
       "      <th>2</th>\n",
       "      <td>Ridge regression</td>\n",
       "      <td>1603583.40</td>\n",
       "      <td>1266.33</td>\n",
       "      <td>0.901</td>\n",
       "      <td>824.54</td>\n",
       "    </tr>\n",
       "    <tr>\n",
       "      <th>3</th>\n",
       "      <td>decision tree regression</td>\n",
       "      <td>1881412.36</td>\n",
       "      <td>1371.65</td>\n",
       "      <td>0.884</td>\n",
       "      <td>915.17</td>\n",
       "    </tr>\n",
       "    <tr>\n",
       "      <th>4</th>\n",
       "      <td>random forest regression</td>\n",
       "      <td>1824077.58</td>\n",
       "      <td>1350.58</td>\n",
       "      <td>0.888</td>\n",
       "      <td>901.43</td>\n",
       "    </tr>\n",
       "    <tr>\n",
       "      <th>5</th>\n",
       "      <td>gradient Boosting regression</td>\n",
       "      <td>51293.66</td>\n",
       "      <td>226.48</td>\n",
       "      <td>0.997</td>\n",
       "      <td>125.06</td>\n",
       "    </tr>\n",
       "    <tr>\n",
       "      <th>6</th>\n",
       "      <td>SGD regression</td>\n",
       "      <td>1612405.44</td>\n",
       "      <td>1269.81</td>\n",
       "      <td>0.901</td>\n",
       "      <td>829.02</td>\n",
       "    </tr>\n",
       "    <tr>\n",
       "      <th>7</th>\n",
       "      <td>support vector regression</td>\n",
       "      <td>8126705.05</td>\n",
       "      <td>2850.74</td>\n",
       "      <td>0.499</td>\n",
       "      <td>1338.80</td>\n",
       "    </tr>\n",
       "    <tr>\n",
       "      <th>8</th>\n",
       "      <td>linear SVR</td>\n",
       "      <td>2516693.59</td>\n",
       "      <td>1586.41</td>\n",
       "      <td>0.845</td>\n",
       "      <td>854.06</td>\n",
       "    </tr>\n",
       "    <tr>\n",
       "      <th>9</th>\n",
       "      <td>multi-layer perceptron regression</td>\n",
       "      <td>498109.19</td>\n",
       "      <td>705.77</td>\n",
       "      <td>0.969</td>\n",
       "      <td>460.94</td>\n",
       "    </tr>\n",
       "  </tbody>\n",
       "</table>\n",
       "</div>"
      ],
      "text/plain": [
       "                                Name         MSE     RMSE     r2      MAE\n",
       "0                  linear regression  1603591.70  1266.33  0.901   824.08\n",
       "1             k-neighbors regression    56342.18   237.37  0.997    17.64\n",
       "2                   Ridge regression  1603583.40  1266.33  0.901   824.54\n",
       "3           decision tree regression  1881412.36  1371.65  0.884   915.17\n",
       "4           random forest regression  1824077.58  1350.58  0.888   901.43\n",
       "5       gradient Boosting regression    51293.66   226.48  0.997   125.06\n",
       "6                     SGD regression  1612405.44  1269.81  0.901   829.02\n",
       "7          support vector regression  8126705.05  2850.74  0.499  1338.80\n",
       "8                         linear SVR  2516693.59  1586.41  0.845   854.06\n",
       "9  multi-layer perceptron regression   498109.19   705.77  0.969   460.94"
      ]
     },
     "execution_count": 313,
     "metadata": {},
     "output_type": "execute_result"
    }
   ],
   "source": [
    "table = {'Name':  ['linear regression', 'k-neighbors regression', 'Ridge regression', 'decision tree regression', 'random forest regression', 'gradient Boosting regression', 'SGD regression', 'support vector regression', 'linear SVR', 'multi-layer perceptron regression'],\n",
    "         'MSE': [lr_mse, kn_mse, ridge_mse, tree_mse, rf_mse, gradient_mse, SGD_mse, svr_mse, svr_lin_mse, MLP_mse],\n",
    "         'RMSE': [np.sqrt(lr_mse), np.sqrt(kn_mse), np.sqrt(ridge_mse), np.sqrt(tree_mse), np.sqrt(rf_mse), np.sqrt(gradient_mse), np.sqrt(SGD_mse), np.sqrt(svr_mse), np.sqrt(svr_lin_mse), np.sqrt(MLP_mse)],\n",
    "         'r2': [lr_r2, kn_r2, ridge_r2, tree_r2, rf_r2, gradient_r2, SGD_r2, svr_r2, svr_lin_r2, MLP_r2],\n",
    "         'MAE':[lr_mae, kn_mae, ridge_mae, tree_mae, rf_mae, gradient_mae, SGD_mae, svr_mae, svr_lin_mae, MLP_mae]}\n",
    "         \n",
    "         \n",
    "\n",
    "        \n",
    "table = pd.DataFrame (table, columns = ['Name','MSE','RMSE', 'r2', 'MAE'])\n",
    "\n",
    "table['r2'] = table['r2'].round(3)\n",
    "table['MSE'] = table['MSE'].round(2)\n",
    "table['RMSE'] = table['RMSE'].round(2)\n",
    "table['MAE'] = table['MAE'].round(2)\n",
    "table\n",
    "         "
   ]
  },
  {
   "cell_type": "code",
   "execution_count": 295,
   "metadata": {},
   "outputs": [
    {
     "ename": "SyntaxError",
     "evalue": "invalid syntax (<ipython-input-295-7cbbde802fc0>, line 8)",
     "output_type": "error",
     "traceback": [
      "\u001b[0;36m  File \u001b[0;32m\"<ipython-input-295-7cbbde802fc0>\"\u001b[0;36m, line \u001b[0;32m8\u001b[0m\n\u001b[0;31m    [lr_mae, kn_mae, ridge_mae, tree_mae, rf_mae, gradient_mae, SGD_mae, svr_mae, svr_lin_mae, MLP_mae]))))\u001b[0m\n\u001b[0m                                                                                                       ^\u001b[0m\n\u001b[0;31mSyntaxError\u001b[0m\u001b[0;31m:\u001b[0m invalid syntax\n"
     ]
    }
   ],
   "source": [
    "import plotly.graph_objects as go\n",
    "\n",
    "fig = go.Figure(data=[go.Table(header=dict(values=['Name', 'MSE', 'RMSE', 'r2', 'MAE']),\n",
    "                 cells=dict(values=[['linear regression', 'k-neighbors regression', 'Ridge regression', 'decision tree regression', 'random forest regression', 'gradient Boosting regression', 'SGD regression', 'support vector regression', 'linear SVR', 'multi-layer perceptron regression'],\n",
    "                                    [lr_mse, kn_mse, ridge_mse, tree_mse, rf_mse, gradient_mse, SGD_mse, svr_mse, svr_lin_mse, MLP_mse],\n",
    "                                    [np.sqrt(lr_mse), np.sqrt(kn_mse), np.sqrt(ridge_mse), np.sqrt(tree_mse), np.sqrt(rf_mse), np.sqrt(gradient_mse), np.sqrt(SGD_mse), np.sqrt(svr_mse), np.sqrt(svr_lin_mse), np.sqrt(MLP_mse)],\n",
    "                                   [lr_r2, kn_r2, ridge_r2, tree_r2, rf_r2, gradient_r2, SGD_r2, svr_r2, svr_lin_r2, MLP_r2],\n",
    "                                   [lr_mae, kn_mae, ridge_mae, tree_mae, rf_mae, gradient_mae, SGD_mae, svr_mae, svr_lin_mae, MLP_mae]))))\n",
    "                     ])\n",
    "\n",
    "fig\n",
    "\n",
    "\n"
   ]
  },
  {
   "cell_type": "markdown",
   "metadata": {},
   "source": [
    "# Part 2.2:\n"
   ]
  },
  {
   "cell_type": "code",
   "execution_count": 94,
   "metadata": {},
   "outputs": [],
   "source": [
    "adult = pd.read_csv(\"/Users/keirynhart/Documents/Uni/Comp 309/Assignment 4/adult.csv\")\n",
    "adult_test = pd.read_csv(\"/Users/keirynhart/Documents/Uni/Comp 309/Assignment 4/adult_test.csv\")"
   ]
  },
  {
   "cell_type": "code",
   "execution_count": 95,
   "metadata": {},
   "outputs": [
    {
     "data": {
      "text/plain": [
       "(32561, 15)"
      ]
     },
     "execution_count": 95,
     "metadata": {},
     "output_type": "execute_result"
    }
   ],
   "source": [
    "adult.shape\n"
   ]
  },
  {
   "cell_type": "code",
   "execution_count": 96,
   "metadata": {},
   "outputs": [
    {
     "data": {
      "text/html": [
       "<div>\n",
       "<style scoped>\n",
       "    .dataframe tbody tr th:only-of-type {\n",
       "        vertical-align: middle;\n",
       "    }\n",
       "\n",
       "    .dataframe tbody tr th {\n",
       "        vertical-align: top;\n",
       "    }\n",
       "\n",
       "    .dataframe thead th {\n",
       "        text-align: right;\n",
       "    }\n",
       "</style>\n",
       "<table border=\"1\" class=\"dataframe\">\n",
       "  <thead>\n",
       "    <tr style=\"text-align: right;\">\n",
       "      <th></th>\n",
       "      <th>Age</th>\n",
       "      <th>work_class</th>\n",
       "      <th>fnlwgt</th>\n",
       "      <th>education</th>\n",
       "      <th>education_num</th>\n",
       "      <th>marital_status</th>\n",
       "      <th>occupation</th>\n",
       "      <th>relationship</th>\n",
       "      <th>race</th>\n",
       "      <th>sex</th>\n",
       "      <th>capital_gains</th>\n",
       "      <th>capital_loss</th>\n",
       "      <th>hours_per_week</th>\n",
       "      <th>native_country</th>\n",
       "      <th>income</th>\n",
       "    </tr>\n",
       "  </thead>\n",
       "  <tbody>\n",
       "    <tr>\n",
       "      <th>0</th>\n",
       "      <td>39</td>\n",
       "      <td>State-gov</td>\n",
       "      <td>77516</td>\n",
       "      <td>Bachelors</td>\n",
       "      <td>13</td>\n",
       "      <td>Never-married</td>\n",
       "      <td>Adm-clerical</td>\n",
       "      <td>Not-in-family</td>\n",
       "      <td>White</td>\n",
       "      <td>Male</td>\n",
       "      <td>2174</td>\n",
       "      <td>0</td>\n",
       "      <td>40</td>\n",
       "      <td>United-States</td>\n",
       "      <td>&lt;=50K</td>\n",
       "    </tr>\n",
       "    <tr>\n",
       "      <th>1</th>\n",
       "      <td>50</td>\n",
       "      <td>Self-emp-not-inc</td>\n",
       "      <td>83311</td>\n",
       "      <td>Bachelors</td>\n",
       "      <td>13</td>\n",
       "      <td>Married-civ-spouse</td>\n",
       "      <td>Exec-managerial</td>\n",
       "      <td>Husband</td>\n",
       "      <td>White</td>\n",
       "      <td>Male</td>\n",
       "      <td>0</td>\n",
       "      <td>0</td>\n",
       "      <td>13</td>\n",
       "      <td>United-States</td>\n",
       "      <td>&lt;=50K</td>\n",
       "    </tr>\n",
       "    <tr>\n",
       "      <th>2</th>\n",
       "      <td>38</td>\n",
       "      <td>Private</td>\n",
       "      <td>215646</td>\n",
       "      <td>HS-grad</td>\n",
       "      <td>9</td>\n",
       "      <td>Divorced</td>\n",
       "      <td>Handlers-cleaners</td>\n",
       "      <td>Not-in-family</td>\n",
       "      <td>White</td>\n",
       "      <td>Male</td>\n",
       "      <td>0</td>\n",
       "      <td>0</td>\n",
       "      <td>40</td>\n",
       "      <td>United-States</td>\n",
       "      <td>&lt;=50K</td>\n",
       "    </tr>\n",
       "    <tr>\n",
       "      <th>3</th>\n",
       "      <td>53</td>\n",
       "      <td>Private</td>\n",
       "      <td>234721</td>\n",
       "      <td>11th</td>\n",
       "      <td>7</td>\n",
       "      <td>Married-civ-spouse</td>\n",
       "      <td>Handlers-cleaners</td>\n",
       "      <td>Husband</td>\n",
       "      <td>Black</td>\n",
       "      <td>Male</td>\n",
       "      <td>0</td>\n",
       "      <td>0</td>\n",
       "      <td>40</td>\n",
       "      <td>United-States</td>\n",
       "      <td>&lt;=50K</td>\n",
       "    </tr>\n",
       "    <tr>\n",
       "      <th>4</th>\n",
       "      <td>28</td>\n",
       "      <td>Private</td>\n",
       "      <td>338409</td>\n",
       "      <td>Bachelors</td>\n",
       "      <td>13</td>\n",
       "      <td>Married-civ-spouse</td>\n",
       "      <td>Prof-specialty</td>\n",
       "      <td>Wife</td>\n",
       "      <td>Black</td>\n",
       "      <td>Female</td>\n",
       "      <td>0</td>\n",
       "      <td>0</td>\n",
       "      <td>40</td>\n",
       "      <td>Cuba</td>\n",
       "      <td>&lt;=50K</td>\n",
       "    </tr>\n",
       "  </tbody>\n",
       "</table>\n",
       "</div>"
      ],
      "text/plain": [
       "   Age         work_class  fnlwgt   education  education_num  \\\n",
       "0   39          State-gov   77516   Bachelors             13   \n",
       "1   50   Self-emp-not-inc   83311   Bachelors             13   \n",
       "2   38            Private  215646     HS-grad              9   \n",
       "3   53            Private  234721        11th              7   \n",
       "4   28            Private  338409   Bachelors             13   \n",
       "\n",
       "        marital_status          occupation    relationship    race      sex  \\\n",
       "0        Never-married        Adm-clerical   Not-in-family   White     Male   \n",
       "1   Married-civ-spouse     Exec-managerial         Husband   White     Male   \n",
       "2             Divorced   Handlers-cleaners   Not-in-family   White     Male   \n",
       "3   Married-civ-spouse   Handlers-cleaners         Husband   Black     Male   \n",
       "4   Married-civ-spouse      Prof-specialty            Wife   Black   Female   \n",
       "\n",
       "   capital_gains  capital_loss  hours_per_week  native_country  income  \n",
       "0           2174             0              40   United-States   <=50K  \n",
       "1              0             0              13   United-States   <=50K  \n",
       "2              0             0              40   United-States   <=50K  \n",
       "3              0             0              40   United-States   <=50K  \n",
       "4              0             0              40            Cuba   <=50K  "
      ]
     },
     "execution_count": 96,
     "metadata": {},
     "output_type": "execute_result"
    }
   ],
   "source": [
    "adult.head()"
   ]
  },
  {
   "cell_type": "markdown",
   "metadata": {},
   "source": [
    "# Data preparation"
   ]
  },
  {
   "cell_type": "markdown",
   "metadata": {},
   "source": [
    "check for NA's"
   ]
  },
  {
   "cell_type": "code",
   "execution_count": 97,
   "metadata": {},
   "outputs": [
    {
     "data": {
      "text/plain": [
       "False"
      ]
     },
     "execution_count": 97,
     "metadata": {},
     "output_type": "execute_result"
    }
   ],
   "source": [
    "adult.isnull().values.any()"
   ]
  },
  {
   "cell_type": "code",
   "execution_count": 98,
   "metadata": {},
   "outputs": [
    {
     "data": {
      "text/plain": [
       "False"
      ]
     },
     "execution_count": 98,
     "metadata": {},
     "output_type": "execute_result"
    }
   ],
   "source": [
    "adult_test.isnull().values.any()"
   ]
  },
  {
   "cell_type": "code",
   "execution_count": 99,
   "metadata": {},
   "outputs": [
    {
     "data": {
      "text/plain": [
       "array([' United-States', ' ?', ' Peru', ' Guatemala', ' Mexico',\n",
       "       ' Dominican-Republic', ' Ireland', ' Germany', ' Philippines',\n",
       "       ' Thailand', ' Haiti', ' El-Salvador', ' Puerto-Rico', ' Vietnam',\n",
       "       ' South', ' Columbia', ' Japan', ' India', ' Cambodia', ' Poland',\n",
       "       ' Laos', ' England', ' Cuba', ' Taiwan', ' Italy', ' Canada',\n",
       "       ' Portugal', ' China', ' Nicaragua', ' Honduras', ' Iran',\n",
       "       ' Scotland', ' Jamaica', ' Ecuador', ' Yugoslavia', ' Hungary',\n",
       "       ' Hong', ' Greece', ' Trinadad&Tobago',\n",
       "       ' Outlying-US(Guam-USVI-etc)', ' France'], dtype=object)"
      ]
     },
     "execution_count": 99,
     "metadata": {},
     "output_type": "execute_result"
    }
   ],
   "source": [
    "adult_test['native_country'].unique()"
   ]
  },
  {
   "cell_type": "code",
   "execution_count": 100,
   "metadata": {},
   "outputs": [
    {
     "data": {
      "text/plain": [
       "['Age',\n",
       " 'work_class',\n",
       " 'fnlwgt',\n",
       " 'education',\n",
       " 'education_num',\n",
       " 'marital_status',\n",
       " 'occupation',\n",
       " 'relationship',\n",
       " 'race',\n",
       " 'sex',\n",
       " 'capital_gains',\n",
       " 'capital_loss',\n",
       " 'hours_per_week',\n",
       " 'native_country',\n",
       " 'income']"
      ]
     },
     "execution_count": 100,
     "metadata": {},
     "output_type": "execute_result"
    }
   ],
   "source": [
    "my_list = adult.columns.values.tolist()\n",
    "my_list1 = adult_test.columns.values.tolist()\n",
    "my_list"
   ]
  },
  {
   "cell_type": "code",
   "execution_count": 101,
   "metadata": {},
   "outputs": [
    {
     "name": "stdout",
     "output_type": "stream",
     "text": [
      "[]\n"
     ]
    }
   ],
   "source": [
    "difference = set(my_list).symmetric_difference(set(my_list1))\n",
    "list_difference = list(difference)\n",
    "\n",
    "print(list_difference)"
   ]
  },
  {
   "cell_type": "code",
   "execution_count": null,
   "metadata": {},
   "outputs": [],
   "source": []
  },
  {
   "cell_type": "markdown",
   "metadata": {},
   "source": [
    "# dropping 'fnlwgt'"
   ]
  },
  {
   "cell_type": "code",
   "execution_count": 102,
   "metadata": {},
   "outputs": [],
   "source": [
    "adult = adult.drop(['fnlwgt'], axis=1)\n",
    "adult_test = adult_test.drop(['fnlwgt'], axis=1)"
   ]
  },
  {
   "cell_type": "code",
   "execution_count": 103,
   "metadata": {},
   "outputs": [
    {
     "data": {
      "text/plain": [
       "(32561, 14)"
      ]
     },
     "execution_count": 103,
     "metadata": {},
     "output_type": "execute_result"
    }
   ],
   "source": [
    "adult.shape"
   ]
  },
  {
   "cell_type": "code",
   "execution_count": null,
   "metadata": {},
   "outputs": [],
   "source": []
  },
  {
   "cell_type": "code",
   "execution_count": 104,
   "metadata": {},
   "outputs": [
    {
     "data": {
      "text/html": [
       "<div>\n",
       "<style scoped>\n",
       "    .dataframe tbody tr th:only-of-type {\n",
       "        vertical-align: middle;\n",
       "    }\n",
       "\n",
       "    .dataframe tbody tr th {\n",
       "        vertical-align: top;\n",
       "    }\n",
       "\n",
       "    .dataframe thead th {\n",
       "        text-align: right;\n",
       "    }\n",
       "</style>\n",
       "<table border=\"1\" class=\"dataframe\">\n",
       "  <thead>\n",
       "    <tr style=\"text-align: right;\">\n",
       "      <th></th>\n",
       "      <th>Age</th>\n",
       "      <th>work_class</th>\n",
       "      <th>education</th>\n",
       "      <th>education_num</th>\n",
       "      <th>marital_status</th>\n",
       "      <th>occupation</th>\n",
       "      <th>relationship</th>\n",
       "      <th>race</th>\n",
       "      <th>sex</th>\n",
       "      <th>capital_gains</th>\n",
       "      <th>capital_loss</th>\n",
       "      <th>hours_per_week</th>\n",
       "      <th>native_country</th>\n",
       "      <th>income</th>\n",
       "    </tr>\n",
       "  </thead>\n",
       "  <tbody>\n",
       "    <tr>\n",
       "      <th>27</th>\n",
       "      <td>54</td>\n",
       "      <td>?</td>\n",
       "      <td>Some-college</td>\n",
       "      <td>10</td>\n",
       "      <td>Married-civ-spouse</td>\n",
       "      <td>?</td>\n",
       "      <td>Husband</td>\n",
       "      <td>Asian-Pac-Islander</td>\n",
       "      <td>Male</td>\n",
       "      <td>0</td>\n",
       "      <td>0</td>\n",
       "      <td>60</td>\n",
       "      <td>South</td>\n",
       "      <td>&gt;50K</td>\n",
       "    </tr>\n",
       "    <tr>\n",
       "      <th>61</th>\n",
       "      <td>32</td>\n",
       "      <td>?</td>\n",
       "      <td>7th-8th</td>\n",
       "      <td>4</td>\n",
       "      <td>Married-spouse-absent</td>\n",
       "      <td>?</td>\n",
       "      <td>Not-in-family</td>\n",
       "      <td>White</td>\n",
       "      <td>Male</td>\n",
       "      <td>0</td>\n",
       "      <td>0</td>\n",
       "      <td>40</td>\n",
       "      <td>?</td>\n",
       "      <td>&lt;=50K</td>\n",
       "    </tr>\n",
       "    <tr>\n",
       "      <th>69</th>\n",
       "      <td>25</td>\n",
       "      <td>?</td>\n",
       "      <td>Some-college</td>\n",
       "      <td>10</td>\n",
       "      <td>Never-married</td>\n",
       "      <td>?</td>\n",
       "      <td>Own-child</td>\n",
       "      <td>White</td>\n",
       "      <td>Male</td>\n",
       "      <td>0</td>\n",
       "      <td>0</td>\n",
       "      <td>40</td>\n",
       "      <td>United-States</td>\n",
       "      <td>&lt;=50K</td>\n",
       "    </tr>\n",
       "    <tr>\n",
       "      <th>77</th>\n",
       "      <td>67</td>\n",
       "      <td>?</td>\n",
       "      <td>10th</td>\n",
       "      <td>6</td>\n",
       "      <td>Married-civ-spouse</td>\n",
       "      <td>?</td>\n",
       "      <td>Husband</td>\n",
       "      <td>White</td>\n",
       "      <td>Male</td>\n",
       "      <td>0</td>\n",
       "      <td>0</td>\n",
       "      <td>2</td>\n",
       "      <td>United-States</td>\n",
       "      <td>&lt;=50K</td>\n",
       "    </tr>\n",
       "    <tr>\n",
       "      <th>106</th>\n",
       "      <td>17</td>\n",
       "      <td>?</td>\n",
       "      <td>10th</td>\n",
       "      <td>6</td>\n",
       "      <td>Never-married</td>\n",
       "      <td>?</td>\n",
       "      <td>Own-child</td>\n",
       "      <td>White</td>\n",
       "      <td>Female</td>\n",
       "      <td>34095</td>\n",
       "      <td>0</td>\n",
       "      <td>32</td>\n",
       "      <td>United-States</td>\n",
       "      <td>&lt;=50K</td>\n",
       "    </tr>\n",
       "    <tr>\n",
       "      <th>...</th>\n",
       "      <td>...</td>\n",
       "      <td>...</td>\n",
       "      <td>...</td>\n",
       "      <td>...</td>\n",
       "      <td>...</td>\n",
       "      <td>...</td>\n",
       "      <td>...</td>\n",
       "      <td>...</td>\n",
       "      <td>...</td>\n",
       "      <td>...</td>\n",
       "      <td>...</td>\n",
       "      <td>...</td>\n",
       "      <td>...</td>\n",
       "      <td>...</td>\n",
       "    </tr>\n",
       "    <tr>\n",
       "      <th>32530</th>\n",
       "      <td>35</td>\n",
       "      <td>?</td>\n",
       "      <td>Bachelors</td>\n",
       "      <td>13</td>\n",
       "      <td>Married-civ-spouse</td>\n",
       "      <td>?</td>\n",
       "      <td>Wife</td>\n",
       "      <td>White</td>\n",
       "      <td>Female</td>\n",
       "      <td>0</td>\n",
       "      <td>0</td>\n",
       "      <td>55</td>\n",
       "      <td>United-States</td>\n",
       "      <td>&gt;50K</td>\n",
       "    </tr>\n",
       "    <tr>\n",
       "      <th>32531</th>\n",
       "      <td>30</td>\n",
       "      <td>?</td>\n",
       "      <td>Bachelors</td>\n",
       "      <td>13</td>\n",
       "      <td>Never-married</td>\n",
       "      <td>?</td>\n",
       "      <td>Not-in-family</td>\n",
       "      <td>Asian-Pac-Islander</td>\n",
       "      <td>Female</td>\n",
       "      <td>0</td>\n",
       "      <td>0</td>\n",
       "      <td>99</td>\n",
       "      <td>United-States</td>\n",
       "      <td>&lt;=50K</td>\n",
       "    </tr>\n",
       "    <tr>\n",
       "      <th>32539</th>\n",
       "      <td>71</td>\n",
       "      <td>?</td>\n",
       "      <td>Doctorate</td>\n",
       "      <td>16</td>\n",
       "      <td>Married-civ-spouse</td>\n",
       "      <td>?</td>\n",
       "      <td>Husband</td>\n",
       "      <td>White</td>\n",
       "      <td>Male</td>\n",
       "      <td>0</td>\n",
       "      <td>0</td>\n",
       "      <td>10</td>\n",
       "      <td>United-States</td>\n",
       "      <td>&gt;50K</td>\n",
       "    </tr>\n",
       "    <tr>\n",
       "      <th>32541</th>\n",
       "      <td>41</td>\n",
       "      <td>?</td>\n",
       "      <td>HS-grad</td>\n",
       "      <td>9</td>\n",
       "      <td>Separated</td>\n",
       "      <td>?</td>\n",
       "      <td>Not-in-family</td>\n",
       "      <td>Black</td>\n",
       "      <td>Female</td>\n",
       "      <td>0</td>\n",
       "      <td>0</td>\n",
       "      <td>32</td>\n",
       "      <td>United-States</td>\n",
       "      <td>&lt;=50K</td>\n",
       "    </tr>\n",
       "    <tr>\n",
       "      <th>32542</th>\n",
       "      <td>72</td>\n",
       "      <td>?</td>\n",
       "      <td>HS-grad</td>\n",
       "      <td>9</td>\n",
       "      <td>Married-civ-spouse</td>\n",
       "      <td>?</td>\n",
       "      <td>Husband</td>\n",
       "      <td>White</td>\n",
       "      <td>Male</td>\n",
       "      <td>0</td>\n",
       "      <td>0</td>\n",
       "      <td>25</td>\n",
       "      <td>United-States</td>\n",
       "      <td>&lt;=50K</td>\n",
       "    </tr>\n",
       "  </tbody>\n",
       "</table>\n",
       "<p>1843 rows × 14 columns</p>\n",
       "</div>"
      ],
      "text/plain": [
       "       Age work_class      education  education_num          marital_status  \\\n",
       "27      54          ?   Some-college             10      Married-civ-spouse   \n",
       "61      32          ?        7th-8th              4   Married-spouse-absent   \n",
       "69      25          ?   Some-college             10           Never-married   \n",
       "77      67          ?           10th              6      Married-civ-spouse   \n",
       "106     17          ?           10th              6           Never-married   \n",
       "...    ...        ...            ...            ...                     ...   \n",
       "32530   35          ?      Bachelors             13      Married-civ-spouse   \n",
       "32531   30          ?      Bachelors             13           Never-married   \n",
       "32539   71          ?      Doctorate             16      Married-civ-spouse   \n",
       "32541   41          ?        HS-grad              9               Separated   \n",
       "32542   72          ?        HS-grad              9      Married-civ-spouse   \n",
       "\n",
       "      occupation    relationship                 race      sex  capital_gains  \\\n",
       "27             ?         Husband   Asian-Pac-Islander     Male              0   \n",
       "61             ?   Not-in-family                White     Male              0   \n",
       "69             ?       Own-child                White     Male              0   \n",
       "77             ?         Husband                White     Male              0   \n",
       "106            ?       Own-child                White   Female          34095   \n",
       "...          ...             ...                  ...      ...            ...   \n",
       "32530          ?            Wife                White   Female              0   \n",
       "32531          ?   Not-in-family   Asian-Pac-Islander   Female              0   \n",
       "32539          ?         Husband                White     Male              0   \n",
       "32541          ?   Not-in-family                Black   Female              0   \n",
       "32542          ?         Husband                White     Male              0   \n",
       "\n",
       "       capital_loss  hours_per_week  native_country  income  \n",
       "27                0              60           South    >50K  \n",
       "61                0              40               ?   <=50K  \n",
       "69                0              40   United-States   <=50K  \n",
       "77                0               2   United-States   <=50K  \n",
       "106               0              32   United-States   <=50K  \n",
       "...             ...             ...             ...     ...  \n",
       "32530             0              55   United-States    >50K  \n",
       "32531             0              99   United-States   <=50K  \n",
       "32539             0              10   United-States    >50K  \n",
       "32541             0              32   United-States   <=50K  \n",
       "32542             0              25   United-States   <=50K  \n",
       "\n",
       "[1843 rows x 14 columns]"
      ]
     },
     "execution_count": 104,
     "metadata": {},
     "output_type": "execute_result"
    }
   ],
   "source": [
    "adult.loc[adult[\"occupation\"] == \" ?\"]"
   ]
  },
  {
   "cell_type": "markdown",
   "metadata": {},
   "source": [
    "Notes:\n",
    "- capital gains and losses have alot of occurances of 0 => possible as many people may not have investments etc.\n",
    "- Salary variable is imbalanced\n",
    "- hours per week has values of 99 (seems kind of unlikely but again possible)\n",
    "- fnlwgt not very clear so dropping.\n",
    "- '?' values in occupation and work_class => going to change to other.\n",
    "- the training and testing sets have slightly different values for income e.g. training set has \" <=50K\" and test set has \" <=50K.\" with the full stop, this could cause problems so im going to make them the same.\n",
    "\n",
    "# replacing values"
   ]
  },
  {
   "cell_type": "code",
   "execution_count": 105,
   "metadata": {},
   "outputs": [],
   "source": [
    "adult_test = adult_test.replace(' <=50K.', ' <=50K')\n",
    "adult_test = adult_test.replace(' >50K.', ' >50K')"
   ]
  },
  {
   "cell_type": "code",
   "execution_count": 106,
   "metadata": {},
   "outputs": [],
   "source": [
    "adult = adult.replace(' ?', 'other')\n",
    "adult_test = adult_test.replace(' ?', 'other')"
   ]
  },
  {
   "cell_type": "code",
   "execution_count": 107,
   "metadata": {},
   "outputs": [],
   "source": [
    "adult['native_country'] = adult['native_country'].replace(' Holand-Netherlands', 'other')"
   ]
  },
  {
   "cell_type": "code",
   "execution_count": 108,
   "metadata": {},
   "outputs": [],
   "source": [
    "adult = adult.replace(' >50K', 1)\n",
    "adult = adult.replace(' <=50K', 0)\n",
    "\n",
    "adult_test = adult_test.replace(' >50K', 1)\n",
    "adult_test = adult_test.replace(' <=50K', 0)"
   ]
  },
  {
   "cell_type": "code",
   "execution_count": 109,
   "metadata": {},
   "outputs": [
    {
     "data": {
      "text/plain": [
       "(16281, 14)"
      ]
     },
     "execution_count": 109,
     "metadata": {},
     "output_type": "execute_result"
    }
   ],
   "source": [
    "adult_test.shape"
   ]
  },
  {
   "cell_type": "code",
   "execution_count": 110,
   "metadata": {},
   "outputs": [
    {
     "data": {
      "text/plain": [
       "<matplotlib.axes._subplots.AxesSubplot at 0x7fc34ece6ed0>"
      ]
     },
     "execution_count": 110,
     "metadata": {},
     "output_type": "execute_result"
    },
    {
     "data": {
      "image/png": "[encoded data removed]",
      "text/plain": [
       "<Figure size 432x288 with 2 Axes>"
      ]
     },
     "metadata": {
      "needs_background": "light"
     },
     "output_type": "display_data"
    }
   ],
   "source": [
    "sns.heatmap(adult.corr())"
   ]
  },
  {
   "cell_type": "markdown",
   "metadata": {},
   "source": [
    "## Data Preparation:"
   ]
  },
  {
   "cell_type": "code",
   "execution_count": 111,
   "metadata": {},
   "outputs": [],
   "source": [
    "cat_vars = ['work_class', 'education', 'marital_status', 'occupation', 'relationship', 'race', 'sex', 'native_country']\n",
    "\n",
    "for var in cat_vars:\n",
    "    cat_list='var'+'_'+var\n",
    "    cat_list=pd.get_dummies(adult[var], prefix = var)\n",
    "    data1=adult.join(cat_list)\n",
    "    adult = data1 "
   ]
  },
  {
   "cell_type": "code",
   "execution_count": 112,
   "metadata": {},
   "outputs": [],
   "source": [
    "cat_vars = ['work_class', 'education', 'marital_status', 'occupation', 'relationship', 'race', 'sex', 'native_country']\n",
    "    \n",
    "for var in cat_vars:\n",
    "    cat_list1='var'+'_'+var\n",
    "    cat_list1=pd.get_dummies(adult_test[var], prefix = var)\n",
    "    data2=adult_test.join(cat_list1)\n",
    "    adult_test = data2"
   ]
  },
  {
   "cell_type": "code",
   "execution_count": 113,
   "metadata": {},
   "outputs": [],
   "source": [
    "cat_vars = ['work_class', 'education', 'marital_status', 'occupation', 'relationship', 'race', 'sex', 'native_country']\n",
    "data_vars = adult.columns.values.tolist()\n",
    "to_keep = [i for i in data_vars if i not in cat_vars]\n",
    "\n",
    "adult = adult[to_keep]\n",
    "\n",
    "\n",
    "cat_vars = ['work_class', 'education', 'marital_status', 'occupation', 'relationship', 'race', 'sex', 'native_country']\n",
    "data_vars2 = adult_test.columns.values.tolist()\n",
    "to_keep = [i for i in data_vars2 if i not in cat_vars]\n",
    "\n",
    "adult_test = adult_test[to_keep]"
   ]
  },
  {
   "cell_type": "code",
   "execution_count": 114,
   "metadata": {},
   "outputs": [
    {
     "data": {
      "text/plain": [
       "(32561, 107)"
      ]
     },
     "execution_count": 114,
     "metadata": {},
     "output_type": "execute_result"
    }
   ],
   "source": [
    "adult.shape"
   ]
  },
  {
   "cell_type": "code",
   "execution_count": 115,
   "metadata": {},
   "outputs": [],
   "source": [
    "adult_train_labels = adult['income']\n",
    "\n",
    "adult_train_full = adult.copy()\n",
    "\n",
    "adult_train = adult.drop(['income'], axis = 1)\n",
    "\n",
    "adult_test_labels = adult_test[\"income\"]\n",
    "\n",
    "adult_test_full = adult_test.copy()\n",
    "\n",
    "adult_test = adult_test.drop(['income'], axis = 1)"
   ]
  },
  {
   "cell_type": "code",
   "execution_count": 116,
   "metadata": {},
   "outputs": [
    {
     "data": {
      "text/plain": [
       "0    0\n",
       "1    0\n",
       "2    1\n",
       "3    1\n",
       "4    0\n",
       "Name: income, dtype: int64"
      ]
     },
     "execution_count": 116,
     "metadata": {},
     "output_type": "execute_result"
    }
   ],
   "source": [
    "adult_test_labels.head()"
   ]
  },
  {
   "cell_type": "code",
   "execution_count": 117,
   "metadata": {},
   "outputs": [],
   "source": [
    "from sklearn.preprocessing import StandardScaler\n",
    "\n",
    "scaler = StandardScaler()\n",
    "scaler.fit(adult_train_full)\n",
    "adult_train = scaler.transform(adult_train_full)\n",
    "adult_test = scaler.transform(adult_test_full)"
   ]
  },
  {
   "cell_type": "code",
   "execution_count": 118,
   "metadata": {},
   "outputs": [
    {
     "data": {
      "text/plain": [
       "(16281, 107)"
      ]
     },
     "execution_count": 118,
     "metadata": {},
     "output_type": "execute_result"
    }
   ],
   "source": [
    "adult_test_full.shape"
   ]
  },
  {
   "cell_type": "code",
   "execution_count": 119,
   "metadata": {},
   "outputs": [
    {
     "data": {
      "text/plain": [
       "array([[-0.58852419, -2.17598951, -0.8318828 , ...,  0.13492942,\n",
       "         0.51978985,  0.16805593],\n",
       "       [ 2.62423696, -0.90423191, -0.29291555, ...,  0.10181701,\n",
       "         1.06817467,  0.75366234],\n",
       "       [-0.90481451,  0.97869406, -1.23103798, ..., -0.23914135,\n",
       "        -0.15398147, -1.36106663],\n",
       "       ...,\n",
       "       [-2.31654571, -0.90011674,  0.12998898, ..., -1.21910193,\n",
       "         0.14189085, -0.78932518],\n",
       "       [-2.03662551,  1.12786005, -1.72547343, ..., -0.65249397,\n",
       "        -0.38812246, -0.13769793],\n",
       "       [ 1.36631218, -1.9861864 ,  0.44360326, ...,  0.59683311,\n",
       "        -1.40070892, -0.26704182]])"
      ]
     },
     "execution_count": 119,
     "metadata": {},
     "output_type": "execute_result"
    }
   ],
   "source": [
    "from sklearn.decomposition import PCA\n",
    "\n",
    "pca = PCA(n_components= 20)\n",
    "adult_train_pca = pca.fit(adult_train).transform(adult_train)\n",
    "#adult_test_pca = pca.fit(adult_test).transform(adult_test)\n",
    "adult_test_pca = pca.transform(adult_test)\n",
    "\n",
    "adult_train_pca"
   ]
  },
  {
   "cell_type": "code",
   "execution_count": null,
   "metadata": {},
   "outputs": [],
   "source": []
  },
  {
   "cell_type": "code",
   "execution_count": 120,
   "metadata": {},
   "outputs": [
    {
     "data": {
      "text/plain": [
       "0    12435\n",
       "1     3846\n",
       "Name: income, dtype: int64"
      ]
     },
     "execution_count": 120,
     "metadata": {},
     "output_type": "execute_result"
    }
   ],
   "source": [
    "#adult_train_full['income'].value_counts()\n",
    "adult_test_full['income'].value_counts()"
   ]
  },
  {
   "cell_type": "markdown",
   "metadata": {},
   "source": [
    "# kNN"
   ]
  },
  {
   "cell_type": "code",
   "execution_count": 124,
   "metadata": {},
   "outputs": [],
   "source": [
    "from sklearn.neighbors import KNeighborsClassifier\n",
    "from sklearn.model_selection import cross_val_predict\n",
    "from sklearn.metrics import accuracy_score, precision_score, recall_score, f1_score, classification_report\n",
    "\n",
    "neigh = KNeighborsClassifier(n_neighbors=3)\n",
    "\n",
    "neigh.fit(adult_train_pca, adult_train_labels)\n",
    "\n",
    "neigh_pred = cross_val_predict(neigh, adult_train_pca, adult_train_labels, cv = 10)"
   ]
  },
  {
   "cell_type": "code",
   "execution_count": 125,
   "metadata": {},
   "outputs": [
    {
     "name": "stdout",
     "output_type": "stream",
     "text": [
      "0.9422929271214029 0.9143730886850153 0.8389236066828211 0.8750249418024609\n"
     ]
    }
   ],
   "source": [
    "neigh_accuracy = accuracy_score(neigh_pred, adult_train_labels)\n",
    "neigh_precision = precision_score(adult_train_labels, neigh_pred)\n",
    "neigh_recall = recall_score(adult_train_labels, neigh_pred)\n",
    "neigh_f1 = f1_score(adult_train_labels, neigh_pred)\n",
    "\n",
    "print(neigh_accuracy, neigh_precision, neigh_recall, neigh_f1)"
   ]
  },
  {
   "cell_type": "code",
   "execution_count": 126,
   "metadata": {},
   "outputs": [
    {
     "data": {
      "text/plain": [
       "array([0, 0, 1, ..., 0, 0, 1])"
      ]
     },
     "execution_count": 126,
     "metadata": {},
     "output_type": "execute_result"
    }
   ],
   "source": [
    "y_pred = neigh.predict(adult_test_pca)\n",
    "y_pred"
   ]
  },
  {
   "cell_type": "code",
   "execution_count": null,
   "metadata": {},
   "outputs": [],
   "source": []
  },
  {
   "cell_type": "code",
   "execution_count": 127,
   "metadata": {},
   "outputs": [
    {
     "data": {
      "text/plain": [
       "0.9455807382838892"
      ]
     },
     "execution_count": 127,
     "metadata": {},
     "output_type": "execute_result"
    }
   ],
   "source": [
    "neigh.score(adult_test_pca, adult_test_labels)"
   ]
  },
  {
   "cell_type": "code",
   "execution_count": 128,
   "metadata": {},
   "outputs": [
    {
     "data": {
      "text/plain": [
       "array([[12132,   303],\n",
       "       [  583,  3263]])"
      ]
     },
     "execution_count": 128,
     "metadata": {},
     "output_type": "execute_result"
    }
   ],
   "source": [
    "from sklearn.metrics import confusion_matrix\n",
    "matrix = confusion_matrix(adult_test_labels, y_pred)\n",
    "matrix"
   ]
  },
  {
   "cell_type": "code",
   "execution_count": 129,
   "metadata": {},
   "outputs": [
    {
     "data": {
      "text/plain": [
       "0.8484139365574623"
      ]
     },
     "execution_count": 129,
     "metadata": {},
     "output_type": "execute_result"
    }
   ],
   "source": [
    "from sklearn.metrics import precision_score, recall_score\n"
   ]
  },
  {
   "cell_type": "code",
   "execution_count": 130,
   "metadata": {},
   "outputs": [
    {
     "name": "stdout",
     "output_type": "stream",
     "text": [
      "              precision    recall  f1-score   support\n",
      "\n",
      "           0       0.95      0.98      0.96     12435\n",
      "           1       0.92      0.85      0.88      3846\n",
      "\n",
      "    accuracy                           0.95     16281\n",
      "   macro avg       0.93      0.91      0.92     16281\n",
      "weighted avg       0.94      0.95      0.94     16281\n",
      "\n"
     ]
    }
   ],
   "source": [
    "print(classification_report(adult_test_labels, y_pred))"
   ]
  },
  {
   "cell_type": "markdown",
   "metadata": {},
   "source": [
    "# Naive Bayes"
   ]
  },
  {
   "cell_type": "code",
   "execution_count": null,
   "metadata": {},
   "outputs": [],
   "source": []
  },
  {
   "cell_type": "code",
   "execution_count": 131,
   "metadata": {},
   "outputs": [],
   "source": [
    "from sklearn.naive_bayes import GaussianNB\n",
    "from sklearn.model_selection import cross_val_predict\n",
    "NB = GaussianNB()\n",
    "\n",
    "\n",
    "NB.fit(adult_train_pca, adult_train_labels)\n",
    "NB_pred = cross_val_predict(NB, adult_train_pca, adult_train_labels, cv = 10)"
   ]
  },
  {
   "cell_type": "code",
   "execution_count": 132,
   "metadata": {},
   "outputs": [
    {
     "name": "stdout",
     "output_type": "stream",
     "text": [
      "0.8631491661803998 0.6945625934015404 0.7705649789567657 0.7305925030229746\n"
     ]
    }
   ],
   "source": [
    "from sklearn.metrics import accuracy_score, precision_score, recall_score, f1_score, classification_report\n",
    "\n",
    "NB_accuracy = accuracy_score(NB_pred, adult_train_labels)\n",
    "NB_precision = precision_score(adult_train_labels, NB_pred)\n",
    "NB_recall = recall_score(adult_train_labels, NB_pred)\n",
    "NB_f1 = f1_score(adult_train_labels, NB_pred)\n",
    "\n",
    "print(NB_accuracy, NB_precision, NB_recall, NB_f1)\n",
    "\n"
   ]
  },
  {
   "cell_type": "code",
   "execution_count": 133,
   "metadata": {},
   "outputs": [
    {
     "data": {
      "text/plain": [
       "array([[11116,  1319],\n",
       "       [  842,  3004]])"
      ]
     },
     "execution_count": 133,
     "metadata": {},
     "output_type": "execute_result"
    }
   ],
   "source": [
    "y_pred1 = NB.predict(adult_test_pca)\n",
    "\n",
    "matrix1 = confusion_matrix(adult_test_labels, y_pred1)\n",
    "matrix1"
   ]
  },
  {
   "cell_type": "code",
   "execution_count": null,
   "metadata": {},
   "outputs": [],
   "source": []
  },
  {
   "cell_type": "code",
   "execution_count": 134,
   "metadata": {},
   "outputs": [
    {
     "data": {
      "text/plain": [
       "0.8672685952951293"
      ]
     },
     "execution_count": 134,
     "metadata": {},
     "output_type": "execute_result"
    }
   ],
   "source": [
    "NB.score(adult_test_pca, adult_test_labels)"
   ]
  },
  {
   "cell_type": "code",
   "execution_count": 135,
   "metadata": {},
   "outputs": [
    {
     "name": "stdout",
     "output_type": "stream",
     "text": [
      "              precision    recall  f1-score   support\n",
      "\n",
      "           0       0.93      0.89      0.91     12435\n",
      "           1       0.69      0.78      0.74      3846\n",
      "\n",
      "    accuracy                           0.87     16281\n",
      "   macro avg       0.81      0.84      0.82     16281\n",
      "weighted avg       0.87      0.87      0.87     16281\n",
      "\n"
     ]
    }
   ],
   "source": [
    "print(classification_report(adult_test_labels, y_pred1))"
   ]
  },
  {
   "cell_type": "markdown",
   "metadata": {},
   "source": [
    "# SVM"
   ]
  },
  {
   "cell_type": "code",
   "execution_count": 136,
   "metadata": {},
   "outputs": [],
   "source": [
    "from sklearn import svm\n",
    "svm = svm.SVC()\n",
    "svm.fit(adult_train_pca, adult_train_labels)\n",
    "svm_pred = cross_val_predict(svm, adult_train_pca, adult_train_labels, cv = 10)"
   ]
  },
  {
   "cell_type": "code",
   "execution_count": 137,
   "metadata": {},
   "outputs": [
    {
     "name": "stdout",
     "output_type": "stream",
     "text": [
      "0.9727281103160222 0.9707515233581584 0.9142966458359904 0.9416787074740576\n"
     ]
    }
   ],
   "source": [
    "svm_accuracy = accuracy_score(svm_pred, adult_train_labels)\n",
    "svm_precision = precision_score(adult_train_labels, svm_pred)\n",
    "svm_recall = recall_score(adult_train_labels, svm_pred)\n",
    "svm_f1 = f1_score(adult_train_labels, svm_pred)\n",
    "\n",
    "print(svm_accuracy, svm_precision, svm_recall, svm_f1)"
   ]
  },
  {
   "cell_type": "code",
   "execution_count": 138,
   "metadata": {},
   "outputs": [],
   "source": [
    "y_pred2 = svm.predict(adult_test_pca)"
   ]
  },
  {
   "cell_type": "code",
   "execution_count": 139,
   "metadata": {},
   "outputs": [
    {
     "data": {
      "text/plain": [
       "array([[12370,    65],\n",
       "       [  320,  3526]])"
      ]
     },
     "execution_count": 139,
     "metadata": {},
     "output_type": "execute_result"
    }
   ],
   "source": [
    "matrix2 = confusion_matrix(adult_test_labels, y_pred2)\n",
    "matrix2"
   ]
  },
  {
   "cell_type": "code",
   "execution_count": 204,
   "metadata": {},
   "outputs": [
    {
     "data": {
      "text/plain": [
       "0.9763528038818254"
      ]
     },
     "execution_count": 204,
     "metadata": {},
     "output_type": "execute_result"
    }
   ],
   "source": [
    "svm.score(adult_test_pca, adult_test_labels)"
   ]
  },
  {
   "cell_type": "code",
   "execution_count": 140,
   "metadata": {},
   "outputs": [
    {
     "name": "stdout",
     "output_type": "stream",
     "text": [
      "              precision    recall  f1-score   support\n",
      "\n",
      "           0       0.97      0.99      0.98     12435\n",
      "           1       0.98      0.92      0.95      3846\n",
      "\n",
      "    accuracy                           0.98     16281\n",
      "   macro avg       0.98      0.96      0.97     16281\n",
      "weighted avg       0.98      0.98      0.98     16281\n",
      "\n"
     ]
    }
   ],
   "source": [
    "print(classification_report(adult_test_labels, y_pred2))"
   ]
  },
  {
   "cell_type": "markdown",
   "metadata": {},
   "source": [
    "# Decision Tree"
   ]
  },
  {
   "cell_type": "code",
   "execution_count": 141,
   "metadata": {},
   "outputs": [],
   "source": [
    "from sklearn.tree import DecisionTreeClassifier\n",
    "tree = DecisionTreeClassifier(max_depth = 1)\n",
    "tree.fit(adult_train_pca, adult_train_labels)\n",
    "tree_pred = cross_val_predict(tree, adult_train_pca, adult_train_labels, cv= 10)"
   ]
  },
  {
   "cell_type": "code",
   "execution_count": 142,
   "metadata": {},
   "outputs": [
    {
     "name": "stdout",
     "output_type": "stream",
     "text": [
      "0.8693836184392372 0.7631270167204459 0.6635633210049738 0.7098710689678696\n"
     ]
    }
   ],
   "source": [
    "tree_accuracy = accuracy_score(tree_pred, adult_train_labels)\n",
    "tree_precision = precision_score(adult_train_labels, tree_pred)\n",
    "tree_recall = recall_score(adult_train_labels, tree_pred)\n",
    "tree_f1 = f1_score(adult_train_labels, tree_pred)\n",
    "\n",
    "print(tree_accuracy, tree_precision, tree_recall, tree_f1)"
   ]
  },
  {
   "cell_type": "code",
   "execution_count": 143,
   "metadata": {},
   "outputs": [],
   "source": [
    "y_pred3 = tree.predict(adult_test_pca)"
   ]
  },
  {
   "cell_type": "code",
   "execution_count": 144,
   "metadata": {},
   "outputs": [
    {
     "data": {
      "text/plain": [
       "array([[11567,   868],\n",
       "       [ 1281,  2565]])"
      ]
     },
     "execution_count": 144,
     "metadata": {},
     "output_type": "execute_result"
    }
   ],
   "source": [
    "matrix3 = confusion_matrix(adult_test_labels, y_pred3)\n",
    "matrix3"
   ]
  },
  {
   "cell_type": "code",
   "execution_count": 203,
   "metadata": {},
   "outputs": [
    {
     "data": {
      "text/plain": [
       "0.868005650758553"
      ]
     },
     "execution_count": 203,
     "metadata": {},
     "output_type": "execute_result"
    }
   ],
   "source": [
    "tree.score(adult_test_pca, adult_test_labels)"
   ]
  },
  {
   "cell_type": "code",
   "execution_count": 145,
   "metadata": {},
   "outputs": [
    {
     "name": "stdout",
     "output_type": "stream",
     "text": [
      "              precision    recall  f1-score   support\n",
      "\n",
      "           0       0.90      0.93      0.92     12435\n",
      "           1       0.75      0.67      0.70      3846\n",
      "\n",
      "    accuracy                           0.87     16281\n",
      "   macro avg       0.82      0.80      0.81     16281\n",
      "weighted avg       0.86      0.87      0.87     16281\n",
      "\n"
     ]
    }
   ],
   "source": [
    "print(classification_report(adult_test_labels, y_pred3))"
   ]
  },
  {
   "cell_type": "markdown",
   "metadata": {},
   "source": [
    "## Random Forest"
   ]
  },
  {
   "cell_type": "code",
   "execution_count": 146,
   "metadata": {},
   "outputs": [
    {
     "data": {
      "text/plain": [
       "RandomForestClassifier(bootstrap=True, ccp_alpha=0.0, class_weight=None,\n",
       "                       criterion='gini', max_depth=None, max_features='auto',\n",
       "                       max_leaf_nodes=None, max_samples=None,\n",
       "                       min_impurity_decrease=0.0, min_impurity_split=None,\n",
       "                       min_samples_leaf=1, min_samples_split=2,\n",
       "                       min_weight_fraction_leaf=0.0, n_estimators=100,\n",
       "                       n_jobs=None, oob_score=False, random_state=None,\n",
       "                       verbose=0, warm_start=False)"
      ]
     },
     "execution_count": 146,
     "metadata": {},
     "output_type": "execute_result"
    }
   ],
   "source": [
    "from sklearn.ensemble import RandomForestClassifier\n",
    "forest = RandomForestClassifier()\n",
    "\n",
    "forest_pred = cross_val_predict(forest, adult_train_pca, adult_train_labels, cv= 10)\n",
    "\n",
    "forest.fit(adult_train_pca, adult_train_labels)"
   ]
  },
  {
   "cell_type": "code",
   "execution_count": 147,
   "metadata": {},
   "outputs": [
    {
     "name": "stdout",
     "output_type": "stream",
     "text": [
      "0.966493658057185 0.9673220714483522 0.8909577859966841 0.9275708690167962\n"
     ]
    }
   ],
   "source": [
    "forest_accuracy = accuracy_score(forest_pred, adult_train_labels)\n",
    "forest_precision = precision_score(adult_train_labels, forest_pred)\n",
    "forest_recall = recall_score(adult_train_labels, forest_pred)\n",
    "forest_f1 = f1_score(adult_train_labels, forest_pred)\n",
    "\n",
    "print(forest_accuracy, forest_precision, forest_recall, forest_f1)"
   ]
  },
  {
   "cell_type": "code",
   "execution_count": 148,
   "metadata": {},
   "outputs": [],
   "source": [
    "y_pred4 = forest.predict(adult_test_pca)"
   ]
  },
  {
   "cell_type": "code",
   "execution_count": 149,
   "metadata": {},
   "outputs": [
    {
     "data": {
      "text/plain": [
       "array([[12323,   112],\n",
       "       [  411,  3435]])"
      ]
     },
     "execution_count": 149,
     "metadata": {},
     "output_type": "execute_result"
    }
   ],
   "source": [
    "matrix4 = confusion_matrix(adult_test_labels, y_pred4)\n",
    "matrix4"
   ]
  },
  {
   "cell_type": "code",
   "execution_count": 202,
   "metadata": {},
   "outputs": [
    {
     "data": {
      "text/plain": [
       "0.9678766660524538"
      ]
     },
     "execution_count": 202,
     "metadata": {},
     "output_type": "execute_result"
    }
   ],
   "source": [
    "forest.score(adult_test_pca, adult_test_labels)"
   ]
  },
  {
   "cell_type": "code",
   "execution_count": 150,
   "metadata": {},
   "outputs": [
    {
     "name": "stdout",
     "output_type": "stream",
     "text": [
      "              precision    recall  f1-score   support\n",
      "\n",
      "           0       0.97      0.99      0.98     12435\n",
      "           1       0.97      0.89      0.93      3846\n",
      "\n",
      "    accuracy                           0.97     16281\n",
      "   macro avg       0.97      0.94      0.95     16281\n",
      "weighted avg       0.97      0.97      0.97     16281\n",
      "\n"
     ]
    }
   ],
   "source": [
    "print(classification_report(adult_test_labels, y_pred4))"
   ]
  },
  {
   "cell_type": "markdown",
   "metadata": {},
   "source": [
    "## Ada Boost"
   ]
  },
  {
   "cell_type": "code",
   "execution_count": 151,
   "metadata": {},
   "outputs": [],
   "source": [
    "from sklearn.ensemble import AdaBoostClassifier\n",
    "ada = AdaBoostClassifier()\n",
    "ada = ada.fit(adult_train_pca, adult_train_labels)\n",
    "ada_pred = cross_val_predict(ada, adult_train_pca, adult_train_labels, cv=10)"
   ]
  },
  {
   "cell_type": "code",
   "execution_count": 152,
   "metadata": {},
   "outputs": [
    {
     "name": "stdout",
     "output_type": "stream",
     "text": [
      "0.9164951936365591 0.8452413049339444 0.7996429026909833 0.8218100792974639\n"
     ]
    }
   ],
   "source": [
    "ada_accuracy = accuracy_score(ada_pred, adult_train_labels)\n",
    "ada_precision = precision_score(adult_train_labels, ada_pred)\n",
    "ada_recall = recall_score(adult_train_labels, ada_pred)\n",
    "ada_f1 = f1_score(adult_train_labels, ada_pred)\n",
    "\n",
    "print(ada_accuracy, ada_precision, ada_recall, ada_f1)"
   ]
  },
  {
   "cell_type": "code",
   "execution_count": 153,
   "metadata": {},
   "outputs": [],
   "source": [
    "y_pred5 = ada.predict(adult_test_pca)"
   ]
  },
  {
   "cell_type": "code",
   "execution_count": 154,
   "metadata": {},
   "outputs": [
    {
     "data": {
      "text/plain": [
       "array([[11867,   568],\n",
       "       [  779,  3067]])"
      ]
     },
     "execution_count": 154,
     "metadata": {},
     "output_type": "execute_result"
    }
   ],
   "source": [
    "matrix5 = confusion_matrix(adult_test_labels, y_pred5)\n",
    "matrix5"
   ]
  },
  {
   "cell_type": "code",
   "execution_count": 201,
   "metadata": {},
   "outputs": [
    {
     "data": {
      "text/plain": [
       "0.9172655242306984"
      ]
     },
     "execution_count": 201,
     "metadata": {},
     "output_type": "execute_result"
    }
   ],
   "source": [
    "ada.score(adult_test_pca, adult_test_labels)"
   ]
  },
  {
   "cell_type": "code",
   "execution_count": 155,
   "metadata": {},
   "outputs": [
    {
     "name": "stdout",
     "output_type": "stream",
     "text": [
      "              precision    recall  f1-score   support\n",
      "\n",
      "           0       0.94      0.95      0.95     12435\n",
      "           1       0.84      0.80      0.82      3846\n",
      "\n",
      "    accuracy                           0.92     16281\n",
      "   macro avg       0.89      0.88      0.88     16281\n",
      "weighted avg       0.92      0.92      0.92     16281\n",
      "\n"
     ]
    }
   ],
   "source": [
    "print(classification_report(adult_test_labels, y_pred5))"
   ]
  },
  {
   "cell_type": "markdown",
   "metadata": {},
   "source": [
    "## Gradient Boosting"
   ]
  },
  {
   "cell_type": "code",
   "execution_count": 156,
   "metadata": {},
   "outputs": [],
   "source": [
    "from sklearn.ensemble import GradientBoostingClassifier\n",
    "grad = GradientBoostingClassifier()\n",
    "\n",
    "grad.fit(adult_train_pca, adult_train_labels)\n",
    "grad_pred = cross_val_predict(grad, adult_train_pca, adult_train_labels, cv=10)"
   ]
  },
  {
   "cell_type": "code",
   "execution_count": 157,
   "metadata": {},
   "outputs": [
    {
     "name": "stdout",
     "output_type": "stream",
     "text": [
      "0.9491108995423974 0.926365140650855 0.8567784721336564 0.8902140064930761\n"
     ]
    }
   ],
   "source": [
    "grad_accuracy = accuracy_score(grad_pred, adult_train_labels)\n",
    "grad_precision = precision_score(adult_train_labels, grad_pred)\n",
    "grad_recall = recall_score(adult_train_labels, grad_pred)\n",
    "grad_f1 = f1_score(adult_train_labels, grad_pred)\n",
    "\n",
    "print(grad_accuracy, grad_precision, grad_recall, grad_f1)"
   ]
  },
  {
   "cell_type": "code",
   "execution_count": 158,
   "metadata": {},
   "outputs": [],
   "source": [
    "y_pred6 = grad.predict(adult_test_pca)"
   ]
  },
  {
   "cell_type": "code",
   "execution_count": 159,
   "metadata": {},
   "outputs": [
    {
     "data": {
      "text/plain": [
       "array([[12161,   274],\n",
       "       [  562,  3284]])"
      ]
     },
     "execution_count": 159,
     "metadata": {},
     "output_type": "execute_result"
    }
   ],
   "source": [
    "matrix6 = confusion_matrix(adult_test_labels, y_pred6)\n",
    "matrix6"
   ]
  },
  {
   "cell_type": "code",
   "execution_count": 200,
   "metadata": {},
   "outputs": [
    {
     "data": {
      "text/plain": [
       "0.948651802714821"
      ]
     },
     "execution_count": 200,
     "metadata": {},
     "output_type": "execute_result"
    }
   ],
   "source": [
    "grad.score(adult_test_pca, adult_test_labels)"
   ]
  },
  {
   "cell_type": "code",
   "execution_count": 160,
   "metadata": {},
   "outputs": [
    {
     "name": "stdout",
     "output_type": "stream",
     "text": [
      "              precision    recall  f1-score   support\n",
      "\n",
      "           0       0.96      0.98      0.97     12435\n",
      "           1       0.92      0.85      0.89      3846\n",
      "\n",
      "    accuracy                           0.95     16281\n",
      "   macro avg       0.94      0.92      0.93     16281\n",
      "weighted avg       0.95      0.95      0.95     16281\n",
      "\n"
     ]
    }
   ],
   "source": [
    "print(classification_report(adult_test_labels, y_pred6))"
   ]
  },
  {
   "cell_type": "markdown",
   "metadata": {},
   "source": [
    "## Linear Discriminant"
   ]
  },
  {
   "cell_type": "code",
   "execution_count": 161,
   "metadata": {},
   "outputs": [],
   "source": [
    "from sklearn.discriminant_analysis import LinearDiscriminantAnalysis\n",
    "LD = LinearDiscriminantAnalysis()\n",
    "\n",
    "LD.fit(adult_train_pca, adult_train_labels)\n",
    "LD_pred = cross_val_predict(LD, adult_train_pca, adult_train_labels, cv = 10)"
   ]
  },
  {
   "cell_type": "code",
   "execution_count": 162,
   "metadata": {},
   "outputs": [
    {
     "name": "stdout",
     "output_type": "stream",
     "text": [
      "0.8920487700009213 0.7994186046511628 0.7365131998469583 0.7666777298373713\n"
     ]
    }
   ],
   "source": [
    "LD_accuracy = accuracy_score(LD_pred, adult_train_labels)\n",
    "LD_precision = precision_score(adult_train_labels, LD_pred)\n",
    "LD_recall = recall_score(adult_train_labels, LD_pred)\n",
    "LD_f1 = f1_score(adult_train_labels, LD_pred)\n",
    "\n",
    "print(LD_accuracy, LD_precision, LD_recall, LD_f1)"
   ]
  },
  {
   "cell_type": "code",
   "execution_count": 163,
   "metadata": {},
   "outputs": [],
   "source": [
    "y_pred7 = LD.predict(adult_test_pca)"
   ]
  },
  {
   "cell_type": "code",
   "execution_count": 164,
   "metadata": {},
   "outputs": [
    {
     "data": {
      "text/plain": [
       "array([[11720,   715],\n",
       "       [ 1050,  2796]])"
      ]
     },
     "execution_count": 164,
     "metadata": {},
     "output_type": "execute_result"
    }
   ],
   "source": [
    "matrix7 = confusion_matrix(adult_test_labels, y_pred7)\n",
    "matrix7"
   ]
  },
  {
   "cell_type": "code",
   "execution_count": 199,
   "metadata": {},
   "outputs": [
    {
     "data": {
      "text/plain": [
       "0.8915914255881089"
      ]
     },
     "execution_count": 199,
     "metadata": {},
     "output_type": "execute_result"
    }
   ],
   "source": [
    "LD.score(adult_test_pca, adult_test_labels)"
   ]
  },
  {
   "cell_type": "code",
   "execution_count": 165,
   "metadata": {},
   "outputs": [
    {
     "name": "stdout",
     "output_type": "stream",
     "text": [
      "              precision    recall  f1-score   support\n",
      "\n",
      "           0       0.92      0.94      0.93     12435\n",
      "           1       0.80      0.73      0.76      3846\n",
      "\n",
      "    accuracy                           0.89     16281\n",
      "   macro avg       0.86      0.83      0.85     16281\n",
      "weighted avg       0.89      0.89      0.89     16281\n",
      "\n"
     ]
    }
   ],
   "source": [
    "print(classification_report(adult_test_labels, y_pred7))"
   ]
  },
  {
   "cell_type": "markdown",
   "metadata": {},
   "source": [
    "## MLP Classifier"
   ]
  },
  {
   "cell_type": "code",
   "execution_count": 166,
   "metadata": {},
   "outputs": [],
   "source": [
    "from sklearn.neural_network import MLPClassifier\n",
    "MLP = MLPClassifier()\n",
    "\n",
    "MLP.fit(adult_train_pca, adult_train_labels)\n",
    "MLP_pred = cross_val_predict(MLP, adult_train_pca, adult_train_labels, cv = 10)"
   ]
  },
  {
   "cell_type": "code",
   "execution_count": 167,
   "metadata": {},
   "outputs": [
    {
     "name": "stdout",
     "output_type": "stream",
     "text": [
      "0.9916157366174257 0.986375321336761 0.9787016962122178 0.9825235260226618\n"
     ]
    }
   ],
   "source": [
    "MLP_accuracy = accuracy_score(MLP_pred, adult_train_labels)\n",
    "MLP_precision = precision_score(adult_train_labels, MLP_pred)\n",
    "MLP_recall = recall_score(adult_train_labels, MLP_pred)\n",
    "MLP_f1 = f1_score(adult_train_labels, MLP_pred)\n",
    "\n",
    "print(MLP_accuracy, MLP_precision, MLP_recall, MLP_f1)"
   ]
  },
  {
   "cell_type": "code",
   "execution_count": 168,
   "metadata": {},
   "outputs": [],
   "source": [
    "y_pred8 = MLP.predict(adult_test_pca)"
   ]
  },
  {
   "cell_type": "code",
   "execution_count": 169,
   "metadata": {},
   "outputs": [
    {
     "data": {
      "text/plain": [
       "array([[12396,    39],\n",
       "       [   72,  3774]])"
      ]
     },
     "execution_count": 169,
     "metadata": {},
     "output_type": "execute_result"
    }
   ],
   "source": [
    "matrix8 = confusion_matrix(adult_test_labels, y_pred8)\n",
    "matrix8"
   ]
  },
  {
   "cell_type": "code",
   "execution_count": 198,
   "metadata": {},
   "outputs": [
    {
     "data": {
      "text/plain": [
       "0.9931822369633315"
      ]
     },
     "execution_count": 198,
     "metadata": {},
     "output_type": "execute_result"
    }
   ],
   "source": [
    "MLP.score(adult_test_pca, adult_test_labels)"
   ]
  },
  {
   "cell_type": "code",
   "execution_count": 170,
   "metadata": {},
   "outputs": [
    {
     "name": "stdout",
     "output_type": "stream",
     "text": [
      "              precision    recall  f1-score   support\n",
      "\n",
      "           0       0.99      1.00      1.00     12435\n",
      "           1       0.99      0.98      0.99      3846\n",
      "\n",
      "    accuracy                           0.99     16281\n",
      "   macro avg       0.99      0.99      0.99     16281\n",
      "weighted avg       0.99      0.99      0.99     16281\n",
      "\n"
     ]
    }
   ],
   "source": [
    "print(classification_report(adult_test_labels, y_pred8))"
   ]
  },
  {
   "cell_type": "markdown",
   "metadata": {},
   "source": [
    "## Logistic Regression"
   ]
  },
  {
   "cell_type": "code",
   "execution_count": 171,
   "metadata": {},
   "outputs": [],
   "source": [
    "from sklearn.linear_model import LogisticRegression\n",
    "log = LogisticRegression()\n",
    "\n",
    "log.fit(adult_train_pca, adult_train_labels)\n",
    "log_pred = cross_val_predict(log, adult_train_pca, adult_train_labels, cv = 10)"
   ]
  },
  {
   "cell_type": "code",
   "execution_count": 194,
   "metadata": {},
   "outputs": [
    {
     "name": "stdout",
     "output_type": "stream",
     "text": [
      "0.9042105586437763 0.822805578342904 0.7675041448794797 0.7941933355328276\n"
     ]
    }
   ],
   "source": [
    "log_accuracy = accuracy_score(log_pred, adult_train_labels)\n",
    "log_precision = precision_score(adult_train_labels, log_pred)\n",
    "log_recall = recall_score(adult_train_labels, log_pred)\n",
    "log_f1 = f1_score(adult_train_labels, log_pred)\n",
    "\n",
    "print(log_accuracy, log_precision, log_recall, log_f1)"
   ]
  },
  {
   "cell_type": "code",
   "execution_count": 173,
   "metadata": {},
   "outputs": [],
   "source": [
    "y_pred9 = log.predict(adult_test_pca)"
   ]
  },
  {
   "cell_type": "code",
   "execution_count": 197,
   "metadata": {},
   "outputs": [
    {
     "data": {
      "text/plain": [
       "0.9044898961980222"
      ]
     },
     "execution_count": 197,
     "metadata": {},
     "output_type": "execute_result"
    }
   ],
   "source": [
    "log.score(adult_test_pca, adult_test_labels)"
   ]
  },
  {
   "cell_type": "code",
   "execution_count": 206,
   "metadata": {},
   "outputs": [
    {
     "ename": "ValueError",
     "evalue": "continuous-multioutput format is not supported",
     "output_type": "error",
     "traceback": [
      "\u001b[0;31m---------------------------------------------------------------------------\u001b[0m",
      "\u001b[0;31mValueError\u001b[0m                                Traceback (most recent call last)",
      "\u001b[0;32m<ipython-input-206-4f944129fae1>\u001b[0m in \u001b[0;36m<module>\u001b[0;34m\u001b[0m\n\u001b[1;32m      1\u001b[0m \u001b[0;32mfrom\u001b[0m \u001b[0msklearn\u001b[0m \u001b[0;32mimport\u001b[0m \u001b[0mmetrics\u001b[0m\u001b[0;34m\u001b[0m\u001b[0;34m\u001b[0m\u001b[0m\n\u001b[1;32m      2\u001b[0m \u001b[0;34m\u001b[0m\u001b[0m\n\u001b[0;32m----> 3\u001b[0;31m \u001b[0mfpr\u001b[0m\u001b[0;34m,\u001b[0m \u001b[0mtpr\u001b[0m\u001b[0;34m,\u001b[0m \u001b[0mthresholds\u001b[0m \u001b[0;34m=\u001b[0m \u001b[0mmetrics\u001b[0m\u001b[0;34m.\u001b[0m\u001b[0mroc_curve\u001b[0m\u001b[0;34m(\u001b[0m\u001b[0madult_test_pca\u001b[0m\u001b[0;34m,\u001b[0m \u001b[0my_pred9\u001b[0m\u001b[0;34m,\u001b[0m \u001b[0mpos_label\u001b[0m\u001b[0;34m=\u001b[0m\u001b[0;36m2\u001b[0m\u001b[0;34m)\u001b[0m\u001b[0;34m\u001b[0m\u001b[0;34m\u001b[0m\u001b[0m\n\u001b[0m\u001b[1;32m      4\u001b[0m \u001b[0mmetrics\u001b[0m\u001b[0;34m.\u001b[0m\u001b[0mauc\u001b[0m\u001b[0;34m(\u001b[0m\u001b[0mfpr\u001b[0m\u001b[0;34m,\u001b[0m \u001b[0mtpr\u001b[0m\u001b[0;34m)\u001b[0m\u001b[0;34m\u001b[0m\u001b[0;34m\u001b[0m\u001b[0m\n",
      "\u001b[0;32m~/opt/anaconda3/lib/python3.7/site-packages/sklearn/metrics/_ranking.py\u001b[0m in \u001b[0;36mroc_curve\u001b[0;34m(y_true, y_score, pos_label, sample_weight, drop_intermediate)\u001b[0m\n\u001b[1;32m    769\u001b[0m     \"\"\"\n\u001b[1;32m    770\u001b[0m     fps, tps, thresholds = _binary_clf_curve(\n\u001b[0;32m--> 771\u001b[0;31m         y_true, y_score, pos_label=pos_label, sample_weight=sample_weight)\n\u001b[0m\u001b[1;32m    772\u001b[0m \u001b[0;34m\u001b[0m\u001b[0m\n\u001b[1;32m    773\u001b[0m     \u001b[0;31m# Attempt to drop thresholds corresponding to points in between and\u001b[0m\u001b[0;34m\u001b[0m\u001b[0;34m\u001b[0m\u001b[0;34m\u001b[0m\u001b[0m\n",
      "\u001b[0;32m~/opt/anaconda3/lib/python3.7/site-packages/sklearn/metrics/_ranking.py\u001b[0m in \u001b[0;36m_binary_clf_curve\u001b[0;34m(y_true, y_score, pos_label, sample_weight)\u001b[0m\n\u001b[1;32m    534\u001b[0m     if not (y_type == \"binary\" or\n\u001b[1;32m    535\u001b[0m             (y_type == \"multiclass\" and pos_label is not None)):\n\u001b[0;32m--> 536\u001b[0;31m         \u001b[0;32mraise\u001b[0m \u001b[0mValueError\u001b[0m\u001b[0;34m(\u001b[0m\u001b[0;34m\"{0} format is not supported\"\u001b[0m\u001b[0;34m.\u001b[0m\u001b[0mformat\u001b[0m\u001b[0;34m(\u001b[0m\u001b[0my_type\u001b[0m\u001b[0;34m)\u001b[0m\u001b[0;34m)\u001b[0m\u001b[0;34m\u001b[0m\u001b[0;34m\u001b[0m\u001b[0m\n\u001b[0m\u001b[1;32m    537\u001b[0m \u001b[0;34m\u001b[0m\u001b[0m\n\u001b[1;32m    538\u001b[0m     \u001b[0mcheck_consistent_length\u001b[0m\u001b[0;34m(\u001b[0m\u001b[0my_true\u001b[0m\u001b[0;34m,\u001b[0m \u001b[0my_score\u001b[0m\u001b[0;34m,\u001b[0m \u001b[0msample_weight\u001b[0m\u001b[0;34m)\u001b[0m\u001b[0;34m\u001b[0m\u001b[0;34m\u001b[0m\u001b[0m\n",
      "\u001b[0;31mValueError\u001b[0m: continuous-multioutput format is not supported"
     ]
    }
   ],
   "source": [
    "from sklearn import metrics\n",
    "\n"
   ]
  },
  {
   "cell_type": "code",
   "execution_count": 174,
   "metadata": {},
   "outputs": [
    {
     "data": {
      "text/plain": [
       "array([[11794,   641],\n",
       "       [  914,  2932]])"
      ]
     },
     "execution_count": 174,
     "metadata": {},
     "output_type": "execute_result"
    }
   ],
   "source": [
    "matrix9 = confusion_matrix(adult_test_labels, y_pred9)\n",
    "matrix9"
   ]
  },
  {
   "cell_type": "code",
   "execution_count": 175,
   "metadata": {},
   "outputs": [
    {
     "name": "stdout",
     "output_type": "stream",
     "text": [
      "              precision    recall  f1-score   support\n",
      "\n",
      "           0       0.93      0.95      0.94     12435\n",
      "           1       0.82      0.76      0.79      3846\n",
      "\n",
      "    accuracy                           0.90     16281\n",
      "   macro avg       0.87      0.86      0.86     16281\n",
      "weighted avg       0.90      0.90      0.90     16281\n",
      "\n"
     ]
    }
   ],
   "source": [
    "print(classification_report(adult_test_labels, y_pred9))"
   ]
  },
  {
   "cell_type": "code",
   "execution_count": 205,
   "metadata": {},
   "outputs": [
    {
     "data": {
      "text/html": [
       "<div>\n",
       "<style scoped>\n",
       "    .dataframe tbody tr th:only-of-type {\n",
       "        vertical-align: middle;\n",
       "    }\n",
       "\n",
       "    .dataframe tbody tr th {\n",
       "        vertical-align: top;\n",
       "    }\n",
       "\n",
       "    .dataframe thead th {\n",
       "        text-align: right;\n",
       "    }\n",
       "</style>\n",
       "<table border=\"1\" class=\"dataframe\">\n",
       "  <thead>\n",
       "    <tr style=\"text-align: right;\">\n",
       "      <th></th>\n",
       "      <th>Name</th>\n",
       "      <th>Accuracy</th>\n",
       "      <th>Precision</th>\n",
       "      <th>Recall</th>\n",
       "      <th>F1</th>\n",
       "    </tr>\n",
       "  </thead>\n",
       "  <tbody>\n",
       "    <tr>\n",
       "      <th>0</th>\n",
       "      <td>kNN</td>\n",
       "      <td>0.94</td>\n",
       "      <td>0.93</td>\n",
       "      <td>0.91</td>\n",
       "      <td>0.92</td>\n",
       "    </tr>\n",
       "    <tr>\n",
       "      <th>1</th>\n",
       "      <td>naive Bayes</td>\n",
       "      <td>0.86</td>\n",
       "      <td>0.81</td>\n",
       "      <td>0.84</td>\n",
       "      <td>0.82</td>\n",
       "    </tr>\n",
       "    <tr>\n",
       "      <th>2</th>\n",
       "      <td>SVM</td>\n",
       "      <td>0.98</td>\n",
       "      <td>0.98</td>\n",
       "      <td>0.96</td>\n",
       "      <td>0.97</td>\n",
       "    </tr>\n",
       "    <tr>\n",
       "      <th>3</th>\n",
       "      <td>decision tree</td>\n",
       "      <td>0.87</td>\n",
       "      <td>0.82</td>\n",
       "      <td>0.80</td>\n",
       "      <td>0.81</td>\n",
       "    </tr>\n",
       "    <tr>\n",
       "      <th>4</th>\n",
       "      <td>random forest</td>\n",
       "      <td>0.97</td>\n",
       "      <td>0.97</td>\n",
       "      <td>0.94</td>\n",
       "      <td>0.95</td>\n",
       "    </tr>\n",
       "    <tr>\n",
       "      <th>5</th>\n",
       "      <td>AdaBoost</td>\n",
       "      <td>0.92</td>\n",
       "      <td>0.89</td>\n",
       "      <td>0.88</td>\n",
       "      <td>0.89</td>\n",
       "    </tr>\n",
       "    <tr>\n",
       "      <th>6</th>\n",
       "      <td>gradient Boosting</td>\n",
       "      <td>0.95</td>\n",
       "      <td>0.94</td>\n",
       "      <td>0.92</td>\n",
       "      <td>0.93</td>\n",
       "    </tr>\n",
       "    <tr>\n",
       "      <th>7</th>\n",
       "      <td>linear discriminant analysis</td>\n",
       "      <td>0.89</td>\n",
       "      <td>0.86</td>\n",
       "      <td>0.83</td>\n",
       "      <td>0.85</td>\n",
       "    </tr>\n",
       "    <tr>\n",
       "      <th>8</th>\n",
       "      <td>multi-layer perceptron</td>\n",
       "      <td>0.99</td>\n",
       "      <td>0.99</td>\n",
       "      <td>0.99</td>\n",
       "      <td>0.99</td>\n",
       "    </tr>\n",
       "    <tr>\n",
       "      <th>9</th>\n",
       "      <td>logistic regression</td>\n",
       "      <td>0.90</td>\n",
       "      <td>0.87</td>\n",
       "      <td>0.96</td>\n",
       "      <td>0.86</td>\n",
       "    </tr>\n",
       "  </tbody>\n",
       "</table>\n",
       "</div>"
      ],
      "text/plain": [
       "                           Name  Accuracy  Precision  Recall    F1\n",
       "0                           kNN      0.94       0.93    0.91  0.92\n",
       "1                   naive Bayes      0.86       0.81    0.84  0.82\n",
       "2                           SVM      0.98       0.98    0.96  0.97\n",
       "3                 decision tree      0.87       0.82    0.80  0.81\n",
       "4                 random forest      0.97       0.97    0.94  0.95\n",
       "5                      AdaBoost      0.92       0.89    0.88  0.89\n",
       "6             gradient Boosting      0.95       0.94    0.92  0.93\n",
       "7  linear discriminant analysis      0.89       0.86    0.83  0.85\n",
       "8        multi-layer perceptron      0.99       0.99    0.99  0.99\n",
       "9           logistic regression      0.90       0.87    0.96  0.86"
      ]
     },
     "execution_count": 205,
     "metadata": {},
     "output_type": "execute_result"
    }
   ],
   "source": [
    "#\n",
    "\n",
    "table = {'Name':  ['kNN', 'naive Bayes', 'SVM', 'decision tree', 'random forest',  'AdaBoost', 'gradient Boosting', 'linear discriminant analysis', 'multi-layer perceptron', 'logistic regression'],\n",
    "         'Accuracy': [0.94,0.86,0.98,0.87,0.97,0.92,0.95,0.89,0.99,0.90],\n",
    "         'Precision': [0.93,0.81,0.98,0.82,0.97,0.89,0.94,0.86,0.99,0.87],\n",
    "         'Recall': [0.91,0.84,0.96,0.80,0.94,0.88,0.92,0.83,0.99,0.96],\n",
    "         'F1':[0.92,0.82,0.97,0.81,0.95,0.89,0.93,0.85,0.99,0.86]}\n",
    "         \n",
    "         \n",
    "\n",
    "        \n",
    "table = pd.DataFrame (table, columns = ['Name','Accuracy','Precision', 'Recall', 'F1'])\n",
    "\n",
    "\n",
    "\n",
    "table\n",
    "\n"
   ]
  },
  {
   "cell_type": "markdown",
   "metadata": {},
   "source": [
    "## Part 3"
   ]
  },
  {
   "cell_type": "markdown",
   "metadata": {},
   "source": [
    "Loss functions"
   ]
  },
  {
   "cell_type": "code",
   "execution_count": 35,
   "metadata": {},
   "outputs": [],
   "source": [
    "\"\"\"\n",
    "A function used to compute for the loss\n",
    "\n",
    "\"\"\"  \n",
    "\n",
    "import numpy as np\n",
    "\n",
    "\n",
    "def compute_loss(y, x, theta, metric_type):\n",
    "    \"\"\"\n",
    "    Compute the loss of given data with respect to the ground truth\n",
    "      y            ground truth\n",
    "      x            input data (feature matrix)\n",
    "      theta        model parameters (w and b)\n",
    "      metric_type  metric type seletor, e.g., \"MSE\" indicates the Mean Squared Error.\n",
    "    \"\"\"\n",
    "    if metric_type.upper() == \"MSE\":\n",
    "        return np.mean(np.power(x.dot(theta) - y, 2))\n",
    "    elif metric_type.upper() == \"RMSE\":\n",
    "        return np.sqrt(np.mean(np.power(x.dot(theta) - y, 2)))\n",
    "    elif metric_type.upper() == \"R2\":\n",
    "        return - (1 - np.mean(np.power(x.dot(theta) - y, 2)) / np.mean(np.power(y - np.mean(y), 2)))\n",
    "    elif metric_type.upper() == \"MAE\":\n",
    "        return np.mean(np.abs(y - x.dot(theta)))"
   ]
  },
  {
   "cell_type": "markdown",
   "metadata": {},
   "source": [
    "Optimizers"
   ]
  },
  {
   "cell_type": "code",
   "execution_count": 61,
   "metadata": {},
   "outputs": [],
   "source": [
    "from utilities.losses import compute_loss\n",
    "\n",
    "\n",
    "def gradient_descent(y, x, theta, max_iters, alpha, metric_type):\n",
    "    \"\"\"\n",
    "    Batch Gradient Descent\n",
    "    :param y:               ground truth\n",
    "    :param x:               input data (feature matrix)\n",
    "    :param theta:           model parameters (w and b)\n",
    "    :param max_iters:       max iterations\n",
    "    :param alpha:           step size\n",
    "    :param metric_type:     metric type\n",
    "    :return: thetas         all tracked updated model parameters\n",
    "             losses         all tracked losses during the learning course\n",
    "    \"\"\"\n",
    "    losses = []\n",
    "    thetas = []\n",
    "    num_of_samples = len(x)\n",
    "    for i in range(max_iters):\n",
    "        # This is for MSE loss only\n",
    "        gradient = -2 * x.T.dot(y - x.dot(theta)) / num_of_samples\n",
    "        theta = theta - alpha * gradient\n",
    "        loss = compute_loss(y, x, theta, metric_type)\n",
    "\n",
    "        # Track losses and thetas\n",
    "        thetas.append(theta)\n",
    "        losses.append(loss)\n",
    "\n",
    "        print(\"BGD({bi}/{ti}): loss={l}, w={w}, b={b}\".format(\n",
    "            bi = i, ti = max_iters - 1, l = loss, w = theta[0], b = theta[1]))\n",
    "    return thetas, losses\n",
    "\n",
    "\n",
    "def mini_batch_gradient_descent(y, x, theta, max_iters, alpha, metric_type, mini_batch_size):\n",
    "    \"\"\"\n",
    "    Mini Batch Gradient Descent\n",
    "    :param y:               ground truth\n",
    "    :param x:               input data (feature matrix)\n",
    "    :param theta:           model parameters (w and b)\n",
    "    :param max_iters:       max iterations\n",
    "    :param alpha:           step size\n",
    "    :param metric_type:     metric type\n",
    "    :param mini_batch_size: mini batch size\n",
    "    :return: thetas         all tracked updated model parameters\n",
    "             losses         all tracked losses during the learning course\n",
    "    \"\"\"\n",
    "    losses = []\n",
    "    thetas = []\n",
    "    # Please refer to the function \"gradient_descent\" to implement the mini-batch gradient descent here\n",
    "    num_of_samples = len(x)\n",
    "    for i in range(max_iters):\n",
    "        # This is for MSE loss only\n",
    "        gradient = -2 * x.T.dot(y - x.dot(theta)) / num_of_samples\n",
    "        theta = theta - alpha * gradient\n",
    "        loss = compute_loss(y, x, theta, metric_type)\n",
    "\n",
    "        # Track losses and thetas\n",
    "        thetas.append(theta)\n",
    "        losses.append(loss)\n",
    "\n",
    "        print(\"BGD({bi}/{ti}): loss={l}, w={w}, b={b}\".format(\n",
    "            bi = i, ti = max_iters - 1, l = loss, w = theta[0], b = theta[1]))\n",
    "    return thetas, losses\n",
    "\n",
    "\n",
    "def pso(y, x, theta, max_iters, pop_size, metric_type):\n",
    "    \"\"\"\n",
    "    Particle Swarm Optimization\n",
    "    :param y:               train labels\n",
    "    :param x:               train data\n",
    "    :param theta:           model parameters\n",
    "    :param max_iters:       max iterations\n",
    "    :param pop_size:        population size\n",
    "    :param metric_type:     metric type (MSE, RMSE, R2, MAE)\n",
    "    :return: best_thetas    all tracked best model parameters for each generation\n",
    "             losses         all tracked losses of the best model in each generation\n",
    "    \"\"\"\n",
    "    # Init settings\n",
    "    w = 0.729844  # Inertia weight to prevent velocities becoming too large\n",
    "    c_p = 1.496180  # Scaling co-efficient on the social component\n",
    "    c_g = 1.496180  # Scaling co-efficient on the cognitive component\n",
    "\n",
    "    terminate = False\n",
    "    g_best = theta\n",
    "\n",
    "    lower_bound = -100\n",
    "    upper_bound = 100\n",
    "\n",
    "    velocity = []\n",
    "    thetas = []\n",
    "    p_best = []\n",
    "\n",
    "    # Track results\n",
    "    best_thetas = []\n",
    "    losses = []\n",
    "\n",
    "    # initialization\n",
    "    for i in range(pop_size):\n",
    "        theta = np.random.uniform(lower_bound, upper_bound, len(theta))\n",
    "        thetas.append(theta)\n",
    "        p_best.append(theta)\n",
    "        if compute_loss(y, x, theta, metric_type) < compute_loss(y, x, g_best, metric_type):\n",
    "            g_best = theta.copy()\n",
    "        velocity.append(\n",
    "            np.random.uniform(-np.abs(upper_bound - lower_bound), np.abs(upper_bound - lower_bound), len(theta)))\n",
    "\n",
    "    # Evolution\n",
    "    count = 0\n",
    "    while not terminate:\n",
    "        for i in range(pop_size):\n",
    "            rand_p = np.random.uniform(0, 1, size = len(theta))\n",
    "            rand_g = np.random.uniform(0, 1, size = len(theta))\n",
    "            velocity[i] = w * velocity[i] + c_p * rand_p * (p_best[i] - thetas[i]) + c_g * rand_g * (g_best - thetas[i])\n",
    "            thetas[i] = thetas[i] + velocity[i]\n",
    "            if compute_loss(y, x, thetas[i], metric_type) < compute_loss(y, x, p_best[i], metric_type):\n",
    "                p_best[i] = thetas[i]\n",
    "                if compute_loss(y, x, p_best[i], metric_type) < compute_loss(y, x, g_best, metric_type):\n",
    "                    g_best = p_best[i]\n",
    "        best_thetas.append(g_best)\n",
    "        current_loss = compute_loss(y, x, g_best, metric_type)\n",
    "        losses.append(current_loss)\n",
    "\n",
    "        print(\"PSO({bi}/{ti}): loss={l}, w={w}, b={b}\".format(\n",
    "            bi = count, ti = max_iters - 1, l = current_loss, w = g_best[0], b = g_best[1]))\n",
    "        count += 1\n",
    "        if count >= max_iters:\n",
    "            terminate = True\n",
    "    return best_thetas, losses\n",
    "\n"
   ]
  },
  {
   "cell_type": "code",
   "execution_count": 3,
   "metadata": {},
   "outputs": [
    {
     "name": "stdout",
     "output_type": "stream",
     "text": [
      "BGD(0/49): loss=2852.0391348515573, w=0.7075625032674936, b=13.327898231674286\n",
      "BGD(1/49): loss=1825.9850450301676, w=1.2740168273119257, b=23.990216817013714\n",
      "BGD(2/49): loss=1169.3077854571814, w=1.7275039747326382, b=32.52007168528526\n",
      "BGD(3/49): loss=749.032645978115, w=2.090552828182019, b=39.34395557990249\n",
      "BGD(4/49): loss=480.05547141724435, w=2.3811993674292085, b=44.80306269559628\n",
      "BGD(5/49): loss=307.9093841173321, w=2.613882682563672, b=49.17034838815131\n",
      "BGD(6/49): loss=197.73544243739016, w=2.800162296565605, b=52.66417694219533\n",
      "BGD(7/49): loss=127.22383403736701, w=2.949292433260866, b=55.459239785430555\n",
      "BGD(8/49): loss=82.09622153611427, w=3.0686817598380434, b=57.69529006001873\n",
      "BGD(9/49): loss=53.21443216767158, w=3.164261443572115, b=59.48413027968927\n",
      "BGD(10/49): loss=34.73001174923219, w=3.2407798075215055, b=60.9152024554257\n",
      "BGD(11/49): loss=22.899934470144352, w=3.3020382234604178, b=62.060060196014845\n",
      "BGD(12/49): loss=15.32865411221005, w=3.3510799610206554, b=62.975946388486165\n",
      "BGD(13/49): loss=10.483014879307655, w=3.3903413749188798, b=63.70865534246322\n",
      "BGD(14/49): loss=7.381793077689646, w=3.421772941131115, b=64.29482250564486\n",
      "BGD(15/49): loss=5.397002989806633, w=3.446936154995882, b=64.76375623619018\n",
      "BGD(16/49): loss=4.126732119818885, w=3.4670811050670465, b=65.13890322062643\n",
      "BGD(17/49): loss=3.3137554214629237, w=3.483208576524019, b=65.43902080817543\n",
      "BGD(18/49): loss=2.7934481928580053, w=3.496119769387572, b=65.67911487821463\n",
      "BGD(19/49): loss=2.460450193931546, w=3.5064561015029083, b=65.87119013424599\n",
      "BGD(20/49): loss=2.247330594886837, w=3.5147310736706716, b=66.02485033907108\n",
      "BGD(21/49): loss=2.1109334876652732, w=3.5213557799604067, b=66.14777850293115\n",
      "BGD(22/49): loss=2.023638977674695, w=3.5266593305386458, b=66.2461210340192\n",
      "BGD(23/49): loss=1.9677702596741875, w=3.5309052016015676, b=66.32479505888965\n",
      "BGD(24/49): loss=1.9320141317138606, w=3.534304324663941, b=66.387734278786\n",
      "BGD(25/49): loss=1.9091301146818764, w=3.5370255654698757, b=66.43808565470309\n",
      "BGD(26/49): loss=1.894484282806474, w=3.539204113109369, b=66.47836675543675\n",
      "BGD(27/49): loss=1.8851109113264939, w=3.5409481961053295, b=66.51059163602369\n",
      "BGD(28/49): loss=1.8791119285325404, w=3.5423444591209527, b=66.53637154049323\n",
      "BGD(29/49): loss=1.8752725634915708, w=3.5434622673980316, b=66.55699546406888\n",
      "BGD(30/49): loss=1.8728153595768513, w=3.5443571527672817, b=66.57349460292939\n",
      "BGD(31/49): loss=1.8712427424773803, w=3.54507357242575, b=66.5866939140178\n",
      "BGD(32/49): loss=1.8702362633074991, w=3.5456471175351862, b=66.59725336288852\n",
      "BGD(33/49): loss=1.869592113930125, w=3.546106281362798, b=66.6057009219851\n",
      "BGD(34/49): loss=1.8691798565925968, w=3.5464738748042173, b=66.61245896926236\n",
      "BGD(35/49): loss=1.8689160107839393, w=3.546768159610748, b=66.61786540708418\n",
      "BGD(36/49): loss=1.8687471487532976, w=3.547003755618719, b=66.62219055734163\n",
      "BGD(37/49): loss=1.8686390765966472, w=3.547192367051386, b=66.62565067754758\n",
      "BGD(38/49): loss=1.8685699101234663, w=3.5473433639754814, b=66.62841877371235\n",
      "BGD(39/49): loss=1.8685256433928934, w=3.547464247798714, b=66.63063325064417\n",
      "BGD(40/49): loss=1.8684973125650017, w=3.547561023933771, b=66.63240483218962\n",
      "BGD(41/49): loss=1.868479180758035, w=3.547638500142465, b=66.63382209742598\n",
      "BGD(42/49): loss=1.8684675763521483, w=3.5477005253815395, b=66.63495590961507\n",
      "BGD(43/49): loss=1.8684601495007045, w=3.5477501810157928, b=66.63586295936635\n",
      "BGD(44/49): loss=1.8684553962954766, w=3.5477899338978434, b=66.63658859916737\n",
      "BGD(45/49): loss=1.868452354231119, w=3.5478217589194165, b=66.63716911100818\n",
      "BGD(46/49): loss=1.8684504073015904, w=3.5478472371224017, b=66.63763352048083\n",
      "BGD(47/49): loss=1.868449161261346, w=3.547867634243763, b=66.63800504805896\n",
      "BGD(48/49): loss=1.868448363792165, w=3.54788396359635, b=66.63830227012146\n",
      "BGD(49/49): loss=1.8684478534096927, w=3.5478970364094784, b=66.63854004777146\n",
      "Learn: execution time=0.007 seconds\n",
      "R2: 0.8362099758134547\n",
      "MSE: 2.4156981721089568\n",
      "RMSE: 1.5542516437530174\n",
      "MAE: 1.2801806378951273\n"
     ]
    }
   ],
   "source": [
    "\"\"\"\n",
    "This is an example to perform simple linear regression algorithm on the dataset (weight and height),\n",
    "where x = weight and y = height.\n",
    "\"\"\"\n",
    "import datetime\n",
    "import random\n",
    "\n",
    "from utilities.losses import compute_loss\n",
    "from utilities.optimizers import gradient_descent, pso, mini_batch_gradient_descent\n",
    "from sklearn.model_selection import train_test_split\n",
    "\n",
    "# General settings\n",
    "from utilities.visualization import visualize_train, visualize_test\n",
    "\n",
    "seed = 309\n",
    "# Freeze the random seed\n",
    "random.seed(seed)\n",
    "np.random.seed(seed)\n",
    "train_test_split_test_size = 0.3\n",
    "\n",
    "# Training settings\n",
    "alpha = 0.1  # step size\n",
    "max_iters = 50  # max iterations\n",
    "\n",
    "\n",
    "def load_data():\n",
    "    \"\"\"\n",
    "    Load Data from CSV\n",
    "    :return: df    a panda data frame\n",
    "    \"\"\"\n",
    "    df = pd.read_csv(\"/Users/keirynhart/Documents/Uni/Comp 309/Assignment 4/Part2.csv\")\n",
    "    return df\n",
    "\n",
    "\n",
    "def data_preprocess(data):\n",
    "    \"\"\"\n",
    "    Data preprocess:\n",
    "        1. Split the entire dataset into train and test\n",
    "        2. Split outputs and inputs\n",
    "        3. Standardize train and test\n",
    "        4. Add intercept dummy for computation convenience\n",
    "    :param data: the given dataset (format: panda DataFrame)\n",
    "    :return: train_data       train data contains only inputs\n",
    "             train_labels     train data contains only labels\n",
    "             test_data        test data contains only inputs\n",
    "             test_labels      test data contains only labels\n",
    "             train_data_full       train data (full) contains both inputs and labels\n",
    "             test_data_full       test data (full) contains both inputs and labels\n",
    "    \"\"\"\n",
    "    # Split the data into train and test\n",
    "    train_data, test_data = train_test_split(data, test_size = train_test_split_test_size)\n",
    "\n",
    "    # Pre-process data (both train and test)\n",
    "    train_data_full = train_data.copy()\n",
    "    train_data = train_data.drop([\"Height\"], axis = 1)\n",
    "    train_labels = train_data_full[\"Height\"]\n",
    "\n",
    "    test_data_full = test_data.copy()\n",
    "    test_data = test_data.drop([\"Height\"], axis = 1)\n",
    "    test_labels = test_data_full[\"Height\"]\n",
    "\n",
    "    # Standardize the inputs\n",
    "    train_mean = train_data.mean()\n",
    "    train_std = train_data.std()\n",
    "    train_data = (train_data - train_mean) / train_std\n",
    "    test_data = (test_data - train_mean) / train_std\n",
    "\n",
    "    # Tricks: add dummy intercept to both train and test\n",
    "    train_data['intercept_dummy'] = pd.Series(1.0, index = train_data.index)\n",
    "    test_data['intercept_dummy'] = pd.Series(1.0, index = test_data.index)\n",
    "    return train_data, train_labels, test_data, test_labels, train_data_full, test_data_full\n",
    "\n",
    "\n",
    "def learn(y, x, theta, max_iters, alpha, optimizer_type = \"BGD\", metric_type = \"MSE\"):\n",
    "    \"\"\"\n",
    "    Learn to estimate the regression parameters (i.e., w and b)\n",
    "    :param y:                   train labels\n",
    "    :param x:                   train data\n",
    "    :param theta:               model parameter\n",
    "    :param max_iters:           max training iterations\n",
    "    :param alpha:               step size\n",
    "    :param optimizer_type:      optimizer type (default: Batch Gradient Descient): GD, SGD, MiniBGD or PSO\n",
    "    :param metric_type:         metric type (MSE, RMSE, R2, MAE). NOTE: MAE can't be optimized by GD methods.\n",
    "    :return: thetas              all updated model parameters tracked during the learning course\n",
    "             losses             all losses tracked during the learning course\n",
    "    \"\"\"\n",
    "    thetas = None\n",
    "    losses = None\n",
    "    if optimizer_type == \"BGD\":\n",
    "        thetas, losses = gradient_descent(y, x, theta, max_iters, alpha, metric_type)\n",
    "    elif optimizer_type == \"MiniBGD\":\n",
    "        thetas, losses = mini_batch_gradient_descent(y, x, theta, max_iters, alpha, metric_type, mini_batch_size = 10)\n",
    "    elif optimizer_type == \"PSO\":\n",
    "        thetas, losses = pso(y, x, theta, max_iters, 100, metric_type)\n",
    "    else:\n",
    "        raise ValueError(\n",
    "            \"[ERROR] The optimizer '{ot}' is not defined, please double check and re-run your program.\".format(\n",
    "                ot = optimizer_type))\n",
    "    \n",
    "    start_time = datetime.datetime.now()  # Track learning starting time\n",
    "    thetas, losses = learn(train_labels.values, train_data.values, theta, max_iters, alpha, optimizer_type, metric_type)\n",
    "\n",
    "    end_time = datetime.datetime.now()  # Track learning ending time\n",
    "    exection_time = (end_time - start_time).total_seconds()  # Track execution time\n",
    "\n",
    "    # Step 4: Results presentation\n",
    "    print(\"Learn: execution time={t:.3f} seconds\".format(t = exection_time))\n",
    "\n",
    "    # Build baseline model\n",
    "    print(\"R2:\", -compute_loss(test_labels.values, test_data.values, thetas[-1], \"R2\"))  # R2 should be maximize\n",
    "    print(\"MSE:\", compute_loss(test_labels.values, test_data.values, thetas[-1], \"MSE\"))\n",
    "    print(\"RMSE:\", compute_loss(test_labels.values, test_data.values, thetas[-1], \"RMSE\"))\n",
    "    print(\"MAE:\", compute_loss(test_labels.values, test_data.values, thetas[-1], \"MAE\"))\n",
    "    \n",
    "    return thetas, losses\n",
    "\n",
    "\n",
    "if __name__ == '__main__':\n",
    "    # Settings\n",
    "    metric_type = \"MSE\"  # MSE, RMSE, MAE, R2\n",
    "    optimizer_type = \"BGD\"  # PSO, BGD\n",
    "\n",
    "    # Step 1: Load Data\n",
    "    data = load_data()\n",
    "\n",
    "    # Step 2: Preprocess the data\n",
    "    train_data, train_labels, test_data, test_labels, train_data_full, test_data_full = data_preprocess(data)\n",
    "\n",
    "    # Step 3: Learning Start\n",
    "    theta = np.array([0.0, 0.0])  # Initialize model parameter\n",
    "\n",
    "    start_time = datetime.datetime.now()  # Track learning starting time\n",
    "    thetas, losses = learn(train_labels.values, train_data.values, theta, max_iters, alpha, optimizer_type, metric_type)\n",
    "\n",
    "    end_time = datetime.datetime.now()  # Track learning ending time\n",
    "    exection_time = (end_time - start_time).total_seconds()  # Track execution time\n",
    "\n",
    "    # Step 4: Results presentation\n",
    "    print(\"Learn: execution time={t:.3f} seconds\".format(t = exection_time))\n",
    "\n",
    "    # Build baseline model\n",
    "    print(\"R2:\", -compute_loss(test_labels.values, test_data.values, thetas[-1], \"R2\"))  # R2 should be maximize\n",
    "    print(\"MSE:\", compute_loss(test_labels.values, test_data.values, thetas[-1], \"MSE\"))\n",
    "    print(\"RMSE:\", compute_loss(test_labels.values, test_data.values, thetas[-1], \"RMSE\"))\n",
    "    print(\"MAE:\", compute_loss(test_labels.values, test_data.values, thetas[-1], \"MAE\"))\n",
    "\n",
    "\n",
    "\n",
    "    "
   ]
  },
  {
   "cell_type": "code",
   "execution_count": 47,
   "metadata": {},
   "outputs": [],
   "source": []
  },
  {
   "cell_type": "code",
   "execution_count": 48,
   "metadata": {},
   "outputs": [],
   "source": [
    "\n"
   ]
  },
  {
   "cell_type": "code",
   "execution_count": 29,
   "metadata": {},
   "outputs": [],
   "source": [
    "\n"
   ]
  },
  {
   "cell_type": "code",
   "execution_count": 39,
   "metadata": {},
   "outputs": [],
   "source": [
    "\"\"\"\n",
    "Visualization functions\n",
    "\"\"\"\n",
    "\n",
    "import matplotlib.pyplot as plt\n",
    "import numpy as np\n",
    "\n",
    "# Visualize the training course\n",
    "from utilities.losses import compute_loss\n",
    "\n",
    "\n",
    "def compute_z_loss(y, x, thetas):\n",
    "    \"\"\"\n",
    "    Compute z-axis values\n",
    "    :param y:            train labels\n",
    "    :param x:            train data\n",
    "    :param thetas:       model parameters\n",
    "    :return: z_losses    value (loss) for z-axis\n",
    "    \"\"\"\n",
    "    thetas = np.array(thetas)\n",
    "    w = thetas[:, 0].reshape(thetas[:, 0].shape[0], )\n",
    "    b = thetas[:, 1].reshape(thetas[:, 1].shape[0], )\n",
    "    z_losses = np.zeros((len(w), len(b)))\n",
    "    for ind_row, row in enumerate(w):\n",
    "        for ind_col, col in enumerate(b):\n",
    "            theta = np.array([row, col])\n",
    "            z_losses[ind_row, ind_col] = compute_loss(y, x, theta, \"MSE\")\n",
    "    return z_losses\n",
    "\n",
    "\n",
    "def predict(x, thetas):\n",
    "    \"\"\"\n",
    "    Predict function\n",
    "    :param x:               test data\n",
    "    :param thetas:          trained model parameters\n",
    "    :return:                prediced labels\n",
    "    \"\"\"\n",
    "    return x.dot(thetas)\n",
    "\n",
    "\n",
    "def visualize_train(train_data_full, train_labels, train_data, thetas, losses, niter):\n",
    "    \"\"\"\n",
    "    Visualize Function for Training Results\n",
    "    :param train_data_full:   the train data set (full) with labels and data\n",
    "    :param thetas:            model parameters\n",
    "    :param losses:            all tracked losses\n",
    "    :param niter:             completed training iterations\n",
    "    :return: fig1              the figure for line fitting on training data\n",
    "             fig2              learning curve in terms of error\n",
    "             fig3              gradient variation visualization\n",
    "    \"\"\"\n",
    "    fig1, ax1 = plt.subplots()\n",
    "    ax1.scatter(train_data_full[\"Weight\"], train_data_full[\"Height\"], color = 'blue')\n",
    "\n",
    "    # De-standarize\n",
    "    train_mean = train_data_full[\"Weight\"].mean()\n",
    "    train_std = train_data_full[\"Weight\"].std()\n",
    "    train_data_for_plot = train_mean + train_data[\"Weight\"] * train_std\n",
    "\n",
    "    ax1.plot(train_data_for_plot, predict(train_data, thetas[niter - 1]), color = 'red', linewidth = 2)\n",
    "    ax1.set_xlabel(\"Height\")\n",
    "    ax1.set_ylabel(\"Weight\")\n",
    "\n",
    "    fig2, ax2 = plt.subplots()\n",
    "    ax2.plot(range(len(losses)), losses, color = 'blue', linewidth = 2)\n",
    "    ax2.set_xlabel(\"Iteration\")\n",
    "    ax2.set_ylabel(\"MSE\")\n",
    "\n",
    "    fig3, ax3 = plt.subplots()\n",
    "    np_gradient_ws = np.array(thetas)\n",
    "\n",
    "    w = np.linspace(min(np_gradient_ws[:, 0]), max(np_gradient_ws[:, 0]), len(np_gradient_ws[:, 0]))\n",
    "    b = np.linspace(min(np_gradient_ws[:, 1]), max(np_gradient_ws[:, 1]), len(np_gradient_ws[:, 1]))\n",
    "    x, y = np.meshgrid(w, b)\n",
    "    z = compute_z_loss(train_labels, train_data, np.stack((w,b)).T)\n",
    "    cp = ax3.contourf(x, y, z, cmap = plt.cm.jet)\n",
    "    fig3.colorbar(cp, ax = ax3)\n",
    "    ax3.plot(3.54794951, 66.63949115837143, color = 'red', marker = '*', markersize = 20)\n",
    "    if niter > 0:\n",
    "        thetas_to_plot = np_gradient_ws[:niter]\n",
    "    ax3.plot(thetas_to_plot[:, 0], thetas_to_plot[:, 1], marker = 'o', color = 'w', markersize = 10)\n",
    "    ax3.set_xlabel(r'$w$')\n",
    "    ax3.set_ylabel(r'$b$')\n",
    "    return fig1, fig2, fig3\n",
    "\n",
    "\n",
    "def visualize_test(test_data_full, test_data, thetas):\n",
    "    \"\"\"\n",
    "    Visualize Test for Testing Results\n",
    "    :param test_data_full:          the test data set (full) with labels and data\n",
    "    :param thetas:                  model parameters\n",
    "    :return: fig\n",
    "    \"\"\"\n",
    "    fig, ax = plt.subplots()\n",
    "    ax.scatter(test_data_full[\"Weight\"], test_data_full[\"Height\"], color='blue')\n",
    "    ax.plot(test_data_full[\"Weight\"], predict(test_data, thetas[-1]), color='red', linewidth=2)\n",
    "    return fig\n"
   ]
  },
  {
   "cell_type": "code",
   "execution_count": null,
   "metadata": {},
   "outputs": [],
   "source": []
  },
  {
   "cell_type": "code",
   "execution_count": 30,
   "metadata": {},
   "outputs": [],
   "source": [
    "theta = np.array([0.0,0.0])"
   ]
  },
  {
   "cell_type": "code",
   "execution_count": 60,
   "metadata": {},
   "outputs": [],
   "source": [
    "df = load_data()"
   ]
  },
  {
   "cell_type": "code",
   "execution_count": 62,
   "metadata": {},
   "outputs": [],
   "source": [
    "df = data_preprocess(df)"
   ]
  },
  {
   "cell_type": "code",
   "execution_count": 87,
   "metadata": {},
   "outputs": [
    {
     "name": "stdout",
     "output_type": "stream",
     "text": [
      "BGD(0/49): loss=2852.039134851559, w=0.7075625032674936, b=13.327898231674286\n",
      "BGD(1/49): loss=1825.9850450301685, w=1.2740168273119257, b=23.990216817013714\n",
      "BGD(2/49): loss=1169.3077854571823, w=1.7275039747326382, b=32.52007168528526\n",
      "BGD(3/49): loss=749.0326459781148, w=2.090552828182019, b=39.34395557990249\n",
      "BGD(4/49): loss=480.055471417244, w=2.3811993674292085, b=44.80306269559628\n",
      "BGD(5/49): loss=307.9093841173318, w=2.613882682563672, b=49.17034838815131\n",
      "BGD(6/49): loss=197.73544243739008, w=2.800162296565605, b=52.66417694219533\n",
      "BGD(7/49): loss=127.22383403736698, w=2.949292433260866, b=55.459239785430555\n",
      "BGD(8/49): loss=82.09622153611429, w=3.0686817598380434, b=57.69529006001873\n",
      "BGD(9/49): loss=53.21443216767159, w=3.164261443572115, b=59.48413027968927\n",
      "BGD(10/49): loss=34.73001174923218, w=3.2407798075215055, b=60.9152024554257\n",
      "BGD(11/49): loss=22.89993447014434, w=3.3020382234604178, b=62.060060196014845\n",
      "BGD(12/49): loss=15.328654112210042, w=3.3510799610206554, b=62.975946388486165\n",
      "BGD(13/49): loss=10.483014879307657, w=3.3903413749188798, b=63.70865534246322\n",
      "BGD(14/49): loss=7.3817930776896485, w=3.421772941131115, b=64.29482250564486\n",
      "BGD(15/49): loss=5.397002989806634, w=3.446936154995882, b=64.76375623619018\n",
      "BGD(16/49): loss=4.126732119818887, w=3.4670811050670465, b=65.13890322062643\n",
      "BGD(17/49): loss=3.3137554214629206, w=3.483208576524019, b=65.43902080817543\n",
      "BGD(18/49): loss=2.793448192858004, w=3.496119769387572, b=65.67911487821463\n",
      "BGD(19/49): loss=2.4604501939315475, w=3.5064561015029083, b=65.87119013424599\n",
      "BGD(20/49): loss=2.247330594886836, w=3.5147310736706716, b=66.02485033907108\n",
      "BGD(21/49): loss=2.1109334876652746, w=3.5213557799604067, b=66.14777850293115\n",
      "BGD(22/49): loss=2.0236389776746937, w=3.5266593305386458, b=66.2461210340192\n",
      "BGD(23/49): loss=1.9677702596741875, w=3.5309052016015676, b=66.32479505888965\n",
      "BGD(24/49): loss=1.9320141317138604, w=3.534304324663941, b=66.387734278786\n",
      "BGD(25/49): loss=1.9091301146818787, w=3.5370255654698757, b=66.43808565470309\n",
      "BGD(26/49): loss=1.8944842828064745, w=3.539204113109369, b=66.47836675543675\n",
      "BGD(27/49): loss=1.885110911326492, w=3.5409481961053295, b=66.51059163602369\n",
      "BGD(28/49): loss=1.8791119285325415, w=3.5423444591209527, b=66.53637154049323\n",
      "BGD(29/49): loss=1.8752725634915703, w=3.5434622673980316, b=66.55699546406888\n",
      "BGD(30/49): loss=1.872815359576852, w=3.5443571527672817, b=66.57349460292939\n",
      "BGD(31/49): loss=1.8712427424773803, w=3.54507357242575, b=66.5866939140178\n",
      "BGD(32/49): loss=1.8702362633074971, w=3.5456471175351862, b=66.59725336288852\n",
      "BGD(33/49): loss=1.8695921139301248, w=3.546106281362798, b=66.6057009219851\n",
      "BGD(34/49): loss=1.8691798565925957, w=3.5464738748042173, b=66.61245896926236\n",
      "BGD(35/49): loss=1.8689160107839402, w=3.546768159610748, b=66.61786540708418\n",
      "BGD(36/49): loss=1.868747148753297, w=3.547003755618719, b=66.62219055734163\n",
      "BGD(37/49): loss=1.868639076596648, w=3.547192367051386, b=66.62565067754758\n",
      "BGD(38/49): loss=1.8685699101234654, w=3.5473433639754814, b=66.62841877371235\n",
      "BGD(39/49): loss=1.868525643392892, w=3.547464247798714, b=66.63063325064417\n",
      "BGD(40/49): loss=1.8684973125649997, w=3.547561023933771, b=66.63240483218962\n",
      "BGD(41/49): loss=1.868479180758035, w=3.547638500142465, b=66.63382209742598\n",
      "BGD(42/49): loss=1.8684675763521488, w=3.5477005253815395, b=66.63495590961507\n",
      "BGD(43/49): loss=1.868460149500707, w=3.5477501810157928, b=66.63586295936635\n",
      "BGD(44/49): loss=1.8684553962954777, w=3.5477899338978434, b=66.63658859916737\n",
      "BGD(45/49): loss=1.8684523542311213, w=3.5478217589194165, b=66.63716911100818\n",
      "BGD(46/49): loss=1.8684504073015893, w=3.5478472371224017, b=66.63763352048083\n",
      "BGD(47/49): loss=1.8684491612613474, w=3.547867634243763, b=66.63800504805896\n",
      "BGD(48/49): loss=1.8684483637921663, w=3.54788396359635, b=66.63830227012146\n",
      "BGD(49/49): loss=1.8684478534096924, w=3.5478970364094784, b=66.63854004777146\n",
      "Learn: execution time=0.108 seconds\n",
      "R2: 0.8362099758134548\n",
      "MSE: 2.4156981721089568\n",
      "RMSE: 1.5542516437530174\n",
      "MAE: 1.2801806378951264\n"
     ]
    }
   ],
   "source": [
    "#BGD_MSE = learn(train_labels, train_data, theta, 50, 0.1, \"BGD\", \"MSE\")\n",
    "start_time = datetime.datetime.now()\n",
    "thetas1, losses1 = gradient_descent(train_labels, train_data, theta, 50, 0.1, \"MSE\")\n",
    "\n",
    "end_time = datetime.datetime.now()\n",
    "exection_time = (end_time - start_time).total_seconds()\n",
    "print(\"Learn: execution time={t:.3f} seconds\".format(t = exection_time))\n",
    "\n",
    "print(\"R2:\", -compute_loss(test_labels, test_data, thetas1[-1], \"R2\"))  # R2 should be maximize\n",
    "print(\"MSE:\", compute_loss(test_labels, test_data, thetas1[-1], \"MSE\"))\n",
    "print(\"RMSE:\", compute_loss(test_labels, test_data, thetas1[-1], \"RMSE\"))\n",
    "print(\"MAE:\", compute_loss(test_labels, test_data, thetas1[-1], \"MAE\"))\n",
    "\n",
    "\n",
    "#visualize_train(train_data_full, train_labels, train_data, thetas, losses, 50)"
   ]
  },
  {
   "cell_type": "code",
   "execution_count": 72,
   "metadata": {},
   "outputs": [],
   "source": [
    "pred = predict(test_data, thetas[-1])"
   ]
  },
  {
   "cell_type": "code",
   "execution_count": 65,
   "metadata": {},
   "outputs": [
    {
     "data": {
      "text/plain": [
       "(<Figure size 432x288 with 1 Axes>,\n",
       " <Figure size 432x288 with 1 Axes>,\n",
       " <Figure size 432x288 with 2 Axes>)"
      ]
     },
     "execution_count": 65,
     "metadata": {},
     "output_type": "execute_result"
    },
    {
     "data": {
      "image/png": "[encoded data removed]",
      "text/plain": [
       "<Figure size 432x288 with 1 Axes>"
      ]
     },
     "metadata": {
      "needs_background": "light"
     },
     "output_type": "display_data"
    },
    {
     "data": {
      "image/png": "[encoded data removed]",
      "text/plain": [
       "<Figure size 432x288 with 1 Axes>"
      ]
     },
     "metadata": {
      "needs_background": "light"
     },
     "output_type": "display_data"
    },
    {
     "data": {
      "image/png": "[encoded data removed]",
      "text/plain": [
       "<Figure size 432x288 with 2 Axes>"
      ]
     },
     "metadata": {
      "needs_background": "light"
     },
     "output_type": "display_data"
    }
   ],
   "source": [
    "visualize_train(train_data_full, train_labels, train_data, thetas1, losses1, 50)"
   ]
  },
  {
   "cell_type": "code",
   "execution_count": 88,
   "metadata": {},
   "outputs": [
    {
     "name": "stdout",
     "output_type": "stream",
     "text": [
      "BGD(0/49): loss=2852.039134851559, w=0.7075625032674936, b=13.327898231674286\n",
      "BGD(1/49): loss=1825.9850450301685, w=1.2740168273119257, b=23.990216817013714\n",
      "BGD(2/49): loss=1169.3077854571823, w=1.7275039747326382, b=32.52007168528526\n",
      "BGD(3/49): loss=749.0326459781148, w=2.090552828182019, b=39.34395557990249\n",
      "BGD(4/49): loss=480.055471417244, w=2.3811993674292085, b=44.80306269559628\n",
      "BGD(5/49): loss=307.9093841173318, w=2.613882682563672, b=49.17034838815131\n",
      "BGD(6/49): loss=197.73544243739008, w=2.800162296565605, b=52.66417694219533\n",
      "BGD(7/49): loss=127.22383403736698, w=2.949292433260866, b=55.459239785430555\n",
      "BGD(8/49): loss=82.09622153611429, w=3.0686817598380434, b=57.69529006001873\n",
      "BGD(9/49): loss=53.21443216767159, w=3.164261443572115, b=59.48413027968927\n",
      "BGD(10/49): loss=34.73001174923218, w=3.2407798075215055, b=60.9152024554257\n",
      "BGD(11/49): loss=22.89993447014434, w=3.3020382234604178, b=62.060060196014845\n",
      "BGD(12/49): loss=15.328654112210042, w=3.3510799610206554, b=62.975946388486165\n",
      "BGD(13/49): loss=10.483014879307657, w=3.3903413749188798, b=63.70865534246322\n",
      "BGD(14/49): loss=7.3817930776896485, w=3.421772941131115, b=64.29482250564486\n",
      "BGD(15/49): loss=5.397002989806634, w=3.446936154995882, b=64.76375623619018\n",
      "BGD(16/49): loss=4.126732119818887, w=3.4670811050670465, b=65.13890322062643\n",
      "BGD(17/49): loss=3.3137554214629206, w=3.483208576524019, b=65.43902080817543\n",
      "BGD(18/49): loss=2.793448192858004, w=3.496119769387572, b=65.67911487821463\n",
      "BGD(19/49): loss=2.4604501939315475, w=3.5064561015029083, b=65.87119013424599\n",
      "BGD(20/49): loss=2.247330594886836, w=3.5147310736706716, b=66.02485033907108\n",
      "BGD(21/49): loss=2.1109334876652746, w=3.5213557799604067, b=66.14777850293115\n",
      "BGD(22/49): loss=2.0236389776746937, w=3.5266593305386458, b=66.2461210340192\n",
      "BGD(23/49): loss=1.9677702596741875, w=3.5309052016015676, b=66.32479505888965\n",
      "BGD(24/49): loss=1.9320141317138604, w=3.534304324663941, b=66.387734278786\n",
      "BGD(25/49): loss=1.9091301146818787, w=3.5370255654698757, b=66.43808565470309\n",
      "BGD(26/49): loss=1.8944842828064745, w=3.539204113109369, b=66.47836675543675\n",
      "BGD(27/49): loss=1.885110911326492, w=3.5409481961053295, b=66.51059163602369\n",
      "BGD(28/49): loss=1.8791119285325415, w=3.5423444591209527, b=66.53637154049323\n",
      "BGD(29/49): loss=1.8752725634915703, w=3.5434622673980316, b=66.55699546406888\n",
      "BGD(30/49): loss=1.872815359576852, w=3.5443571527672817, b=66.57349460292939\n",
      "BGD(31/49): loss=1.8712427424773803, w=3.54507357242575, b=66.5866939140178\n",
      "BGD(32/49): loss=1.8702362633074971, w=3.5456471175351862, b=66.59725336288852\n",
      "BGD(33/49): loss=1.8695921139301248, w=3.546106281362798, b=66.6057009219851\n",
      "BGD(34/49): loss=1.8691798565925957, w=3.5464738748042173, b=66.61245896926236\n",
      "BGD(35/49): loss=1.8689160107839402, w=3.546768159610748, b=66.61786540708418\n",
      "BGD(36/49): loss=1.868747148753297, w=3.547003755618719, b=66.62219055734163\n",
      "BGD(37/49): loss=1.868639076596648, w=3.547192367051386, b=66.62565067754758\n",
      "BGD(38/49): loss=1.8685699101234654, w=3.5473433639754814, b=66.62841877371235\n",
      "BGD(39/49): loss=1.868525643392892, w=3.547464247798714, b=66.63063325064417\n",
      "BGD(40/49): loss=1.8684973125649997, w=3.547561023933771, b=66.63240483218962\n",
      "BGD(41/49): loss=1.868479180758035, w=3.547638500142465, b=66.63382209742598\n",
      "BGD(42/49): loss=1.8684675763521488, w=3.5477005253815395, b=66.63495590961507\n",
      "BGD(43/49): loss=1.868460149500707, w=3.5477501810157928, b=66.63586295936635\n",
      "BGD(44/49): loss=1.8684553962954777, w=3.5477899338978434, b=66.63658859916737\n",
      "BGD(45/49): loss=1.8684523542311213, w=3.5478217589194165, b=66.63716911100818\n",
      "BGD(46/49): loss=1.8684504073015893, w=3.5478472371224017, b=66.63763352048083\n",
      "BGD(47/49): loss=1.8684491612613474, w=3.547867634243763, b=66.63800504805896\n",
      "BGD(48/49): loss=1.8684483637921663, w=3.54788396359635, b=66.63830227012146\n",
      "BGD(49/49): loss=1.8684478534096924, w=3.5478970364094784, b=66.63854004777146\n",
      "Learn: execution time=0.108 seconds\n"
     ]
    }
   ],
   "source": [
    "start_time = datetime.datetime.now()\n",
    "\n",
    "thetas2, losses2 = mini_batch_gradient_descent(train_labels, train_data, theta, 50, 0.1, \"MSE\", 10)\n",
    "\n",
    "end_time = datetime.datetime.now()\n",
    "exection_time = (end_time - start_time).total_seconds()\n",
    "print(\"Learn: execution time={t:.3f} seconds\".format(t = exection_time))\n",
    "\n",
    "#(train_labels, train_data, theta, 50, 0.1, \"MSE\")"
   ]
  },
  {
   "cell_type": "code",
   "execution_count": 89,
   "metadata": {},
   "outputs": [
    {
     "name": "stdout",
     "output_type": "stream",
     "text": [
      "PSO(0/49): loss=213.74545944441604, w=16.35487976774624, b=73.59133777059216\n",
      "PSO(1/49): loss=129.03548750457776, w=-5.087770641078393, b=73.90615829448103\n",
      "PSO(2/49): loss=23.90990843953335, w=-0.06899765784126544, b=63.640069103661446\n",
      "PSO(3/49): loss=14.777221581369735, w=3.081228634145317, b=70.20201394728642\n",
      "PSO(4/49): loss=14.777221581369735, w=3.081228634145317, b=70.20201394728642\n",
      "PSO(5/49): loss=14.777221581369735, w=3.081228634145317, b=70.20201394728642\n",
      "PSO(6/49): loss=2.7607937797725177, w=3.0116601457543046, b=65.86131233672671\n",
      "PSO(7/49): loss=2.7607937797725177, w=3.0116601457543046, b=65.86131233672671\n",
      "PSO(8/49): loss=2.7607937797725177, w=3.0116601457543046, b=65.86131233672671\n",
      "PSO(9/49): loss=2.7607937797725177, w=3.0116601457543046, b=65.86131233672671\n",
      "PSO(10/49): loss=2.7607937797725177, w=3.0116601457543046, b=65.86131233672671\n",
      "PSO(11/49): loss=2.7607937797725177, w=3.0116601457543046, b=65.86131233672671\n",
      "PSO(12/49): loss=1.9668976238482514, w=3.819692387963258, b=66.48195553649289\n",
      "PSO(13/49): loss=1.9668976238482514, w=3.819692387963258, b=66.48195553649289\n",
      "PSO(14/49): loss=1.9668976238482514, w=3.819692387963258, b=66.48195553649289\n",
      "PSO(15/49): loss=1.8949178572104006, w=3.3850696275169385, b=66.64359640148324\n",
      "PSO(16/49): loss=1.8949178572104006, w=3.3850696275169385, b=66.64359640148324\n",
      "PSO(17/49): loss=1.8949178572104006, w=3.3850696275169385, b=66.64359640148324\n",
      "PSO(18/49): loss=1.8949178572104006, w=3.3850696275169385, b=66.64359640148324\n",
      "PSO(19/49): loss=1.8949178572104006, w=3.3850696275169385, b=66.64359640148324\n",
      "PSO(20/49): loss=1.8949178572104006, w=3.3850696275169385, b=66.64359640148324\n",
      "PSO(21/49): loss=1.8949178572104006, w=3.3850696275169385, b=66.64359640148324\n",
      "PSO(22/49): loss=1.8924179331691604, w=3.6920840009792832, b=66.58243335011308\n",
      "PSO(23/49): loss=1.8924179331691604, w=3.6920840009792832, b=66.58243335011308\n",
      "PSO(24/49): loss=1.8823165583037407, w=3.61421438033894, b=66.54206874989393\n",
      "PSO(25/49): loss=1.8823165583037407, w=3.61421438033894, b=66.54206874989393\n",
      "PSO(26/49): loss=1.8823165583037407, w=3.61421438033894, b=66.54206874989393\n",
      "PSO(27/49): loss=1.877644087489082, w=3.458088064089909, b=66.67333096841926\n",
      "PSO(28/49): loss=1.877644087489082, w=3.458088064089909, b=66.67333096841926\n",
      "PSO(29/49): loss=1.877644087489082, w=3.458088064089909, b=66.67333096841926\n",
      "PSO(30/49): loss=1.8770968328360194, w=3.6399612769687923, b=66.65391029410536\n",
      "PSO(31/49): loss=1.8770968328360194, w=3.6399612769687923, b=66.65391029410536\n",
      "PSO(32/49): loss=1.8770968328360194, w=3.6399612769687923, b=66.65391029410536\n",
      "PSO(33/49): loss=1.8770968328360194, w=3.6399612769687923, b=66.65391029410536\n",
      "PSO(34/49): loss=1.8713135827707996, w=3.597755478522878, b=66.65931766177162\n",
      "PSO(35/49): loss=1.8713135827707996, w=3.597755478522878, b=66.65931766177162\n",
      "PSO(36/49): loss=1.8690574450508102, w=3.572521722916308, b=66.64239472830693\n",
      "PSO(37/49): loss=1.8690574450508102, w=3.572521722916308, b=66.64239472830693\n",
      "PSO(38/49): loss=1.8690574450508102, w=3.572521722916308, b=66.64239472830693\n",
      "PSO(39/49): loss=1.868917452884693, w=3.56772715606369, b=66.6484616282873\n",
      "PSO(40/49): loss=1.868917452884693, w=3.56772715606369, b=66.6484616282873\n",
      "PSO(41/49): loss=1.8688085999969173, w=3.532788554171344, b=66.65100010883407\n",
      "PSO(42/49): loss=1.8686278419873552, w=3.5354995684376904, b=66.6343591385501\n",
      "PSO(43/49): loss=1.8686278419873552, w=3.5354995684376904, b=66.6343591385501\n",
      "PSO(44/49): loss=1.8686278419873552, w=3.5354995684376904, b=66.6343591385501\n",
      "PSO(45/49): loss=1.8686278419873552, w=3.5354995684376904, b=66.6343591385501\n",
      "PSO(46/49): loss=1.8686278419873552, w=3.5354995684376904, b=66.6343591385501\n",
      "PSO(47/49): loss=1.868600662483574, w=3.535592392142958, b=66.64069707240579\n",
      "PSO(48/49): loss=1.8685237260427143, w=3.5547774817290447, b=66.64499498099201\n",
      "PSO(49/49): loss=1.8685237260427143, w=3.5547774817290447, b=66.64499498099201\n",
      "Learn: execution time=4.769 seconds\n",
      "R2: 0.8362772967696472\n",
      "MSE: 2.4147052721345763\n",
      "RMSE: 1.553932196762322\n",
      "MAE: 1.2799328576391846\n"
     ]
    }
   ],
   "source": [
    "start_time = datetime.datetime.now()\n",
    "\n",
    "thetas2, losses2 = pso(train_labels, train_data, theta, 50, 100, \"MSE\")\n",
    "\n",
    "end_time = datetime.datetime.now()\n",
    "exection_time = (end_time - start_time).total_seconds()\n",
    "print(\"Learn: execution time={t:.3f} seconds\".format(t = exection_time))\n",
    "\n",
    "print(\"R2:\", -compute_loss(test_labels, test_data, thetas2[-1], \"R2\"))  # R2 should be maximize\n",
    "print(\"MSE:\", compute_loss(test_labels, test_data, thetas2[-1], \"MSE\"))\n",
    "print(\"RMSE:\", compute_loss(test_labels, test_data, thetas2[-1], \"RMSE\"))\n",
    "print(\"MAE:\", compute_loss(test_labels, test_data, thetas2[-1], \"MAE\"))\n",
    "\n",
    "\n"
   ]
  },
  {
   "cell_type": "code",
   "execution_count": 73,
   "metadata": {},
   "outputs": [],
   "source": [
    "pred2 = predict(test_data, thetas2[-1])"
   ]
  },
  {
   "cell_type": "code",
   "execution_count": 84,
   "metadata": {},
   "outputs": [
    {
     "data": {
      "image/png": "[encoded data removed]",
      "text/plain": [
       "<Figure size 432x288 with 1 Axes>"
      ]
     },
     "execution_count": 84,
     "metadata": {},
     "output_type": "execute_result"
    },
    {
     "data": {
      "image/png": "[encoded data removed]",
      "text/plain": [
       "<Figure size 432x288 with 1 Axes>"
      ]
     },
     "metadata": {
      "needs_background": "light"
     },
     "output_type": "display_data"
    }
   ],
   "source": [
    "#visualize_train(train_data_full, train_labels, train_data, thetas2, losses2, 50)\n",
    "visualize_test(test_data_full, test_data, thetas2)"
   ]
  },
  {
   "cell_type": "code",
   "execution_count": 90,
   "metadata": {},
   "outputs": [
    {
     "name": "stdout",
     "output_type": "stream",
     "text": [
      "PSO(0/49): loss=4.583129893963078, w=8.22998091064153, b=69.27010505658089\n",
      "PSO(1/49): loss=4.583129893963078, w=8.22998091064153, b=69.27010505658089\n",
      "PSO(2/49): loss=4.583129893963078, w=8.22998091064153, b=69.27010505658089\n",
      "PSO(3/49): loss=4.583129893963078, w=8.22998091064153, b=69.27010505658089\n",
      "PSO(4/49): loss=4.583129893963078, w=8.22998091064153, b=69.27010505658089\n",
      "PSO(5/49): loss=4.569693827866598, w=0.7003913448427195, b=62.254844362338204\n",
      "PSO(6/49): loss=4.161288989991838, w=5.4395832002476965, b=62.52607037304665\n",
      "PSO(7/49): loss=3.236630069657532, w=3.895718297821876, b=63.418299708011276\n",
      "PSO(8/49): loss=1.8656334833432828, w=2.0218233469853075, b=65.52034050228576\n",
      "PSO(9/49): loss=1.8656334833432828, w=2.0218233469853075, b=65.52034050228576\n",
      "PSO(10/49): loss=1.3738738853763859, w=4.449152390226121, b=67.08127377854223\n",
      "PSO(11/49): loss=1.3738738853763859, w=4.449152390226121, b=67.08127377854223\n",
      "PSO(12/49): loss=1.0859271601510694, w=3.4872155753521303, b=66.70979545992932\n",
      "PSO(13/49): loss=1.0859271601510694, w=3.4872155753521303, b=66.70979545992932\n",
      "PSO(14/49): loss=1.0859271601510694, w=3.4872155753521303, b=66.70979545992932\n",
      "PSO(15/49): loss=1.0859271601510694, w=3.4872155753521303, b=66.70979545992932\n",
      "PSO(16/49): loss=1.0859271601510694, w=3.4872155753521303, b=66.70979545992932\n",
      "PSO(17/49): loss=1.0859271601510694, w=3.4872155753521303, b=66.70979545992932\n",
      "PSO(18/49): loss=1.0859271601510694, w=3.4872155753521303, b=66.70979545992932\n",
      "PSO(19/49): loss=1.0859271601510694, w=3.4872155753521303, b=66.70979545992932\n",
      "PSO(20/49): loss=1.0859271601510694, w=3.4872155753521303, b=66.70979545992932\n",
      "PSO(21/49): loss=1.0859271601510694, w=3.4872155753521303, b=66.70979545992932\n",
      "PSO(22/49): loss=1.0859271601510694, w=3.4872155753521303, b=66.70979545992932\n",
      "PSO(23/49): loss=1.0859271601510694, w=3.4872155753521303, b=66.70979545992932\n",
      "PSO(24/49): loss=1.0859271601510694, w=3.4872155753521303, b=66.70979545992932\n",
      "PSO(25/49): loss=1.0859271601510694, w=3.4872155753521303, b=66.70979545992932\n",
      "PSO(26/49): loss=1.0859271601510694, w=3.4872155753521303, b=66.70979545992932\n",
      "PSO(27/49): loss=1.0859271601510694, w=3.4872155753521303, b=66.70979545992932\n",
      "PSO(28/49): loss=1.0859271601510694, w=3.4872155753521303, b=66.70979545992932\n",
      "PSO(29/49): loss=1.0859271601510694, w=3.4872155753521303, b=66.70979545992932\n",
      "PSO(30/49): loss=1.0859271601510694, w=3.4872155753521303, b=66.70979545992932\n",
      "PSO(31/49): loss=1.0859271601510694, w=3.4872155753521303, b=66.70979545992932\n",
      "PSO(32/49): loss=1.0859271601510694, w=3.4872155753521303, b=66.70979545992932\n",
      "PSO(33/49): loss=1.0859271601510694, w=3.4872155753521303, b=66.70979545992932\n",
      "PSO(34/49): loss=1.0859271601510694, w=3.4872155753521303, b=66.70979545992932\n",
      "PSO(35/49): loss=1.0859271601510694, w=3.4872155753521303, b=66.70979545992932\n",
      "PSO(36/49): loss=1.0839916057070669, w=3.5412346292121986, b=66.6416357164242\n",
      "PSO(37/49): loss=1.0837119342645594, w=3.542847919454605, b=66.60166715468176\n",
      "PSO(38/49): loss=1.0837119342645594, w=3.542847919454605, b=66.60166715468176\n",
      "PSO(39/49): loss=1.0837119342645594, w=3.542847919454605, b=66.60166715468176\n",
      "PSO(40/49): loss=1.0837119342645594, w=3.542847919454605, b=66.60166715468176\n",
      "PSO(41/49): loss=1.0837119342645594, w=3.542847919454605, b=66.60166715468176\n",
      "PSO(42/49): loss=1.0837119342645594, w=3.542847919454605, b=66.60166715468176\n",
      "PSO(43/49): loss=1.0837119342645594, w=3.542847919454605, b=66.60166715468176\n",
      "PSO(44/49): loss=1.0837119342645594, w=3.542847919454605, b=66.60166715468176\n",
      "PSO(45/49): loss=1.0837119342645594, w=3.542847919454605, b=66.60166715468176\n",
      "PSO(46/49): loss=1.0837119342645594, w=3.542847919454605, b=66.60166715468176\n",
      "PSO(47/49): loss=1.0836846550609325, w=3.5383126462586367, b=66.59594026212795\n",
      "PSO(48/49): loss=1.0836846550609325, w=3.5383126462586367, b=66.59594026212795\n",
      "PSO(49/49): loss=1.0836697060900384, w=3.5105552381614276, b=66.59787775765177\n",
      "Learn: execution time=4.279 seconds\n",
      "R2: 0.8355156258462404\n",
      "MSE: 2.425938966412116\n",
      "RMSE: 1.55754260500704\n",
      "MAE: 1.2836014374339635\n"
     ]
    }
   ],
   "source": [
    "start_time = datetime.datetime.now()\n",
    "\n",
    "thetas3, losses3 = pso(train_labels, train_data, theta, 50, 100, \"MAE\")\n",
    "\n",
    "end_time = datetime.datetime.now()\n",
    "exection_time = (end_time - start_time).total_seconds()\n",
    "print(\"Learn: execution time={t:.3f} seconds\".format(t = exection_time))\n",
    "\n",
    "print(\"R2:\", -compute_loss(test_labels, test_data, thetas3[-1], \"R2\"))  # R2 should be maximize\n",
    "print(\"MSE:\", compute_loss(test_labels, test_data, thetas3[-1], \"MSE\"))\n",
    "print(\"RMSE:\", compute_loss(test_labels, test_data, thetas3[-1], \"RMSE\"))\n",
    "print(\"MAE:\", compute_loss(test_labels, test_data, thetas3[-1], \"MAE\"))"
   ]
  },
  {
   "cell_type": "code",
   "execution_count": 85,
   "metadata": {},
   "outputs": [
    {
     "data": {
      "image/png": "[encoded data removed]",
      "text/plain": [
       "<Figure size 432x288 with 1 Axes>"
      ]
     },
     "execution_count": 85,
     "metadata": {},
     "output_type": "execute_result"
    },
    {
     "data": {
      "image/png": "[encoded data removed]",
      "text/plain": [
       "<Figure size 432x288 with 1 Axes>"
      ]
     },
     "metadata": {
      "needs_background": "light"
     },
     "output_type": "display_data"
    }
   ],
   "source": [
    "visualize_test(test_data_full, test_data, thetas3)"
   ]
  },
  {
   "cell_type": "code",
   "execution_count": 215,
   "metadata": {},
   "outputs": [
    {
     "data": {
      "text/html": [
       "<div>\n",
       "<style scoped>\n",
       "    .dataframe tbody tr th:only-of-type {\n",
       "        vertical-align: middle;\n",
       "    }\n",
       "\n",
       "    .dataframe tbody tr th {\n",
       "        vertical-align: top;\n",
       "    }\n",
       "\n",
       "    .dataframe thead th {\n",
       "        text-align: right;\n",
       "    }\n",
       "</style>\n",
       "<table border=\"1\" class=\"dataframe\">\n",
       "  <thead>\n",
       "    <tr style=\"text-align: right;\">\n",
       "      <th></th>\n",
       "      <th>Name</th>\n",
       "      <th>R2</th>\n",
       "      <th>MSE</th>\n",
       "      <th>RMSE</th>\n",
       "      <th>MAE</th>\n",
       "    </tr>\n",
       "  </thead>\n",
       "  <tbody>\n",
       "    <tr>\n",
       "      <th>0</th>\n",
       "      <td>BGD</td>\n",
       "      <td>0.84</td>\n",
       "      <td>2.42</td>\n",
       "      <td>1.55</td>\n",
       "      <td>1.28</td>\n",
       "    </tr>\n",
       "    <tr>\n",
       "      <th>1</th>\n",
       "      <td>Mini batch</td>\n",
       "      <td>0.00</td>\n",
       "      <td>0.00</td>\n",
       "      <td>0.00</td>\n",
       "      <td>0.00</td>\n",
       "    </tr>\n",
       "    <tr>\n",
       "      <th>2</th>\n",
       "      <td>PSO+MSE</td>\n",
       "      <td>0.84</td>\n",
       "      <td>2.41</td>\n",
       "      <td>1.55</td>\n",
       "      <td>1.28</td>\n",
       "    </tr>\n",
       "    <tr>\n",
       "      <th>3</th>\n",
       "      <td>PSO+MAE</td>\n",
       "      <td>0.83</td>\n",
       "      <td>2.43</td>\n",
       "      <td>1.56</td>\n",
       "      <td>1.28</td>\n",
       "    </tr>\n",
       "  </tbody>\n",
       "</table>\n",
       "</div>"
      ],
      "text/plain": [
       "         Name    R2   MSE  RMSE   MAE\n",
       "0         BGD  0.84  2.42  1.55  1.28\n",
       "1  Mini batch  0.00  0.00  0.00  0.00\n",
       "2     PSO+MSE  0.84  2.41  1.55  1.28\n",
       "3     PSO+MAE  0.83  2.43  1.56  1.28"
      ]
     },
     "execution_count": 215,
     "metadata": {},
     "output_type": "execute_result"
    }
   ],
   "source": [
    "\n",
    "table = {'Name': ['BGD', 'Mini batch', 'PSO+MSE', 'PSO+MAE'],\n",
    "        'R2':[0.84, 0,0.84,0.83],\n",
    "        'MSE':[2.42,0 , 2.41, 2.43],\n",
    "        'RMSE':[1.55, 0, 1.55, 1.56],\n",
    "        'MAE':[1.28,0 , 1.28,1.28]}\n",
    "table = pd.DataFrame (table, columns = ['Name', 'R2', 'MSE', 'RMSE', 'MAE'])\n",
    "\n",
    "table"
   ]
  },
  {
   "cell_type": "code",
   "execution_count": 212,
   "metadata": {},
   "outputs": [
    {
     "data": {
      "text/html": [
       "<div>\n",
       "<style scoped>\n",
       "    .dataframe tbody tr th:only-of-type {\n",
       "        vertical-align: middle;\n",
       "    }\n",
       "\n",
       "    .dataframe tbody tr th {\n",
       "        vertical-align: top;\n",
       "    }\n",
       "\n",
       "    .dataframe thead th {\n",
       "        text-align: right;\n",
       "    }\n",
       "</style>\n",
       "<table border=\"1\" class=\"dataframe\">\n",
       "  <thead>\n",
       "    <tr style=\"text-align: right;\">\n",
       "      <th></th>\n",
       "      <th>Name</th>\n",
       "      <th>Accuracy</th>\n",
       "      <th>Precision</th>\n",
       "      <th>Recall</th>\n",
       "      <th>F1</th>\n",
       "    </tr>\n",
       "  </thead>\n",
       "  <tbody>\n",
       "    <tr>\n",
       "      <th>0</th>\n",
       "      <td>kNN</td>\n",
       "      <td>0.94</td>\n",
       "      <td>0.93</td>\n",
       "      <td>0.91</td>\n",
       "      <td>0.92</td>\n",
       "    </tr>\n",
       "    <tr>\n",
       "      <th>1</th>\n",
       "      <td>naive Bayes</td>\n",
       "      <td>0.86</td>\n",
       "      <td>0.81</td>\n",
       "      <td>0.84</td>\n",
       "      <td>0.82</td>\n",
       "    </tr>\n",
       "    <tr>\n",
       "      <th>2</th>\n",
       "      <td>SVM</td>\n",
       "      <td>0.98</td>\n",
       "      <td>0.98</td>\n",
       "      <td>0.96</td>\n",
       "      <td>0.97</td>\n",
       "    </tr>\n",
       "    <tr>\n",
       "      <th>3</th>\n",
       "      <td>decision tree</td>\n",
       "      <td>0.87</td>\n",
       "      <td>0.82</td>\n",
       "      <td>0.80</td>\n",
       "      <td>0.81</td>\n",
       "    </tr>\n",
       "    <tr>\n",
       "      <th>4</th>\n",
       "      <td>random forest</td>\n",
       "      <td>0.97</td>\n",
       "      <td>0.97</td>\n",
       "      <td>0.94</td>\n",
       "      <td>0.95</td>\n",
       "    </tr>\n",
       "    <tr>\n",
       "      <th>5</th>\n",
       "      <td>AdaBoost</td>\n",
       "      <td>0.92</td>\n",
       "      <td>0.89</td>\n",
       "      <td>0.88</td>\n",
       "      <td>0.89</td>\n",
       "    </tr>\n",
       "    <tr>\n",
       "      <th>6</th>\n",
       "      <td>gradient Boosting</td>\n",
       "      <td>0.95</td>\n",
       "      <td>0.94</td>\n",
       "      <td>0.92</td>\n",
       "      <td>0.93</td>\n",
       "    </tr>\n",
       "    <tr>\n",
       "      <th>7</th>\n",
       "      <td>linear discriminant analysis</td>\n",
       "      <td>0.89</td>\n",
       "      <td>0.86</td>\n",
       "      <td>0.83</td>\n",
       "      <td>0.85</td>\n",
       "    </tr>\n",
       "    <tr>\n",
       "      <th>8</th>\n",
       "      <td>multi-layer perceptron</td>\n",
       "      <td>0.99</td>\n",
       "      <td>0.99</td>\n",
       "      <td>0.99</td>\n",
       "      <td>0.99</td>\n",
       "    </tr>\n",
       "    <tr>\n",
       "      <th>9</th>\n",
       "      <td>logistic regression</td>\n",
       "      <td>0.90</td>\n",
       "      <td>0.87</td>\n",
       "      <td>0.96</td>\n",
       "      <td>0.86</td>\n",
       "    </tr>\n",
       "  </tbody>\n",
       "</table>\n",
       "</div>"
      ],
      "text/plain": [
       "                           Name  Accuracy  Precision  Recall    F1\n",
       "0                           kNN      0.94       0.93    0.91  0.92\n",
       "1                   naive Bayes      0.86       0.81    0.84  0.82\n",
       "2                           SVM      0.98       0.98    0.96  0.97\n",
       "3                 decision tree      0.87       0.82    0.80  0.81\n",
       "4                 random forest      0.97       0.97    0.94  0.95\n",
       "5                      AdaBoost      0.92       0.89    0.88  0.89\n",
       "6             gradient Boosting      0.95       0.94    0.92  0.93\n",
       "7  linear discriminant analysis      0.89       0.86    0.83  0.85\n",
       "8        multi-layer perceptron      0.99       0.99    0.99  0.99\n",
       "9           logistic regression      0.90       0.87    0.96  0.86"
      ]
     },
     "execution_count": 212,
     "metadata": {},
     "output_type": "execute_result"
    }
   ],
   "source": [
    "table = {'Name':  ['kNN', 'naive Bayes', 'SVM', 'decision tree', 'random forest',  'AdaBoost', 'gradient Boosting', 'linear discriminant analysis', 'multi-layer perceptron', 'logistic regression'],\n",
    "         'Accuracy': [0.94,0.86,0.98,0.87,0.97,0.92,0.95,0.89,0.99,0.90],\n",
    "         'Precision': [0.93,0.81,0.98,0.82,0.97,0.89,0.94,0.86,0.99,0.87],\n",
    "         'Recall': [0.91,0.84,0.96,0.80,0.94,0.88,0.92,0.83,0.99,0.96],\n",
    "         'F1':[0.92,0.82,0.97,0.81,0.95,0.89,0.93,0.85,0.99,0.86]}\n",
    "         \n",
    "         \n",
    "\n",
    "        \n",
    "table = pd.DataFrame (table, columns = ['Name','Accuracy','Precision', 'Recall', 'F1'])\n",
    "\n",
    "table"
   ]
  },
  {
   "cell_type": "code",
   "execution_count": null,
   "metadata": {},
   "outputs": [],
   "source": []
  }
 ],
 "metadata": {
  "kernelspec": {
   "display_name": "Python 3",
   "language": "python",
   "name": "python3"
  },
  "language_info": {
   "codemirror_mode": {
    "name": "ipython",
    "version": 3
   },
   "file_extension": ".py",
   "mimetype": "text/x-python",
   "name": "python",
   "nbconvert_exporter": "python",
   "pygments_lexer": "ipython3",
   "version": "3.7.6"
  }
 },
 "nbformat": 4,
 "nbformat_minor": 4
}
